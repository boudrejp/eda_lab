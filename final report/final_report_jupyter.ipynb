{
 "cells": [
  {
   "cell_type": "markdown",
   "metadata": {},
   "source": [
    "# Cancer Mortality Exploration\n",
    "\n",
    "Zeliang (Doug) Xu, Arjun Chakraborty, John Boudreaux\n",
    "\n",
    "_An exploratory analysis of county characteristics as they relate to cancer death rates_\n",
    "\n",
    "## Introduction\n",
    "This exploratory analysis is meant to address the research question: \n",
    "\n",
    "__What factors are related to the cancer death rate in US counties?__\n",
    "\n",
    "By looking at the dataset and our general intuition about cancer, we believe that there are two major sources of contributing factors that lead to higher cancer death rate for each physical region:\n",
    "\n",
    "* Higher cancer occurance rates will lead to more cases of cancer deaths in a particular region\n",
    "* Worse cancer treatment facilities, policies, personnel, etc. will lead to more cancer deaths in a particular region\n",
    "\n",
    "To explore this research question and sub-topics, we will employ various statistical techniques including subsetting the data, descriptive statistics, outlier detection and treatment, multivariate correlations, and others. In particular, our analysis will focus heavily on using graphical methods to illustrate various aspects about our dataset. We find certain relationships, particularly in the area of insurance coverage, that prove interesting as levers for policy change.\n",
    "\n",
    "It is important to note that our analysis is not meant to prove any sort of causality. All of our methods and conclusions are purely meant as descriptive methods to explore the relationships within the data. Additionally, this dataset has some very particular issues that indicate further data collection or clarification may be necessary to fully validate the results. For instance, there is no documentation on the basis of the death rate- is this a death rate per 100,000 people, averaged over some period? Is it normalized in any way? Is it only deaths from cancer? Without further documentation, we can still perform some analysis but the full translation into reality is still somewhat unknown.\n",
    "\n",
    "In this report, we will use R (>=3.4) to perform the analysis. We will provide code for all graphics and analysis performed so that the reader can reproduce this analysis with the given dataset."
   ]
  },
  {
   "cell_type": "code",
   "execution_count": null,
   "metadata": {
    "collapsed": true
   },
   "outputs": [],
   "source": []
  }
 ],
 "metadata": {
  "kernelspec": {
   "display_name": "R",
   "language": "R",
   "name": "ir"
  },
  "language_info": {
   "codemirror_mode": "r",
   "file_extension": ".r",
   "mimetype": "text/x-r-source",
   "name": "R",
   "pygments_lexer": "r",
   "version": "3.4.3"
  }
 },
 "nbformat": 4,
 "nbformat_minor": 2
}
