{
 "cells": [
  {
   "cell_type": "markdown",
   "metadata": {},
   "source": [
    "# Cancer Mortality Exploration\n",
    "\n",
    "Zeliang (Doug) Xu, Arjun Chakraborty, John Boudreaux\n",
    "\n",
    "_An exploratory analysis of county characteristics as they relate to cancer death rates_\n",
    "\n",
    "## Introduction\n",
    "This exploratory analysis is meant to address the research topic: \n",
    "\n",
    "__What are the key contributing factors to high cancer death rate in some US counties? How might we be able to reduce high cancer death rates?__\n",
    "\n",
    "By looking at the dataset and our general intuition about cancer, we believe that there are two major sources of contributing factors that lead to higher cancer death rate for each physical region:\n",
    "\n",
    "* Higher cancer occurance rates will lead to more cases of cancer deaths in a particular region\n",
    "* Worse cancer treatment facilities, policies, personnel, etc. will lead to more cancer deaths in a particular region\n",
    "\n",
    "To explore this research question and sub-topics, we will employ various statistical techniques including subsetting the data, descriptive statistics, outlier detection and treatment, multivariate correlations, and others. In particular, our analysis will focus heavily on using graphical methods to illustrate various aspects about our dataset. We find certain relationships, particularly in the area of insurance coverage, that prove interesting as levers for policy change.\n",
    "\n",
    "It is important to note that our analysis is not meant to prove any sort of causality. All of our methods and conclusions are purely meant as descriptive methods to explore the relationships within the data. Additionally, this dataset has some very particular issues that indicate further data collection or clarification may be necessary to fully validate the results. For instance, there is no documentation on the basis of the death rate- is this a death rate per 100,000 people, averaged over some period? Is it normalized in any way? Is it only deaths from cancer? Without further documentation, we can still perform some analysis but still need to clarify some assumptions before action can be responsibly taken.\n",
    "\n",
    "In this report, we will use R (>=3.4) to perform the analysis. We will provide code for all graphics and analysis performed so that the reader can reproduce this analysis with the given dataset."
   ]
  },
  {
   "cell_type": "markdown",
   "metadata": {},
   "source": [
    "## Data Preparation\n",
    "\n",
    "Below is a collection of libraries that we use for the study:"
   ]
  },
  {
   "cell_type": "code",
   "execution_count": 18,
   "metadata": {},
   "outputs": [],
   "source": [
    "library(car)   # to enable csv import, plots functions\n",
    "library(stringr)   # to enable string splitting\n",
    "library(corrplot)   # to enable corrplot\n",
    "library(data.table)   # to be able to change the indexing of data frame\n",
    "options(repr.plot.width=5, repr.plot.height=4) # formatting for reasonable plot size"
   ]
  },
  {
   "cell_type": "code",
   "execution_count": 19,
   "metadata": {
    "collapsed": true
   },
   "outputs": [],
   "source": [
    "#may need to change address depending on where you have it saved\n",
    "data <- read.csv(\"../project materials/cancer.csv\")"
   ]
  },
  {
   "cell_type": "code",
   "execution_count": 20,
   "metadata": {},
   "outputs": [
    {
     "data": {
      "text/html": [
       "<ol class=list-inline>\n",
       "\t<li>3047</li>\n",
       "\t<li>30</li>\n",
       "</ol>\n"
      ],
      "text/latex": [
       "\\begin{enumerate*}\n",
       "\\item 3047\n",
       "\\item 30\n",
       "\\end{enumerate*}\n"
      ],
      "text/markdown": [
       "1. 3047\n",
       "2. 30\n",
       "\n",
       "\n"
      ],
      "text/plain": [
       "[1] 3047   30"
      ]
     },
     "metadata": {},
     "output_type": "display_data"
    }
   ],
   "source": [
    "dim(data)"
   ]
  },
  {
   "cell_type": "markdown",
   "metadata": {},
   "source": [
    "Our data has 3047 observations of 30 variables. These dimensions ought to be sufficient for many subsetting operations we may want to do with the data. The variables all describe different properties of US counties, primarily focusing on demographic data."
   ]
  },
  {
   "cell_type": "code",
   "execution_count": 64,
   "metadata": {},
   "outputs": [
    {
     "name": "stdout",
     "output_type": "stream",
     "text": [
      "'data.frame':\t3047 obs. of  33 variables:\n",
      " $ X                   : int  1 2 3 4 5 6 7 8 9 10 ...\n",
      " $ avgAnnCount         : num  1397 173 102 427 57 ...\n",
      " $ medIncome           : int  61898 48127 49348 44243 49955 52313 37782 40189 42579 60397 ...\n",
      " $ popEst2015          : int  260131 43269 21026 75882 10321 61023 41516 20848 13088 843954 ...\n",
      " $ povertyPercent      : num  11.2 18.6 14.6 17.1 12.5 15.6 23.2 17.8 22.3 13.1 ...\n",
      " $ binnedInc           : Factor w/ 10 levels \"(34218.1, 37413.8]\",..: 9 6 6 4 6 7 2 2 3 8 ...\n",
      " $ MedianAge           : num  39.3 33 45 42.8 48.3 45.4 42.6 51.7 49.3 35.8 ...\n",
      " $ MedianAgeMale       : num  36.9 32.2 44 42.2 47.8 43.5 42.2 50.8 48.4 34.7 ...\n",
      " $ MedianAgeFemale     : num  41.7 33.7 45.8 43.4 48.9 48 43.5 52.5 49.8 37 ...\n",
      " $ Geography           : chr  \"Kitsap County, Washington\" \"Kittitas County, Washington\" \"Klickitat County, Washington\" \"Lewis County, Washington\" ...\n",
      " $ AvgHouseholdSize    : num  2.54 2.34 2.62 2.52 2.34 2.58 2.42 2.24 2.38 2.65 ...\n",
      " $ PercentMarried      : num  52.5 44.5 54.2 52.7 57.8 50.4 54.1 52.7 55.9 50 ...\n",
      " $ PctNoHS18_24        : num  11.5 6.1 24 20.2 14.9 29.9 26.1 27.3 34.7 15.6 ...\n",
      " $ PctHS18_24          : num  39.5 22.4 36.6 41.2 43 35.1 41.4 33.9 39.4 36.3 ...\n",
      " $ PctSomeCol18_24     : num  42.1 64 NA 36.1 40 NA NA 36.5 NA NA ...\n",
      " $ PctBachDeg18_24     : num  6.9 7.5 9.5 2.5 2 4.5 5.8 2.2 1.4 7.1 ...\n",
      " $ PctHS25_Over        : num  23.2 26 29 31.6 33.4 30.4 29.8 31.6 32.2 28.8 ...\n",
      " $ PctBachDeg25_Over   : num  19.6 22.7 16 9.3 15 11.9 11.9 11.3 12 16.2 ...\n",
      " $ PctEmployed16_Over  : num  51.9 55.9 45.9 48.3 48.2 44.1 51.8 40.9 39.5 56.6 ...\n",
      " $ PctUnemployed16_Over: num  8 7.8 7 12.1 4.8 12.9 8.9 8.9 10.3 9.2 ...\n",
      " $ PctPrivateCoverage  : num  75.1 70.2 63.7 58.4 61.6 60 49.5 55.8 55.5 69.9 ...\n",
      " $ PctEmpPrivCoverage  : num  41.6 43.6 34.9 35 35.1 32.6 28.3 25.9 29.9 44.4 ...\n",
      " $ PctPublicCoverage   : num  32.9 31.1 42.1 45.3 44 43.2 46.4 50.9 48.1 31.4 ...\n",
      " $ PctWhite            : num  81.8 89.2 90.9 91.7 94.1 ...\n",
      " $ PctBlack            : num  2.595 0.969 0.74 0.783 0.27 ...\n",
      " $ PctAsian            : num  4.822 2.246 0.466 1.161 0.666 ...\n",
      " $ PctOtherRace        : num  1.843 3.741 2.747 1.363 0.492 ...\n",
      " $ PctMarriedHouseholds: num  52.9 45.4 54.4 51 54 ...\n",
      " $ BirthRate           : num  6.12 4.33 3.73 4.6 6.8 ...\n",
      " $ deathRate           : num  165 161 175 195 144 ...\n",
      " $ total_race          : num  91 96.2 94.9 95.1 95.5 ...\n",
      " $ logpopEst2015       : num  12.47 10.68 9.95 11.24 9.24 ...\n",
      " $ state               : Factor w/ 51 levels \"Alabama\",\"Alaska\",..: 48 48 48 48 48 48 48 48 48 48 ...\n"
     ]
    }
   ],
   "source": [
    "# normally would do summary()... but this does not print for good report\n",
    "str(data)"
   ]
  },
  {
   "cell_type": "markdown",
   "metadata": {},
   "source": [
    "From the summary statistics, boxplots, and histograms for each parameter _(most excluded from this report for the sake of brevity; can easily be reproduced using the `boxplot` and `hist` functions in R)_ we found a few peculiarities in the data that we must address before going further. First, over half of our observations for `PctSomeCol18_24` are missing values. We should be wary of any sort of statistically significant results we obtain with this variable, since sampling effects will likely alter some of the true dynamics in the data. There are also missing values in `PctEmployed16_Over`, but this is a much smaller number and does not necessarily warrant the same degree of caution for `PctSomeCol18_24`.\n",
    "\n",
    "In addition to missing values, there are some values that don't make a ton of sense with reality. Looking at the columns denoting race (`PctWhite`, `PctBlack`, `PctAsian`, `PctOtherRace`) it does not seem intuitive that any county in the US would truly be 100% or 0% any value. When we check to see if the total sum of all races adds up to 100, we see that there are many examples that do not come close to 100% accounted for, with over 10% of observations not adding up to 95%. Our analysis will not focus deeply on race relationships, due to the subadequate data. Had we looked deeper into these, it may have been prudent to do some sort of data transformation to get rid of the skew in the data."
   ]
  },
  {
   "cell_type": "code",
   "execution_count": 22,
   "metadata": {},
   "outputs": [
    {
     "name": "stderr",
     "output_type": "stream",
     "text": [
      "The details of data for total race percentage is: \n"
     ]
    },
    {
     "data": {
      "text/plain": [
       "   Min. 1st Qu.  Median    Mean 3rd Qu.    Max. \n",
       "  11.23   96.41   97.70   95.99   98.42  100.00 "
      ]
     },
     "metadata": {},
     "output_type": "display_data"
    },
    {
     "name": "stderr",
     "output_type": "stream",
     "text": [
      "There are 421 rows of data with total race percentage smaller than 95%\n",
      "There are 24 rows of data with total race percentage smaller than 50%\n",
      "There are 6 rows of data with total race percentage smaller than 20%\n"
     ]
    },
    {
     "data": {
      "image/png": "[encoded data removed]",
      "text/plain": [
       "Plot with title \"Race Total\""
      ]
     },
     "metadata": {},
     "output_type": "display_data"
    }
   ],
   "source": [
    "data$total_race <- data$PctAsian + data$PctBlack + data$PctWhite + data$PctOtherRace\n",
    "message(\"The details of data for total race percentage is: \")\n",
    "summary(data$total_race)\n",
    "message(\"There are \",nrow(subset(data,data$total_race < 95)), \" rows of data with total race percentage smaller than 95%\")\n",
    "message(\"There are \",nrow(subset(data,data$total_race < 50)), \" rows of data with total race percentage smaller than 50%\")\n",
    "message(\"There are \",nrow(subset(data,data$total_race < 20)), \" rows of data with total race percentage smaller than 20%\")\n",
    "\n",
    "boxplot(data$total_race, main = \"Race Total\")"
   ]
  },
  {
   "cell_type": "markdown",
   "metadata": {},
   "source": [
    "When we look at the `MedianAge` column, we see some unreasonable high outliers. By examining the boxplot below, we found that values above 65 were nonsensical. These were assigned the `NA` value to be exlcuded from further analysis. This should not effect the analysis much, as these are only 31 values being removed (~1% total observations)."
   ]
  },
  {
   "cell_type": "code",
   "execution_count": 23,
   "metadata": {},
   "outputs": [
    {
     "data": {
      "text/html": [
       "31"
      ],
      "text/latex": [
       "31"
      ],
      "text/markdown": [
       "31"
      ],
      "text/plain": [
       "[1] 31"
      ]
     },
     "metadata": {},
     "output_type": "display_data"
    },
    {
     "data": {
      "image/png": "[encoded data removed]",
      "text/plain": [
       "Plot with title \"Median Age\""
      ]
     },
     "metadata": {},
     "output_type": "display_data"
    }
   ],
   "source": [
    "boxplot(data$MedianAge, main = \"Median Age\")\n",
    "\n",
    "#filter out outliers\n",
    "data$MedianAge[data$MedianAge > 65] <- NA\n",
    "sum(is.na(data$MedianAge))"
   ]
  },
  {
   "cell_type": "markdown",
   "metadata": {},
   "source": [
    "We also found that there are 61 instances of an Average Household Size being less than 1. While this may have some reasoning in real life such as secondary properties, there was no such documentation to confirm this. As such, we removed all values less than 1 since this does not make sense with our default assumptions that one person must live in a place for it to be considered a household. Again, this is a small amount of observations and should not effect many results in a major way."
   ]
  },
  {
   "cell_type": "code",
   "execution_count": 24,
   "metadata": {},
   "outputs": [
    {
     "data": {
      "text/html": [
       "61"
      ],
      "text/latex": [
       "61"
      ],
      "text/markdown": [
       "61"
      ],
      "text/plain": [
       "[1] 61"
      ]
     },
     "metadata": {},
     "output_type": "display_data"
    },
    {
     "data": {
      "image/png": "[encoded data removed]",
      "text/plain": [
       "Plot with title \"Average Household Size\""
      ]
     },
     "metadata": {},
     "output_type": "display_data"
    }
   ],
   "source": [
    "boxplot(data$AvgHouseholdSize, \n",
    "        main = \"Average Household Size\")\n",
    "\n",
    "data$AvgHouseholdSize[data$AvgHouseholdSize < 1] <- NA\n",
    "sum(is.na(data$AvgHouseholdSize))"
   ]
  },
  {
   "cell_type": "markdown",
   "metadata": {},
   "source": [
    "We found one value where `PctHS18_24` was zero. In the US, it is difficult to believe that not one person in any given county has completed high school. We take away this value from further analysis. "
   ]
  },
  {
   "cell_type": "code",
   "execution_count": 25,
   "metadata": {},
   "outputs": [
    {
     "data": {
      "text/html": [
       "1"
      ],
      "text/latex": [
       "1"
      ],
      "text/markdown": [
       "1"
      ],
      "text/plain": [
       "[1] 1"
      ]
     },
     "metadata": {},
     "output_type": "display_data"
    }
   ],
   "source": [
    "data$PctHS18_24[data$PctHS18_24 == 0] <- NA\n",
    "sum(is.na(data$PctHS18_24))"
   ]
  },
  {
   "cell_type": "markdown",
   "metadata": {},
   "source": [
    "The population data in `popEst2015` shows very heavy skew towards lower values, but the higher values also make sense for the hyper-urbanized areas such as Los Angeles, Chicago, New York, and the others that they represent. In this case, a log transformation could prove useful for further analysis to have a more uniform distribution of values."
   ]
  },
  {
   "cell_type": "code",
   "execution_count": 26,
   "metadata": {},
   "outputs": [
    {
     "data": {
      "image/png": "[encoded data removed]",
      "text/plain": [
       "Plot with title \"Original population estimates\""
      ]
     },
     "metadata": {},
     "output_type": "display_data"
    }
   ],
   "source": [
    "hist(data$popEst2015, , breaks = 50, main = \"Original population estimates\")"
   ]
  },
  {
   "cell_type": "code",
   "execution_count": 27,
   "metadata": {},
   "outputs": [
    {
     "data": {
      "image/png": "[encoded data removed]",
      "text/plain": [
       "Plot with title \"Log transform population estimates\""
      ]
     },
     "metadata": {},
     "output_type": "display_data"
    }
   ],
   "source": [
    "data$logpopEst2015 <- log(data$popEst2015)\n",
    "hist(data$logpopEst2015, breaks = 50, main = \"Log transform population estimates\")"
   ]
  },
  {
   "cell_type": "markdown",
   "metadata": {},
   "source": [
    "The last major item we have to address is the variables that are factors. The `binnedInc` column contains a categorical value for the bracket of the median income. Since this value is inherently contained by the `MedIncome` variable, we largely ignored this category since we can just as easily subset it on our own. There is another value that contains structured data in a string format in the `Geography` field, which gives the unique county for each observation. Individual counties are probably not so useful, but having the states as a factor to subset the data could prove useful."
   ]
  },
  {
   "cell_type": "code",
   "execution_count": 28,
   "metadata": {},
   "outputs": [
    {
     "data": {
      "text/html": [
       "<ol class=list-inline>\n",
       "\t<li>Montana</li>\n",
       "\t<li>Florida</li>\n",
       "\t<li>Texas</li>\n",
       "\t<li>Texas</li>\n",
       "\t<li>Indiana</li>\n",
       "</ol>\n"
      ],
      "text/latex": [
       "\\begin{enumerate*}\n",
       "\\item Montana\n",
       "\\item Florida\n",
       "\\item Texas\n",
       "\\item Texas\n",
       "\\item Indiana\n",
       "\\end{enumerate*}\n"
      ],
      "text/markdown": [
       "1. Montana\n",
       "2. Florida\n",
       "3. Texas\n",
       "4. Texas\n",
       "5. Indiana\n",
       "\n",
       "\n"
      ],
      "text/plain": [
       "[1] Montana Florida Texas   Texas   Indiana\n",
       "51 Levels: Alabama Alaska Arizona Arkansas California Colorado ... Wyoming"
      ]
     },
     "metadata": {},
     "output_type": "display_data"
    }
   ],
   "source": [
    "#create the state column\n",
    "data$Geography <- as.character(data$Geography)\n",
    "split.geo <- strsplit(as.character(data$Geography), \", \")\n",
    "states <- sapply(split.geo, \n",
    "                 function(x){\n",
    "                   return(x[2])\n",
    "                   })\n",
    "data$state <- as.factor(states)\n",
    "sample(data$state, 5)"
   ]
  },
  {
   "cell_type": "markdown",
   "metadata": {},
   "source": [
    "## Exploratory Data Analysis\n",
    "\n",
    "Given that our overall target is to better understand the death rate due to cancer, it probably makes most sense to look at this variable first. We see that it appears to follow more or less of a Gaussian curve _(note: refraining from implenting tests for normality until they are covered in course material)._ "
   ]
  },
  {
   "cell_type": "code",
   "execution_count": 29,
   "metadata": {},
   "outputs": [
    {
     "data": {
      "image/png": "[encoded data removed]",
      "text/plain": [
       "Plot with title \"Death Rate\""
      ]
     },
     "metadata": {},
     "output_type": "display_data"
    }
   ],
   "source": [
    "hist(data$deathRate, breaks = 40, main = \"Death Rate\")"
   ]
  },
  {
   "cell_type": "markdown",
   "metadata": {},
   "source": [
    "To give guidance into what relationships in our data might be more interesting than others, we used the `corrplot` function from the `corrplot` package. This gives a visualization of the strength of the Pearson corrlation between various parameters. We note that we used a specific setting to only include values in which both observations were defined in calculating the Pearson coefficient (any `NA` values excluded). In this graphic, color <font color=blue>__blue__</font> represents positive correlation factor while color <font color=red>__red__</font> represents negative correlation. White indicates there is no clear correlation between the variables."
   ]
  },
  {
   "cell_type": "code",
   "execution_count": 30,
   "metadata": {},
   "outputs": [
    {
     "data": {
      "image/png": "[encoded data removed]",
      "text/plain": [
       "Plot with title \"\""
      ]
     },
     "metadata": {},
     "output_type": "display_data"
    }
   ],
   "source": [
    "# only include numerical columns in correlation matrix\n",
    "numeric.cols <- as.logical(unlist(lapply(data, is.numeric)))\n",
    "corr.matrix <- cor(data[,numeric.cols], use = \"pairwise.complete.obs\")\n",
    "\n",
    "corrplot(corr.matrix, is.corr=T , \n",
    "         method = \"color\", \n",
    "         type='lower',\n",
    "         tl.cex = 0.5)"
   ]
  },
  {
   "cell_type": "markdown",
   "metadata": {
    "collapsed": true
   },
   "source": [
    "When looking at the corrplot, it is important to note that the colors only correspond to purely linear correlations in the data. If there are dynamics other than simple linear relationships, they may not have proper coloring to indicate that they are truly correlated. An example of this is to look at the difference in coloring of the `logpopEst2015` vs. `popEst2015`. The log transformed version of the data has stronger relationships with most variables, which indicates this might be a more useful variable to work with. In general, the `scatterplotMatrix` function from the `cor` package will give us better functionality to look at the distributions and relationships between a smaller amount of variables, but the above graphic allows for a better global view.\n",
    "\n",
    "There are many \"sanity checks\" that we can gain from our data by looking at the corrplot. For instance, `medIncome` and `povertyPercent` are strongly negatively correlated. All of our parameters dealing with insurance make intuitive sense- the more public coverage, the less private coverage since people likely do not have 2 separate insurance plans. `PercentMarried` and `PctMarriedHouseholds` have a strong positive correlation, which seems logical. With sanity checks like these, we can ensure that parts of our data reflect reality.\n",
    "\n",
    "Some interesting associations that are worth noting include the extremely high negative corrlation between `PctWhite` and `PctBlack`. While it makes sense these should be negatively correlated since they are different components of a whole, they show a much stronger relationship than any other two races. Additionally, the higher poverty rate areas and higher marriage percentage areas tend to have a higher percentage of black population and a lower percentage of whites. This shows some strong indication that segregation is prevalent in the counties in our dataset. In a different part of our data, education past a bachelor level is strongly correlated with both employment and private insurance coverage. Conversely, high poverty levels tend to be associated with higher public coverage, higher unemployment, and less bachelor-level education. \n",
    "\n",
    "Our target variable, `deathRate`, appears to have some interesting correlations that should warrant further investigation. For positive correlations,  `povertyPercent`, `PctHS25_Over`, `PctUnemployed16_Over`, and `PctPublicCoverage` appear to be important. For negative correlations, `medIncome`, `PctBachDeg25_Over`, and `PctEmployed16_Over` all seem important. Since ideally `PctEmployed16_Over` and `PctUnemployed16_Over` essentially tell the same information, we can look at only one of these. Even though they are less strong than the others mentioned, the insurance variables show that more public coverage tends to be associated with higher death rates, and more private coverage (whether through employers or self-bought) tends to be associated with lower death rates.\n",
    "\n",
    "#### Subsetting of the high death rate counties\n",
    "\n",
    "For further exploratory analysis, we want to define what constitutes a high death rate. We do this by using the upper bound inter-quartile range."
   ]
  },
  {
   "cell_type": "code",
   "execution_count": 32,
   "metadata": {},
   "outputs": [
    {
     "name": "stdout",
     "output_type": "stream",
     "text": [
      "[1] \"There are 761 observations in the highest quartile.\"\n",
      "[1] \"The cutoff value is 195.2\"\n"
     ]
    }
   ],
   "source": [
    "deathRatequrt3 <- quantile(data$deathRate, 0.75, na.rm=T)\n",
    "\n",
    "data.higher <- subset(data, data$deathRate > deathRatequrt3)\n",
    "print(paste0(\"There are \", nrow(data.higher), \" observations in the highest quartile.\"))\n",
    "print(paste0(\"The cutoff value is \", deathRatequrt3))\n",
    "\n",
    "data.lower <- subset(data, data$deathRate < deathRatequrt3)"
   ]
  },
  {
   "cell_type": "markdown",
   "metadata": {},
   "source": [
    "We now look into the geography of the of the now-defined high death rate counties. From a boxplot, we see that the death rate varies state by state. A more detailed approach shows that the higher death rate states tend to be in the south, and Kentucky has the most high death rate counties by a wide margin."
   ]
  },
  {
   "cell_type": "code",
   "execution_count": 63,
   "metadata": {},
   "outputs": [
    {
     "data": {
      "image/png": "[encoded data removed]",
      "text/plain": [
       "plot without title"
      ]
     },
     "metadata": {},
     "output_type": "display_data"
    }
   ],
   "source": [
    "options(repr.plot.width=8.5, repr.plot.height=4) # let this plot be wider\n",
    "boxplot(deathRate~state, data = data, las = 2)\n",
    "options(repr.plot.width=5, repr.plot.height=4) # set back to default settings"
   ]
  },
  {
   "cell_type": "code",
   "execution_count": 47,
   "metadata": {},
   "outputs": [
    {
     "data": {
      "text/html": [
       "<table>\n",
       "<thead><tr><th></th><th scope=col>Counties_total</th><th scope=col>Counties_highDeathRate</th><th scope=col>Counties_HDR_Perc</th></tr></thead>\n",
       "<tbody>\n",
       "\t<tr><th scope=row>Kentucky</th><td>120      </td><td>91       </td><td>0.7583333</td></tr>\n",
       "\t<tr><th scope=row>Tennessee</th><td> 95      </td><td>57       </td><td>0.6000000</td></tr>\n",
       "\t<tr><th scope=row>Louisiana</th><td> 64      </td><td>38       </td><td>0.5937500</td></tr>\n",
       "\t<tr><th scope=row>Arkansas</th><td> 75      </td><td>44       </td><td>0.5866667</td></tr>\n",
       "\t<tr><th scope=row>Mississippi</th><td> 82      </td><td>47       </td><td>0.5731707</td></tr>\n",
       "\t<tr><th scope=row>West Virginia</th><td> 55      </td><td>28       </td><td>0.5090909</td></tr>\n",
       "</tbody>\n",
       "</table>\n"
      ],
      "text/latex": [
       "\\begin{tabular}{r|lll}\n",
       "  & Counties\\_total & Counties\\_highDeathRate & Counties\\_HDR\\_Perc\\\\\n",
       "\\hline\n",
       "\tKentucky & 120       & 91        & 0.7583333\\\\\n",
       "\tTennessee &  95       & 57        & 0.6000000\\\\\n",
       "\tLouisiana &  64       & 38        & 0.5937500\\\\\n",
       "\tArkansas &  75       & 44        & 0.5866667\\\\\n",
       "\tMississippi &  82       & 47        & 0.5731707\\\\\n",
       "\tWest Virginia &  55       & 28        & 0.5090909\\\\\n",
       "\\end{tabular}\n"
      ],
      "text/markdown": [
       "\n",
       "| <!--/--> | Counties_total | Counties_highDeathRate | Counties_HDR_Perc | \n",
       "|---|---|---|---|---|---|\n",
       "| Kentucky | 120       | 91        | 0.7583333 | \n",
       "| Tennessee |  95       | 57        | 0.6000000 | \n",
       "| Louisiana |  64       | 38        | 0.5937500 | \n",
       "| Arkansas |  75       | 44        | 0.5866667 | \n",
       "| Mississippi |  82       | 47        | 0.5731707 | \n",
       "| West Virginia |  55       | 28        | 0.5090909 | \n",
       "\n",
       "\n"
      ],
      "text/plain": [
       "              Counties_total Counties_highDeathRate Counties_HDR_Perc\n",
       "Kentucky      120            91                     0.7583333        \n",
       "Tennessee      95            57                     0.6000000        \n",
       "Louisiana      64            38                     0.5937500        \n",
       "Arkansas       75            44                     0.5866667        \n",
       "Mississippi    82            47                     0.5731707        \n",
       "West Virginia  55            28                     0.5090909        "
      ]
     },
     "metadata": {},
     "output_type": "display_data"
    }
   ],
   "source": [
    "state.summ <- data.frame(summary(data$state))\n",
    "names(state.summ) <- c(\"Counties_total\")\n",
    "\n",
    "# group with higher death rate\n",
    "state.summ1 <- data.frame(summary(data.higher$state))\n",
    "names(state.summ1) <- c(\"Counties_total\")\n",
    "\n",
    "state.summ$Counties_highDeathRate <- state.summ1$Counties_total\n",
    "\n",
    "# Percentage of counties with higher death reate for each state\n",
    "state.summ$Counties_HDR_Perc <- state.summ$Counties_highDeathRate/state.summ$Counties_total\n",
    "\n",
    "head(state.summ[order(state.summ$Counties_HDR_Perc, decreasing = TRUE),])"
   ]
  },
  {
   "cell_type": "markdown",
   "metadata": {},
   "source": [
    "The analysis above shows that higher death rates cross state lines, but tend to stay below the Mason-Dixon line. Kentucky seems to be in a group of its own, with roughly 76% of its counties in the high death rate range. The other high death rate states are bunched closer to the 50-60% range, so Kentucky stands out and warrants further analysis. A quick google search shows that Kentucky particularly has high rates of obesity and smoking along with a lack of screening. Further research into this could provide additional insight, but is outside of the scope of the data given for this report.\n",
    "\n",
    "We now shift our focus to exploring if raw numbers of cancer incidents correspond to higher rates of cancer deaths. We use a state-wide aggregation approach to look at the ratio of cancer incidents to the total population, and see how these correspond to the death rate in the state."
   ]
  },
  {
   "cell_type": "code",
   "execution_count": 59,
   "metadata": {},
   "outputs": [
    {
     "data": {
      "text/html": [
       "<table>\n",
       "<thead><tr><th scope=col>rn</th><th scope=col>state</th><th scope=col>total_incident</th><th scope=col>popEst</th><th scope=col>incdtRatio</th><th scope=col>avgDeathRate</th></tr></thead>\n",
       "<tbody>\n",
       "\t<tr><td>17           </td><td>Kansas       </td><td>200192.10    </td><td> 2831088     </td><td>0.070712074  </td><td>167.8343     </td></tr>\n",
       "\t<tr><td>24           </td><td>Minnesota    </td><td>170752.09    </td><td> 5489594     </td><td>0.031104684  </td><td>161.4816     </td></tr>\n",
       "\t<tr><td>29           </td><td>Nevada       </td><td> 33365.35    </td><td> 2890845     </td><td>0.011541729  </td><td>177.4353     </td></tr>\n",
       "\t<tr><td>20           </td><td>Maine        </td><td>  8214.00    </td><td> 1329328     </td><td>0.006179062  </td><td>183.1500     </td></tr>\n",
       "\t<tr><td>49           </td><td>West Virginia</td><td> 11130.00    </td><td> 1844128     </td><td>0.006035373  </td><td>196.7109     </td></tr>\n",
       "\t<tr><td>39           </td><td>Pennsylvania </td><td> 75909.00    </td><td>12802503     </td><td>0.005929231  </td><td>175.4224     </td></tr>\n",
       "\t<tr><td>30           </td><td>New Hampshire</td><td>  7561.00    </td><td> 1330608     </td><td>0.005682365  </td><td>170.8800     </td></tr>\n",
       "\t<tr><td>46           </td><td>Vermont      </td><td>  3548.00    </td><td>  626042     </td><td>0.005667351  </td><td>176.2714     </td></tr>\n",
       "\t<tr><td>7            </td><td>Connecticut  </td><td> 20304.00    </td><td> 3590886     </td><td>0.005654315  </td><td>157.7125     </td></tr>\n",
       "\t<tr><td>18           </td><td>Kentucky     </td><td> 24765.00    </td><td> 4425092     </td><td>0.005596494  </td><td>215.3158     </td></tr>\n",
       "</tbody>\n",
       "</table>\n"
      ],
      "text/latex": [
       "\\begin{tabular}{r|llllll}\n",
       " rn & state & total\\_incident & popEst & incdtRatio & avgDeathRate\\\\\n",
       "\\hline\n",
       "\t 17            & Kansas        & 200192.10     &  2831088      & 0.070712074   & 167.8343     \\\\\n",
       "\t 24            & Minnesota     & 170752.09     &  5489594      & 0.031104684   & 161.4816     \\\\\n",
       "\t 29            & Nevada        &  33365.35     &  2890845      & 0.011541729   & 177.4353     \\\\\n",
       "\t 20            & Maine         &   8214.00     &  1329328      & 0.006179062   & 183.1500     \\\\\n",
       "\t 49            & West Virginia &  11130.00     &  1844128      & 0.006035373   & 196.7109     \\\\\n",
       "\t 39            & Pennsylvania  &  75909.00     & 12802503      & 0.005929231   & 175.4224     \\\\\n",
       "\t 30            & New Hampshire &   7561.00     &  1330608      & 0.005682365   & 170.8800     \\\\\n",
       "\t 46            & Vermont       &   3548.00     &   626042      & 0.005667351   & 176.2714     \\\\\n",
       "\t 7             & Connecticut   &  20304.00     &  3590886      & 0.005654315   & 157.7125     \\\\\n",
       "\t 18            & Kentucky      &  24765.00     &  4425092      & 0.005596494   & 215.3158     \\\\\n",
       "\\end{tabular}\n"
      ],
      "text/markdown": [
       "\n",
       "rn | state | total_incident | popEst | incdtRatio | avgDeathRate | \n",
       "|---|---|---|---|---|---|---|---|---|---|\n",
       "| 17            | Kansas        | 200192.10     |  2831088      | 0.070712074   | 167.8343      | \n",
       "| 24            | Minnesota     | 170752.09     |  5489594      | 0.031104684   | 161.4816      | \n",
       "| 29            | Nevada        |  33365.35     |  2890845      | 0.011541729   | 177.4353      | \n",
       "| 20            | Maine         |   8214.00     |  1329328      | 0.006179062   | 183.1500      | \n",
       "| 49            | West Virginia |  11130.00     |  1844128      | 0.006035373   | 196.7109      | \n",
       "| 39            | Pennsylvania  |  75909.00     | 12802503      | 0.005929231   | 175.4224      | \n",
       "| 30            | New Hampshire |   7561.00     |  1330608      | 0.005682365   | 170.8800      | \n",
       "| 46            | Vermont       |   3548.00     |   626042      | 0.005667351   | 176.2714      | \n",
       "| 7             | Connecticut   |  20304.00     |  3590886      | 0.005654315   | 157.7125      | \n",
       "| 18            | Kentucky      |  24765.00     |  4425092      | 0.005596494   | 215.3158      | \n",
       "\n",
       "\n"
      ],
      "text/plain": [
       "   rn state         total_incident popEst   incdtRatio  avgDeathRate\n",
       "1  17 Kansas        200192.10       2831088 0.070712074 167.8343    \n",
       "2  24 Minnesota     170752.09       5489594 0.031104684 161.4816    \n",
       "3  29 Nevada         33365.35       2890845 0.011541729 177.4353    \n",
       "4  20 Maine           8214.00       1329328 0.006179062 183.1500    \n",
       "5  49 West Virginia  11130.00       1844128 0.006035373 196.7109    \n",
       "6  39 Pennsylvania   75909.00      12802503 0.005929231 175.4224    \n",
       "7  30 New Hampshire   7561.00       1330608 0.005682365 170.8800    \n",
       "8  46 Vermont         3548.00        626042 0.005667351 176.2714    \n",
       "9  7  Connecticut    20304.00       3590886 0.005654315 157.7125    \n",
       "10 18 Kentucky       24765.00       4425092 0.005596494 215.3158    "
      ]
     },
     "metadata": {},
     "output_type": "display_data"
    }
   ],
   "source": [
    "sum_incdt <- data.frame(aggregate(data$avgAnnCount, by=list(Category=data$state),FUN=sum))\n",
    "names(sum_incdt) <- c(\"state\",\"total_incident\")\n",
    "sum_incdt <- setDT(sum_incdt, keep.rownames = TRUE)[]\n",
    "# tail(sum_incdt[order(sum_incdt$total_incident)],20)\n",
    "\n",
    "#add the total population of state and the incident ratio\n",
    "sum_pop <- data.frame(aggregate(data$popEst2015, by=list(Category=data$state),FUN=sum))\n",
    "sum_incdt$popEst <- sum_pop$x\n",
    "sum_incdt$incdtRatio <- sum_incdt$total_incident/sum_incdt$popEst\n",
    "\n",
    "# average state-wide death rate\n",
    "sum_deathRate <- data.frame(aggregate(data$deathRate, by=list(Category=data$state),mean))\n",
    "sum_incdt$avgDeathRate <- sum_deathRate$x\n",
    "\n",
    "head(sum_incdt[order(sum_incdt$incdtRatio, decreasing = TRUE),], 10)\n",
    "\n"
   ]
  },
  {
   "cell_type": "code",
   "execution_count": 60,
   "metadata": {},
   "outputs": [
    {
     "data": {
      "text/html": [
       "<table>\n",
       "<thead><tr><th></th><th scope=col>incdtRatio</th><th scope=col>avgDeathRate</th></tr></thead>\n",
       "<tbody>\n",
       "\t<tr><th scope=row>incdtRatio</th><td> 1.00000000</td><td>-0.06621098</td></tr>\n",
       "\t<tr><th scope=row>avgDeathRate</th><td>-0.06621098</td><td> 1.00000000</td></tr>\n",
       "</tbody>\n",
       "</table>\n"
      ],
      "text/latex": [
       "\\begin{tabular}{r|ll}\n",
       "  & incdtRatio & avgDeathRate\\\\\n",
       "\\hline\n",
       "\tincdtRatio &  1.00000000 & -0.06621098\\\\\n",
       "\tavgDeathRate & -0.06621098 &  1.00000000\\\\\n",
       "\\end{tabular}\n"
      ],
      "text/markdown": [
       "\n",
       "| <!--/--> | incdtRatio | avgDeathRate | \n",
       "|---|---|\n",
       "| incdtRatio |  1.00000000 | -0.06621098 | \n",
       "| avgDeathRate | -0.06621098 |  1.00000000 | \n",
       "\n",
       "\n"
      ],
      "text/plain": [
       "             incdtRatio  avgDeathRate\n",
       "incdtRatio    1.00000000 -0.06621098 \n",
       "avgDeathRate -0.06621098  1.00000000 "
      ]
     },
     "metadata": {},
     "output_type": "display_data"
    }
   ],
   "source": [
    "cor(sum_incdt[,c(5, 6)])"
   ]
  },
  {
   "cell_type": "markdown",
   "metadata": {},
   "source": [
    "Had cancer incidents been strongly related to cancer deaths, we would have expected to see Kentucky closer to the top of this list. We see that the correlation coefficient is close to zero, which shows that this relationship is not so strong. This was also seen in the corrplot earlier in the report. This suggests that the relationship between incidents and deaths is not the strongest factor at play and may not be the correct area to focus on for policy recommendation.\n",
    "\n",
    "We now shift our focus to measures of treatment. In our dataset, this is best seen through the insurance parameters. In general, we would expect to see that higher percentages of private insurance plans would correspond to better treatment and therefore fewer cancer deaths."
   ]
  },
  {
   "cell_type": "code",
   "execution_count": 67,
   "metadata": {},
   "outputs": [
    {
     "data": {
      "image/png": "[encoded data removed]",
      "text/plain": [
       "plot without title"
      ]
     },
     "metadata": {},
     "output_type": "display_data"
    }
   ],
   "source": [
    "# add to the table above with insurance coverage\n",
    "# average private coverage by state\n",
    "sum_PriCov <- data.frame(aggregate(data$PctPrivateCoverage, by=list(Category=data$state),mean))\n",
    "\n",
    "# average private employed coverage by state\n",
    "sum_PriEmCov <- data.frame(aggregate(data$PctEmpPrivCoverage, by=list(Category=data$state),mean))\n",
    "# average public coverage by state\n",
    "sum_PubCov <- data.frame(aggregate(data$PctPublicCoverage, by=list(Category=data$state),mean))\n",
    "\n",
    "sum_incdt$Private_Co <- sum_PriCov$x\n",
    "sum_incdt$PriEm_Co <- sum_PriEmCov$x\n",
    "sum_incdt$Pub_Co <- sum_PubCov$x\n",
    "\n",
    "options(repr.plot.width=7, repr.plot.height=7)\n",
    "scatterplotMatrix(~incdtRatio + avgDeathRate + Private_Co + PriEm_Co + Pub_Co, data = sum_incdt)\n",
    "options(repr.plot.width=5, repr.plot.height=4)\n"
   ]
  },
  {
   "cell_type": "markdown",
   "metadata": {},
   "source": [
    "We can see a few things by looking into the scatterplot matrix. First, the top 3 values of our incident ratio are outliers compared to the rest of the data. These correspond to Kansas, Minnesota, and Nevada. Next, there appears to be a bimodal distribution when looking at the private insurance coverage. We see a pronounced negative correlation between the death rate and all of the private insurance options, and a positive correlation with public insurance percentage. This gives some credence to the thought that better insurance may lead to better treatment for those with cancer, and ultimately lead to lower deaths.\n",
    "\n"
   ]
  },
  {
   "cell_type": "code",
   "execution_count": 75,
   "metadata": {},
   "outputs": [
    {
     "name": "stderr",
     "output_type": "stream",
     "text": [
      "Poverty Percentage\n"
     ]
    },
    {
     "data": {
      "text/plain": [
       "   Min. 1st Qu.  Median    Mean 3rd Qu.    Max. \n",
       "  9.838  12.685  15.081  15.875  18.625  25.399 "
      ]
     },
     "metadata": {},
     "output_type": "display_data"
    },
    {
     "name": "stderr",
     "output_type": "stream",
     "text": [
      "median income\n"
     ]
    },
    {
     "data": {
      "text/plain": [
       "   Min. 1st Qu.  Median    Mean 3rd Qu.    Max. \n",
       "  35659   43438   50044   50575   55450   72135 "
      ]
     },
     "metadata": {},
     "output_type": "display_data"
    },
    {
     "name": "stderr",
     "output_type": "stream",
     "text": [
      "Percentage Employed\n"
     ]
    },
    {
     "data": {
      "text/plain": [
       "   Min. 1st Qu.  Median    Mean 3rd Qu.    Max. \n",
       "  45.37   50.50   55.72   55.38   60.64   63.81 "
      ]
     },
     "metadata": {},
     "output_type": "display_data"
    }
   ],
   "source": [
    "sum_PovPerc <- data.frame(aggregate(data$povertyPercent, by=list(Category=data$state),mean))\n",
    "\n",
    "# average private employed coverage by state\n",
    "sum_income <- data.frame(aggregate(data$medIncome, by=list(Category=data$state),mean))\n",
    "# average public coverage by state\n",
    "sum_Employed <- data.frame(aggregate(data$PctEmployed16_Over, by=list(Category=data$state),mean, na.rm = T))\n",
    "\n",
    "sum_incdt$PovPerc <- sum_PovPerc$x\n",
    "sum_incdt$income <- sum_income$x\n",
    "sum_incdt$Employed <- sum_Employed$x\n",
    "\n",
    "message(\"Poverty Percentage\")\n",
    "summary(sum_incdt$PovPerc)\n",
    "message(\"median income\")\n",
    "summary(sum_incdt$income)\n",
    "message(\"Percentage Employed\")\n",
    "summary(sum_incdt$Employed)"
   ]
  },
  {
   "cell_type": "code",
   "execution_count": 76,
   "metadata": {},
   "outputs": [
    {
     "data": {
      "text/html": [
       "<table>\n",
       "<thead><tr><th scope=col>rn</th><th scope=col>state</th><th scope=col>total_incident</th><th scope=col>popEst</th><th scope=col>incdtRatio</th><th scope=col>avgDeathRate</th><th scope=col>Private_Co</th><th scope=col>PriEm_Co</th><th scope=col>Pub_Co</th><th scope=col>PovPerc</th><th scope=col>income</th><th scope=col>Employed</th></tr></thead>\n",
       "<tbody>\n",
       "\t<tr><td>26           </td><td>Missouri     </td><td>30939        </td><td>6083672      </td><td>0.005085580  </td><td>189.6948     </td><td>63.16348     </td><td>40.07913     </td><td>36.47478     </td><td>17.97652     </td><td>41522.63     </td><td>53.35000     </td></tr>\n",
       "\t<tr><td>1            </td><td>Alabama      </td><td>24182        </td><td>4750529      </td><td>0.005090380  </td><td>192.7286     </td><td>61.48571     </td><td>38.48730     </td><td>39.32063     </td><td>21.94286     </td><td>38871.13     </td><td>47.92167     </td></tr>\n",
       "\t<tr><td>2            </td><td>Alaska       </td><td> 2512        </td><td> 706895      </td><td>0.003553569  </td><td>193.4167     </td><td>56.79444     </td><td>39.77222     </td><td>28.75000     </td><td>13.89444     </td><td>63487.78     </td><td>60.68125     </td></tr>\n",
       "\t<tr><td>37           </td><td>Oklahoma     </td><td>18555        </td><td>3911338      </td><td>0.004743901  </td><td>193.9494     </td><td>59.65325     </td><td>37.29481     </td><td>36.38052     </td><td>17.68961     </td><td>43818.78     </td><td>53.37867     </td></tr>\n",
       "\t<tr><td>49           </td><td>West Virginia</td><td>11130        </td><td>1844128      </td><td>0.006035373  </td><td>196.7109     </td><td>60.77636     </td><td>40.61273     </td><td>42.84364     </td><td>19.34909     </td><td>39391.80     </td><td>46.63333     </td></tr>\n",
       "\t<tr><td>19           </td><td>Louisiana    </td><td>23242        </td><td>4670724      </td><td>0.004976102  </td><td>197.6734     </td><td>57.03906     </td><td>37.90000     </td><td>37.36250     </td><td>22.24063     </td><td>41705.95     </td><td>49.84407     </td></tr>\n",
       "\t<tr><td>4            </td><td>Arkansas     </td><td>14762        </td><td>2978204      </td><td>0.004956679  </td><td>200.0907     </td><td>54.35333     </td><td>33.29867     </td><td>44.21467     </td><td>21.34133     </td><td>37577.95     </td><td>49.24648     </td></tr>\n",
       "\t<tr><td>43           </td><td>Tennessee    </td><td>33284        </td><td>6600299      </td><td>0.005042802  </td><td>200.8758     </td><td>60.56737     </td><td>38.53684     </td><td>39.93895     </td><td>19.73053     </td><td>40645.47     </td><td>49.71000     </td></tr>\n",
       "\t<tr><td>25           </td><td>Mississippi  </td><td>15007        </td><td>2992333      </td><td>0.005015150  </td><td>202.8378     </td><td>52.56707     </td><td>34.20122     </td><td>41.98049     </td><td>25.39878     </td><td>35659.48     </td><td>47.12785     </td></tr>\n",
       "\t<tr><td>18           </td><td>Kentucky     </td><td>24765        </td><td>4425092      </td><td>0.005596494  </td><td>215.3158     </td><td>59.02000     </td><td>39.64833     </td><td>41.30083     </td><td>21.85333     </td><td>39687.22     </td><td>48.62768     </td></tr>\n",
       "</tbody>\n",
       "</table>\n"
      ],
      "text/latex": [
       "\\begin{tabular}{r|llllllllllll}\n",
       " rn & state & total\\_incident & popEst & incdtRatio & avgDeathRate & Private\\_Co & PriEm\\_Co & Pub\\_Co & PovPerc & income & Employed\\\\\n",
       "\\hline\n",
       "\t 26            & Missouri      & 30939         & 6083672       & 0.005085580   & 189.6948      & 63.16348      & 40.07913      & 36.47478      & 17.97652      & 41522.63      & 53.35000     \\\\\n",
       "\t 1             & Alabama       & 24182         & 4750529       & 0.005090380   & 192.7286      & 61.48571      & 38.48730      & 39.32063      & 21.94286      & 38871.13      & 47.92167     \\\\\n",
       "\t 2             & Alaska        &  2512         &  706895       & 0.003553569   & 193.4167      & 56.79444      & 39.77222      & 28.75000      & 13.89444      & 63487.78      & 60.68125     \\\\\n",
       "\t 37            & Oklahoma      & 18555         & 3911338       & 0.004743901   & 193.9494      & 59.65325      & 37.29481      & 36.38052      & 17.68961      & 43818.78      & 53.37867     \\\\\n",
       "\t 49            & West Virginia & 11130         & 1844128       & 0.006035373   & 196.7109      & 60.77636      & 40.61273      & 42.84364      & 19.34909      & 39391.80      & 46.63333     \\\\\n",
       "\t 19            & Louisiana     & 23242         & 4670724       & 0.004976102   & 197.6734      & 57.03906      & 37.90000      & 37.36250      & 22.24063      & 41705.95      & 49.84407     \\\\\n",
       "\t 4             & Arkansas      & 14762         & 2978204       & 0.004956679   & 200.0907      & 54.35333      & 33.29867      & 44.21467      & 21.34133      & 37577.95      & 49.24648     \\\\\n",
       "\t 43            & Tennessee     & 33284         & 6600299       & 0.005042802   & 200.8758      & 60.56737      & 38.53684      & 39.93895      & 19.73053      & 40645.47      & 49.71000     \\\\\n",
       "\t 25            & Mississippi   & 15007         & 2992333       & 0.005015150   & 202.8378      & 52.56707      & 34.20122      & 41.98049      & 25.39878      & 35659.48      & 47.12785     \\\\\n",
       "\t 18            & Kentucky      & 24765         & 4425092       & 0.005596494   & 215.3158      & 59.02000      & 39.64833      & 41.30083      & 21.85333      & 39687.22      & 48.62768     \\\\\n",
       "\\end{tabular}\n"
      ],
      "text/markdown": [
       "\n",
       "rn | state | total_incident | popEst | incdtRatio | avgDeathRate | Private_Co | PriEm_Co | Pub_Co | PovPerc | income | Employed | \n",
       "|---|---|---|---|---|---|---|---|---|---|\n",
       "| 26            | Missouri      | 30939         | 6083672       | 0.005085580   | 189.6948      | 63.16348      | 40.07913      | 36.47478      | 17.97652      | 41522.63      | 53.35000      | \n",
       "| 1             | Alabama       | 24182         | 4750529       | 0.005090380   | 192.7286      | 61.48571      | 38.48730      | 39.32063      | 21.94286      | 38871.13      | 47.92167      | \n",
       "| 2             | Alaska        |  2512         |  706895       | 0.003553569   | 193.4167      | 56.79444      | 39.77222      | 28.75000      | 13.89444      | 63487.78      | 60.68125      | \n",
       "| 37            | Oklahoma      | 18555         | 3911338       | 0.004743901   | 193.9494      | 59.65325      | 37.29481      | 36.38052      | 17.68961      | 43818.78      | 53.37867      | \n",
       "| 49            | West Virginia | 11130         | 1844128       | 0.006035373   | 196.7109      | 60.77636      | 40.61273      | 42.84364      | 19.34909      | 39391.80      | 46.63333      | \n",
       "| 19            | Louisiana     | 23242         | 4670724       | 0.004976102   | 197.6734      | 57.03906      | 37.90000      | 37.36250      | 22.24063      | 41705.95      | 49.84407      | \n",
       "| 4             | Arkansas      | 14762         | 2978204       | 0.004956679   | 200.0907      | 54.35333      | 33.29867      | 44.21467      | 21.34133      | 37577.95      | 49.24648      | \n",
       "| 43            | Tennessee     | 33284         | 6600299       | 0.005042802   | 200.8758      | 60.56737      | 38.53684      | 39.93895      | 19.73053      | 40645.47      | 49.71000      | \n",
       "| 25            | Mississippi   | 15007         | 2992333       | 0.005015150   | 202.8378      | 52.56707      | 34.20122      | 41.98049      | 25.39878      | 35659.48      | 47.12785      | \n",
       "| 18            | Kentucky      | 24765         | 4425092       | 0.005596494   | 215.3158      | 59.02000      | 39.64833      | 41.30083      | 21.85333      | 39687.22      | 48.62768      | \n",
       "\n",
       "\n"
      ],
      "text/plain": [
       "   rn state         total_incident popEst  incdtRatio  avgDeathRate Private_Co\n",
       "1  26 Missouri      30939          6083672 0.005085580 189.6948     63.16348  \n",
       "2  1  Alabama       24182          4750529 0.005090380 192.7286     61.48571  \n",
       "3  2  Alaska         2512           706895 0.003553569 193.4167     56.79444  \n",
       "4  37 Oklahoma      18555          3911338 0.004743901 193.9494     59.65325  \n",
       "5  49 West Virginia 11130          1844128 0.006035373 196.7109     60.77636  \n",
       "6  19 Louisiana     23242          4670724 0.004976102 197.6734     57.03906  \n",
       "7  4  Arkansas      14762          2978204 0.004956679 200.0907     54.35333  \n",
       "8  43 Tennessee     33284          6600299 0.005042802 200.8758     60.56737  \n",
       "9  25 Mississippi   15007          2992333 0.005015150 202.8378     52.56707  \n",
       "10 18 Kentucky      24765          4425092 0.005596494 215.3158     59.02000  \n",
       "   PriEm_Co Pub_Co   PovPerc  income   Employed\n",
       "1  40.07913 36.47478 17.97652 41522.63 53.35000\n",
       "2  38.48730 39.32063 21.94286 38871.13 47.92167\n",
       "3  39.77222 28.75000 13.89444 63487.78 60.68125\n",
       "4  37.29481 36.38052 17.68961 43818.78 53.37867\n",
       "5  40.61273 42.84364 19.34909 39391.80 46.63333\n",
       "6  37.90000 37.36250 22.24063 41705.95 49.84407\n",
       "7  33.29867 44.21467 21.34133 37577.95 49.24648\n",
       "8  38.53684 39.93895 19.73053 40645.47 49.71000\n",
       "9  34.20122 41.98049 25.39878 35659.48 47.12785\n",
       "10 39.64833 41.30083 21.85333 39687.22 48.62768"
      ]
     },
     "metadata": {},
     "output_type": "display_data"
    }
   ],
   "source": [
    "tail(sum_incdt[order(sum_incdt$avgDeathRate)],10)"
   ]
  },
  {
   "cell_type": "markdown",
   "metadata": {},
   "source": [
    "When aggregate by state to find the highest death rates, we find that all average incomes are below the mean income and higher than the median poverty percentage with the exception of Alaska. Additionally, all of the employment statistics for the high death rate states are below the mean value. Both of these facts support the hypothesis of more money means more availability to treatment."
   ]
  },
  {
   "cell_type": "markdown",
   "metadata": {},
   "source": [
    "As noted from the corrplot earlier in the analysis, it is important to note that private insurance and public insurance have strong relationships with employment and median income. This would seem to suggest that the ultimate thing effecting cancer death rate may be money, which is not independent from private insurance, employment, or education. We will take a deeper dive to see exactly the relationship with all of these variables."
   ]
  },
  {
   "cell_type": "code",
   "execution_count": 72,
   "metadata": {},
   "outputs": [
    {
     "data": {
      "image/png": "[encoded data removed]",
      "text/plain": [
       "plot without title"
      ]
     },
     "metadata": {},
     "output_type": "display_data"
    }
   ],
   "source": [
    "options(repr.plot.width=7, repr.plot.height=7)\n",
    "scatterplotMatrix(~medIncome + PctBachDeg18_24 + PctBachDeg25_Over + PctPrivateCoverage + PctEmployed16_Over, data = data)\n",
    "options(repr.plot.width=5, repr.plot.height=4)"
   ]
  },
  {
   "cell_type": "markdown",
   "metadata": {},
   "source": [
    "Across the board, we see clear positive correlations between all of these variables. We do not present any methods to prove causality in this analysis; therefore, we cannot say if any of these parameters directly lead to another."
   ]
  },
  {
   "cell_type": "markdown",
   "metadata": {},
   "source": [
    "## Conclusions"
   ]
  },
  {
   "cell_type": "markdown",
   "metadata": {},
   "source": [
    "Our analysis was intended to find relationships between demographic data and the death rate by cancer in the US. We hypothesized that there should be two different main aspects of the death rate: total overall cases of cancer, and quality of treatment. "
   ]
  },
  {
   "cell_type": "markdown",
   "metadata": {},
   "source": [
    "Upon further analysis, there did not appear to be any sort of relationship between the cancer cases in a country (`avgAnnCount`) with a correlation coefficient of -0.066. We presume that treatment quality could be better with private coverage, and indeed there appears to be a tendency for cancer deaths to be lower in locations with higher private insurance coverages. These effects, however, could be due to a wide variety of parameters in our data. Income, employment and education levels have strong associations with private insurance coverage. Because we have not performed any statistical analysis to prove causality, we cannot prove that any one of these things causes the other or the cancer death rate."
   ]
  },
  {
   "cell_type": "markdown",
   "metadata": {},
   "source": [
    "For policy recommendations, one thing we have seen is that higher rates of public insurance leads to more cancer deaths. For whatever reason, there appear to be shortcomings in the treatment provided by public coverage. If we can improve the public coverage, this is probably the strongest independent lever we have to improve the death rate from cancer."
   ]
  },
  {
   "cell_type": "markdown",
   "metadata": {},
   "source": []
  }
 ],
 "metadata": {
  "kernelspec": {
   "display_name": "R",
   "language": "R",
   "name": "ir"
  },
  "language_info": {
   "codemirror_mode": "r",
   "file_extension": ".r",
   "mimetype": "text/x-r-source",
   "name": "R",
   "pygments_lexer": "r",
   "version": "3.4.3"
  }
 },
 "nbformat": 4,
 "nbformat_minor": 2
}
