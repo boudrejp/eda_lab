{
 "cells": [
  {
   "cell_type": "markdown",
   "metadata": {},
   "source": [
    "# Cancer Mortality Exploration\n",
    "\n",
    "Zeliang (Doug) Xu, Arjun Chakraborty, John Boudreaux\n",
    "\n",
    "_An exploratory analysis of county characteristics as they relate to cancer death rates_\n",
    "\n",
    "## Introduction\n",
    "This exploratory analysis is meant to address the research question: \n",
    "\n",
    "__What factors are related to the cancer death rate in US counties?__\n",
    "\n",
    "By looking at the dataset and our general intuition about cancer, we believe that there are two major sources of contributing factors that lead to higher cancer death rate for each physical region:\n",
    "\n",
    "* Higher cancer occurance rates will lead to more cases of cancer deaths in a particular region\n",
    "* Worse cancer treatment facilities, policies, personnel, etc. will lead to more cancer deaths in a particular region\n",
    "\n",
    "To explore this research question and sub-topics, we will employ various statistical techniques including subsetting the data, descriptive statistics, outlier detection and treatment, multivariate correlations, and others. In particular, our analysis will focus heavily on using graphical methods to illustrate various aspects about our dataset. We find certain relationships, particularly in the area of insurance coverage, that prove interesting as levers for policy change.\n",
    "\n",
    "It is important to note that our analysis is not meant to prove any sort of causality. All of our methods and conclusions are purely meant as descriptive methods to explore the relationships within the data. Additionally, this dataset has some very particular issues that indicate further data collection or clarification may be necessary to fully validate the results. For instance, there is no documentation on the basis of the death rate- is this a death rate per 100,000 people, averaged over some period? Is it normalized in any way? Is it only deaths from cancer? Without further documentation, we can still perform some analysis but still need to clarify some assumptions before action can be responsibly taken.\n",
    "\n",
    "In this report, we will use R (>=3.4) to perform the analysis. We will provide code for all graphics and analysis performed so that the reader can reproduce this analysis with the given dataset."
   ]
  },
  {
   "cell_type": "markdown",
   "metadata": {},
   "source": [
    "## Data Preparation\n",
    "\n",
    "Below is a collection of libraries that we use for the study:"
   ]
  },
  {
   "cell_type": "code",
   "execution_count": 18,
   "metadata": {},
   "outputs": [],
   "source": [
    "library(car)   # to enable csv import, plots functions\n",
    "library(stringr)   # to enable string splitting\n",
    "library(corrplot)   # to enable corrplot\n",
    "library(data.table)   # to be able to change the indexing of data frame\n",
    "options(repr.plot.width=5, repr.plot.height=4) # formatting for reasonable plot size"
   ]
  },
  {
   "cell_type": "code",
   "execution_count": 19,
   "metadata": {
    "collapsed": true
   },
   "outputs": [],
   "source": [
    "#may need to change address depending on where you have it saved\n",
    "data <- read.csv(\"../project materials/cancer.csv\")"
   ]
  },
  {
   "cell_type": "code",
   "execution_count": 20,
   "metadata": {},
   "outputs": [
    {
     "data": {
      "text/html": [
       "<ol class=list-inline>\n",
       "\t<li>3047</li>\n",
       "\t<li>30</li>\n",
       "</ol>\n"
      ],
      "text/latex": [
       "\\begin{enumerate*}\n",
       "\\item 3047\n",
       "\\item 30\n",
       "\\end{enumerate*}\n"
      ],
      "text/markdown": [
       "1. 3047\n",
       "2. 30\n",
       "\n",
       "\n"
      ],
      "text/plain": [
       "[1] 3047   30"
      ]
     },
     "metadata": {},
     "output_type": "display_data"
    }
   ],
   "source": [
    "dim(data)"
   ]
  },
  {
   "cell_type": "markdown",
   "metadata": {},
   "source": [
    "Our data has 3047 observations of 30 variables. These dimensions ought to be sufficient for many subsetting operations we may want to do with the data. The variables all describe different properties of US counties, primarily focusing on demographic data."
   ]
  },
  {
   "cell_type": "code",
   "execution_count": 21,
   "metadata": {},
   "outputs": [
    {
     "data": {
      "text/plain": [
       "       X           avgAnnCount        medIncome        popEst2015      \n",
       " Min.   :   1.0   Min.   :    6.0   Min.   : 22640   Min.   :     827  \n",
       " 1st Qu.: 762.5   1st Qu.:   76.0   1st Qu.: 38883   1st Qu.:   11684  \n",
       " Median :1524.0   Median :  171.0   Median : 45207   Median :   26643  \n",
       " Mean   :1524.0   Mean   :  606.3   Mean   : 47063   Mean   :  102637  \n",
       " 3rd Qu.:2285.5   3rd Qu.:  518.0   3rd Qu.: 52492   3rd Qu.:   68671  \n",
       " Max.   :3047.0   Max.   :38150.0   Max.   :125635   Max.   :10170292  \n",
       "                                                                       \n",
       " povertyPercent               binnedInc      MedianAge      MedianAgeMale  \n",
       " Min.   : 3.20   (45201, 48021.6]  : 306   Min.   : 22.30   Min.   :22.40  \n",
       " 1st Qu.:12.15   (54545.6, 61494.5]: 306   1st Qu.: 37.70   1st Qu.:36.35  \n",
       " Median :15.90   [22640, 34218.1]  : 306   Median : 41.00   Median :39.60  \n",
       " Mean   :16.88   (42724.4, 45201]  : 305   Mean   : 45.27   Mean   :39.57  \n",
       " 3rd Qu.:20.40   (48021.6, 51046.4]: 305   3rd Qu.: 44.00   3rd Qu.:42.50  \n",
       " Max.   :47.40   (51046.4, 54545.6]: 305   Max.   :624.00   Max.   :64.70  \n",
       "                 (Other)           :1214                                   \n",
       " MedianAgeFemale                            Geography    AvgHouseholdSize\n",
       " Min.   :22.30   Abbeville County, South Carolina:   1   Min.   :0.0221  \n",
       " 1st Qu.:39.10   Acadia Parish, Louisiana        :   1   1st Qu.:2.3700  \n",
       " Median :42.40   Accomack County, Virginia       :   1   Median :2.5000  \n",
       " Mean   :42.15   Ada County, Idaho               :   1   Mean   :2.4797  \n",
       " 3rd Qu.:45.30   Adair County, Iowa              :   1   3rd Qu.:2.6300  \n",
       " Max.   :65.70   Adair County, Kentucky          :   1   Max.   :3.9700  \n",
       "                 (Other)                         :3041                   \n",
       " PercentMarried   PctNoHS18_24     PctHS18_24   PctSomeCol18_24\n",
       " Min.   :23.10   Min.   : 0.00   Min.   : 0.0   Min.   : 7.10  \n",
       " 1st Qu.:47.75   1st Qu.:12.80   1st Qu.:29.2   1st Qu.:34.00  \n",
       " Median :52.40   Median :17.10   Median :34.7   Median :40.40  \n",
       " Mean   :51.77   Mean   :18.22   Mean   :35.0   Mean   :40.98  \n",
       " 3rd Qu.:56.40   3rd Qu.:22.70   3rd Qu.:40.7   3rd Qu.:46.40  \n",
       " Max.   :72.50   Max.   :64.10   Max.   :72.5   Max.   :79.00  \n",
       "                                                NA's   :2285   \n",
       " PctBachDeg18_24   PctHS25_Over   PctBachDeg25_Over PctEmployed16_Over\n",
       " Min.   : 0.000   Min.   : 7.50   Min.   : 2.50     Min.   :17.60     \n",
       " 1st Qu.: 3.100   1st Qu.:30.40   1st Qu.: 9.40     1st Qu.:48.60     \n",
       " Median : 5.400   Median :35.30   Median :12.30     Median :54.50     \n",
       " Mean   : 6.158   Mean   :34.80   Mean   :13.28     Mean   :54.15     \n",
       " 3rd Qu.: 8.200   3rd Qu.:39.65   3rd Qu.:16.10     3rd Qu.:60.30     \n",
       " Max.   :51.800   Max.   :54.80   Max.   :42.20     Max.   :80.10     \n",
       "                                                    NA's   :152       \n",
       " PctUnemployed16_Over PctPrivateCoverage PctEmpPrivCoverage PctPublicCoverage\n",
       " Min.   : 0.400       Min.   :22.30      Min.   :13.5       Min.   :11.20    \n",
       " 1st Qu.: 5.500       1st Qu.:57.20      1st Qu.:34.5       1st Qu.:30.90    \n",
       " Median : 7.600       Median :65.10      Median :41.1       Median :36.30    \n",
       " Mean   : 7.852       Mean   :64.35      Mean   :41.2       Mean   :36.25    \n",
       " 3rd Qu.: 9.700       3rd Qu.:72.10      3rd Qu.:47.7       3rd Qu.:41.55    \n",
       " Max.   :29.400       Max.   :92.30      Max.   :70.7       Max.   :65.10    \n",
       "                                                                             \n",
       "    PctWhite         PctBlack          PctAsian        PctOtherRace    \n",
       " Min.   : 10.20   Min.   : 0.0000   Min.   : 0.0000   Min.   : 0.0000  \n",
       " 1st Qu.: 77.30   1st Qu.: 0.6207   1st Qu.: 0.2542   1st Qu.: 0.2952  \n",
       " Median : 90.06   Median : 2.2476   Median : 0.5498   Median : 0.8262  \n",
       " Mean   : 83.65   Mean   : 9.1080   Mean   : 1.2540   Mean   : 1.9835  \n",
       " 3rd Qu.: 95.45   3rd Qu.:10.5097   3rd Qu.: 1.2210   3rd Qu.: 2.1780  \n",
       " Max.   :100.00   Max.   :85.9478   Max.   :42.6194   Max.   :41.9303  \n",
       "                                                                       \n",
       " PctMarriedHouseholds   BirthRate        deathRate    \n",
       " Min.   :22.99        Min.   : 0.000   Min.   : 59.7  \n",
       " 1st Qu.:47.76        1st Qu.: 4.521   1st Qu.:161.2  \n",
       " Median :51.67        Median : 5.381   Median :178.1  \n",
       " Mean   :51.24        Mean   : 5.640   Mean   :178.7  \n",
       " 3rd Qu.:55.40        3rd Qu.: 6.494   3rd Qu.:195.2  \n",
       " Max.   :78.08        Max.   :21.326   Max.   :362.8  \n",
       "                                                      "
      ]
     },
     "metadata": {},
     "output_type": "display_data"
    }
   ],
   "source": [
    "summary(data)"
   ]
  },
  {
   "cell_type": "markdown",
   "metadata": {},
   "source": [
    "From the summary statistics, boxplots, and histograms for each parameter _(most excluded from this report for the sake of brevity; can easily be reproduced using the `boxplot` and `hist` functions in R)_ we found a few peculiarities in the data that we must address before going further. First, over half of our observations for `PctSomeCol18_24` are missing values. We should be wary of any sort of statistically significant results we obtain with this variable, since sampling effects will likely alter some of the true dynamics in the data. There are also missing values in `PctEmployed16_Over`, but this is a much smaller number and does not necessarily warrant the same degree of caution for `PctSomeCol18_24`.\n",
    "\n",
    "In addition to missing values, there are some values that don't make a ton of sense with reality. Looking at the columns denoting race (`PctWhite`, `PctBlack`, `PctAsian`, `PctOtherRace`) it does not seem intuitive that any county in the US would truly be 100% or 0% any value. When we check to see if the total sum of all races adds up to 100, we see that there are many examples that do not come close to 100% accounted for, with over 10% of observations not adding up to 95%. Our analysis will not focus deeply on race relationships, due to the subadequate data. Had we looked deeper into these, it may have been prudent to do some sort of data transformation to get rid of the skew in the data."
   ]
  },
  {
   "cell_type": "code",
   "execution_count": 22,
   "metadata": {},
   "outputs": [
    {
     "name": "stderr",
     "output_type": "stream",
     "text": [
      "The details of data for total race percentage is: \n"
     ]
    },
    {
     "data": {
      "text/plain": [
       "   Min. 1st Qu.  Median    Mean 3rd Qu.    Max. \n",
       "  11.23   96.41   97.70   95.99   98.42  100.00 "
      ]
     },
     "metadata": {},
     "output_type": "display_data"
    },
    {
     "name": "stderr",
     "output_type": "stream",
     "text": [
      "There are 421 rows of data with total race percentage smaller than 95%\n",
      "There are 24 rows of data with total race percentage smaller than 50%\n",
      "There are 6 rows of data with total race percentage smaller than 20%\n"
     ]
    },
    {
     "data": {
      "image/png": "[encoded data removed]",
      "text/plain": [
       "Plot with title \"Race Total\""
      ]
     },
     "metadata": {},
     "output_type": "display_data"
    }
   ],
   "source": [
    "data$total_race <- data$PctAsian + data$PctBlack + data$PctWhite + data$PctOtherRace\n",
    "message(\"The details of data for total race percentage is: \")\n",
    "summary(data$total_race)\n",
    "message(\"There are \",nrow(subset(data,data$total_race < 95)), \" rows of data with total race percentage smaller than 95%\")\n",
    "message(\"There are \",nrow(subset(data,data$total_race < 50)), \" rows of data with total race percentage smaller than 50%\")\n",
    "message(\"There are \",nrow(subset(data,data$total_race < 20)), \" rows of data with total race percentage smaller than 20%\")\n",
    "\n",
    "boxplot(data$total_race, main = \"Race Total\")"
   ]
  },
  {
   "cell_type": "markdown",
   "metadata": {},
   "source": [
    "When we look at the `MedianAge` column, we see some unreasonable high outliers. By examining the boxplot below, we found that values above 65 were nonsensical. These were assigned the `NA` value to be exlcuded from further analysis. This should not effect the analysis much, as these are only 31 values being removed (~1% total observations)."
   ]
  },
  {
   "cell_type": "code",
   "execution_count": 23,
   "metadata": {},
   "outputs": [
    {
     "data": {
      "text/html": [
       "31"
      ],
      "text/latex": [
       "31"
      ],
      "text/markdown": [
       "31"
      ],
      "text/plain": [
       "[1] 31"
      ]
     },
     "metadata": {},
     "output_type": "display_data"
    },
    {
     "data": {
      "image/png": "[encoded data removed]",
      "text/plain": [
       "Plot with title \"Median Age\""
      ]
     },
     "metadata": {},
     "output_type": "display_data"
    }
   ],
   "source": [
    "boxplot(data$MedianAge, main = \"Median Age\")\n",
    "\n",
    "#filter out outliers\n",
    "data$MedianAge[data$MedianAge > 65] <- NA\n",
    "sum(is.na(data$MedianAge))"
   ]
  },
  {
   "cell_type": "markdown",
   "metadata": {},
   "source": [
    "We also found that there are 61 instances of an Average Household Size being less than 1. While this may have some reasoning in real life such as secondary properties, there was no such documentation to confirm this. As such, we removed all values less than 1 since this does not make sense with our default assumptions that one person must live in a place for it to be considered a household. Again, this is a small amount of observations and should not effect many results in a major way."
   ]
  },
  {
   "cell_type": "code",
   "execution_count": 24,
   "metadata": {},
   "outputs": [
    {
     "data": {
      "text/html": [
       "61"
      ],
      "text/latex": [
       "61"
      ],
      "text/markdown": [
       "61"
      ],
      "text/plain": [
       "[1] 61"
      ]
     },
     "metadata": {},
     "output_type": "display_data"
    },
    {
     "data": {
      "image/png": "[encoded data removed]",
      "text/plain": [
       "Plot with title \"Average Household Size\""
      ]
     },
     "metadata": {},
     "output_type": "display_data"
    }
   ],
   "source": [
    "boxplot(data$AvgHouseholdSize, \n",
    "        main = \"Average Household Size\")\n",
    "\n",
    "data$AvgHouseholdSize[data$AvgHouseholdSize < 1] <- NA\n",
    "sum(is.na(data$AvgHouseholdSize))"
   ]
  },
  {
   "cell_type": "markdown",
   "metadata": {},
   "source": [
    "We found one value where `PctHS18_24` was zero. In the US, it is difficult to believe that not one person in any given county has completed high school. We take away this value from further analysis. "
   ]
  },
  {
   "cell_type": "code",
   "execution_count": 25,
   "metadata": {},
   "outputs": [
    {
     "data": {
      "text/html": [
       "1"
      ],
      "text/latex": [
       "1"
      ],
      "text/markdown": [
       "1"
      ],
      "text/plain": [
       "[1] 1"
      ]
     },
     "metadata": {},
     "output_type": "display_data"
    }
   ],
   "source": [
    "data$PctHS18_24[data$PctHS18_24 == 0] <- NA\n",
    "sum(is.na(data$PctHS18_24))"
   ]
  },
  {
   "cell_type": "markdown",
   "metadata": {},
   "source": [
    "The population data in `popEst2015` shows very heavy skew towards lower values, but the higher values also make sense for the hyper-urbanized areas such as Los Angeles, Chicago, New York, and the others that they represent. In this case, a log transformation could prove useful for further analysis to have a more uniform distribution of values."
   ]
  },
  {
   "cell_type": "code",
   "execution_count": 26,
   "metadata": {},
   "outputs": [
    {
     "data": {
      "image/png": "[encoded data removed]",
      "text/plain": [
       "Plot with title \"Original population estimates\""
      ]
     },
     "metadata": {},
     "output_type": "display_data"
    }
   ],
   "source": [
    "hist(data$popEst2015, , breaks = 50, main = \"Original population estimates\")"
   ]
  },
  {
   "cell_type": "code",
   "execution_count": 27,
   "metadata": {},
   "outputs": [
    {
     "data": {
      "image/png": "[encoded data removed]",
      "text/plain": [
       "Plot with title \"Log transform population estimates\""
      ]
     },
     "metadata": {},
     "output_type": "display_data"
    }
   ],
   "source": [
    "data$logpopEst2015 <- log(data$popEst2015)\n",
    "hist(data$logpopEst2015, breaks = 50, main = \"Log transform population estimates\")"
   ]
  },
  {
   "cell_type": "markdown",
   "metadata": {},
   "source": [
    "The last major item we have to address is the variables that are factors. The `binnedInc` column contains a categorical value for the bracket of the median income. Since this value is inherently contained by the `MedIncome` variable, we largely ignored this category since we can just as easily subset it on our own. There is another value that contains structured data in a string format in the `Geography` field, which gives the unique county for each observation. Individual counties are probably not so useful, but having the states as a factor to subset the data could prove useful."
   ]
  },
  {
   "cell_type": "code",
   "execution_count": 28,
   "metadata": {},
   "outputs": [
    {
     "data": {
      "text/html": [
       "<ol class=list-inline>\n",
       "\t<li>Montana</li>\n",
       "\t<li>Florida</li>\n",
       "\t<li>Texas</li>\n",
       "\t<li>Texas</li>\n",
       "\t<li>Indiana</li>\n",
       "</ol>\n"
      ],
      "text/latex": [
       "\\begin{enumerate*}\n",
       "\\item Montana\n",
       "\\item Florida\n",
       "\\item Texas\n",
       "\\item Texas\n",
       "\\item Indiana\n",
       "\\end{enumerate*}\n"
      ],
      "text/markdown": [
       "1. Montana\n",
       "2. Florida\n",
       "3. Texas\n",
       "4. Texas\n",
       "5. Indiana\n",
       "\n",
       "\n"
      ],
      "text/plain": [
       "[1] Montana Florida Texas   Texas   Indiana\n",
       "51 Levels: Alabama Alaska Arizona Arkansas California Colorado ... Wyoming"
      ]
     },
     "metadata": {},
     "output_type": "display_data"
    }
   ],
   "source": [
    "#create the state column\n",
    "data$Geography <- as.character(data$Geography)\n",
    "split.geo <- strsplit(as.character(data$Geography), \", \")\n",
    "states <- sapply(split.geo, \n",
    "                 function(x){\n",
    "                   return(x[2])\n",
    "                   })\n",
    "data$state <- as.factor(states)\n",
    "sample(data$state, 5)"
   ]
  },
  {
   "cell_type": "markdown",
   "metadata": {},
   "source": [
    "## Exploratory Data Analysis\n",
    "\n",
    "Given that our overall target is to better understand the death rate due to cancer, it probably makes most sense to look at this variable first. We see that it appears to follow more or less of a Gaussian curve _(note: refraining from implenting tests for normality until they are covered in course material)._ "
   ]
  },
  {
   "cell_type": "code",
   "execution_count": 29,
   "metadata": {},
   "outputs": [
    {
     "data": {
      "image/png": "[encoded data removed]",
      "text/plain": [
       "Plot with title \"Death Rate\""
      ]
     },
     "metadata": {},
     "output_type": "display_data"
    }
   ],
   "source": [
    "hist(data$deathRate, breaks = 40, main = \"Death Rate\")"
   ]
  },
  {
   "cell_type": "markdown",
   "metadata": {},
   "source": [
    "To give guidance into what relationships in our data might be more interesting than others, we used the `corrplot` function from the `corrplot` package. This gives a visualization of the strength of the Pearson corrlation between various parameters. We note that we used a specific setting to only include values in which both observations were defined in calculating the Pearson coefficient (any `NA` values excluded). In this graphic, color <font color=blue>__blue__</font> represents positive correlation factor while color <font color=red>__red__</font> represents negative correlation. White indicates there is no clear correlation between the variables."
   ]
  },
  {
   "cell_type": "code",
   "execution_count": 30,
   "metadata": {},
   "outputs": [
    {
     "data": {
      "image/png": "[encoded data removed]",
      "text/plain": [
       "Plot with title \"\""
      ]
     },
     "metadata": {},
     "output_type": "display_data"
    }
   ],
   "source": [
    "# only include numerical columns in correlation matrix\n",
    "numeric.cols <- as.logical(unlist(lapply(data, is.numeric)))\n",
    "corr.matrix <- cor(data[,numeric.cols], use = \"pairwise.complete.obs\")\n",
    "\n",
    "corrplot(corr.matrix, is.corr=T , \n",
    "         method = \"color\", \n",
    "         type='lower',\n",
    "         tl.cex = 0.5)"
   ]
  },
  {
   "cell_type": "markdown",
   "metadata": {
    "collapsed": true
   },
   "source": [
    "When looking at the corrplot, it is important to note that the colors only correspond to purely linear correlations in the data. If there are dynamics other than simple linear relationships, they may not have proper coloring to indicate that they are truly correlated. An example of this is to look at the difference in coloring of the `logpopEst2015` vs. `popEst2015`. The log transformed version of the data has stronger relationships with most variables, which indicates this might be a more useful variable to work with. In general, the `scatterplotMatrix` function from the `cor` package will give us better functionality to look at the distributions and relationships between a smaller amount of variables, but the above graphic allows for a better global view.\n",
    "\n",
    "There are many \"sanity checks\" that we can gain from our data by looking at the corrplot. For instance, `medIncome` and `povertyPercent` are strongly negatively correlated. All of our parameters dealing with insurance make intuitive sense- the more public coverage, the less private coverage since people likely do not have 2 separate insurance plans. `PercentMattied` and `PctMarriedHouseholds` have a strong positive correlation, which seems logical. With sanity checks like these, we can ensure that parts of our data reflect reality.\n",
    "\n",
    "Some interesting associations that are worth noting include the extremely high negative corrlation between `PctWhite` and `PctBlack`. While it makes sense these should be negatively correlated since they are different components of a whole, they show a much stronger relationship than any other two races. Additionally, the higher poverty rate areas and higher marriage percentage areas tend to have a higher percentage of black population and a lower percentage of whites. This shows some strong indication that segregation is prevalent in the counties in our dataset. In a different part of our data, education past a bachelor level is strongly correlated with both employment and private insurance coverage. Conversely, high poverty levels tend to be associated with higher public coverage, higher unemployment, and less bachelor-level education. \n",
    "\n",
    "Our target variable, `deathRate`, appears to have some interesting correlations that should warrant further investigation. For positive correlations,  `povertyPercent`, `PctHS25_Over`, `PctUnemployed16_Over`, and `PctPublicCoverage` appear to be important. For negative correlations, `medIncome`, `PctBachDeg25_Over`, and `PctEmployed16_Over` all seem important. Since ideally `PctEmployed16_Over` and `PctUnemployed16_Over` essentially tell the same information, we can look at only one of these. Even though they are less strong than the others mentioned, the insurance variables show that more public coverage tends to be associated with higher death rates, and more private coverage (whether through employers or self-bought) tends to be associated with lower death rates.\n",
    "\n",
    "#### Subsetting of the high death rate counties\n",
    "\n",
    "For further exploratory analysis, we want to define what constitutes a high death rate. We do this by using the upper bound inter-quartile range."
   ]
  },
  {
   "cell_type": "code",
   "execution_count": 32,
   "metadata": {},
   "outputs": [
    {
     "name": "stdout",
     "output_type": "stream",
     "text": [
      "[1] \"There are 761 observations in the highest quartile.\"\n",
      "[1] \"The cutoff value is 195.2\"\n"
     ]
    }
   ],
   "source": [
    "deathRatequrt3 <- quantile(data$deathRate, 0.75, na.rm=T)\n",
    "\n",
    "data.higher <- subset(data, data$deathRate > deathRatequrt3)\n",
    "print(paste0(\"There are \", nrow(data.higher), \" observations in the highest quartile.\"))\n",
    "print(paste0(\"The cutoff value is \", deathRatequrt3))\n",
    "\n",
    "data.lower <- subset(data, data$deathRate < deathRatequrt3)"
   ]
  },
  {
   "cell_type": "markdown",
   "metadata": {},
   "source": [
    "We now look into the geography of the of the now-defined high death rate counties. From a boxplot, we see that the death rate varies state by state. A more detailed approach shows that the higher death rate states tend to be in the south, and Kentucky has the most high death rate counties by a wide margin."
   ]
  },
  {
   "cell_type": "code",
   "execution_count": 63,
   "metadata": {},
   "outputs": [
    {
     "data": {
      "image/png": "[encoded data removed]",
      "text/plain": [
       "plot without title"
      ]
     },
     "metadata": {},
     "output_type": "display_data"
    }
   ],
   "source": [
    "options(repr.plot.width=8.5, repr.plot.height=4) # let this plot be wider\n",
    "boxplot(deathRate~state, data = data, las = 2)\n",
    "options(repr.plot.width=5, repr.plot.height=4) # set back to default settings"
   ]
  },
  {
   "cell_type": "code",
   "execution_count": 47,
   "metadata": {},
   "outputs": [
    {
     "data": {
      "text/html": [
       "<table>\n",
       "<thead><tr><th></th><th scope=col>Counties_total</th><th scope=col>Counties_highDeathRate</th><th scope=col>Counties_HDR_Perc</th></tr></thead>\n",
       "<tbody>\n",
       "\t<tr><th scope=row>Kentucky</th><td>120      </td><td>91       </td><td>0.7583333</td></tr>\n",
       "\t<tr><th scope=row>Tennessee</th><td> 95      </td><td>57       </td><td>0.6000000</td></tr>\n",
       "\t<tr><th scope=row>Louisiana</th><td> 64      </td><td>38       </td><td>0.5937500</td></tr>\n",
       "\t<tr><th scope=row>Arkansas</th><td> 75      </td><td>44       </td><td>0.5866667</td></tr>\n",
       "\t<tr><th scope=row>Mississippi</th><td> 82      </td><td>47       </td><td>0.5731707</td></tr>\n",
       "\t<tr><th scope=row>West Virginia</th><td> 55      </td><td>28       </td><td>0.5090909</td></tr>\n",
       "</tbody>\n",
       "</table>\n"
      ],
      "text/latex": [
       "\\begin{tabular}{r|lll}\n",
       "  & Counties\\_total & Counties\\_highDeathRate & Counties\\_HDR\\_Perc\\\\\n",
       "\\hline\n",
       "\tKentucky & 120       & 91        & 0.7583333\\\\\n",
       "\tTennessee &  95       & 57        & 0.6000000\\\\\n",
       "\tLouisiana &  64       & 38        & 0.5937500\\\\\n",
       "\tArkansas &  75       & 44        & 0.5866667\\\\\n",
       "\tMississippi &  82       & 47        & 0.5731707\\\\\n",
       "\tWest Virginia &  55       & 28        & 0.5090909\\\\\n",
       "\\end{tabular}\n"
      ],
      "text/markdown": [
       "\n",
       "| <!--/--> | Counties_total | Counties_highDeathRate | Counties_HDR_Perc | \n",
       "|---|---|---|---|---|---|\n",
       "| Kentucky | 120       | 91        | 0.7583333 | \n",
       "| Tennessee |  95       | 57        | 0.6000000 | \n",
       "| Louisiana |  64       | 38        | 0.5937500 | \n",
       "| Arkansas |  75       | 44        | 0.5866667 | \n",
       "| Mississippi |  82       | 47        | 0.5731707 | \n",
       "| West Virginia |  55       | 28        | 0.5090909 | \n",
       "\n",
       "\n"
      ],
      "text/plain": [
       "              Counties_total Counties_highDeathRate Counties_HDR_Perc\n",
       "Kentucky      120            91                     0.7583333        \n",
       "Tennessee      95            57                     0.6000000        \n",
       "Louisiana      64            38                     0.5937500        \n",
       "Arkansas       75            44                     0.5866667        \n",
       "Mississippi    82            47                     0.5731707        \n",
       "West Virginia  55            28                     0.5090909        "
      ]
     },
     "metadata": {},
     "output_type": "display_data"
    }
   ],
   "source": [
    "state.summ <- data.frame(summary(data$state))\n",
    "names(state.summ) <- c(\"Counties_total\")\n",
    "\n",
    "# group with higher death rate\n",
    "state.summ1 <- data.frame(summary(data.higher$state))\n",
    "names(state.summ1) <- c(\"Counties_total\")\n",
    "\n",
    "state.summ$Counties_highDeathRate <- state.summ1$Counties_total\n",
    "\n",
    "# Percentage of counties with higher death reate for each state\n",
    "state.summ$Counties_HDR_Perc <- state.summ$Counties_highDeathRate/state.summ$Counties_total\n",
    "\n",
    "head(state.summ[order(state.summ$Counties_HDR_Perc, decreasing = TRUE),])"
   ]
  },
  {
   "cell_type": "markdown",
   "metadata": {},
   "source": [
    "The analysis above shows that higher death rates cross state lines, but tend to stay below the Mason-Dixon line. Kentucky seems to be in a group of its own, with roughly 76% of its counties in the high death rate range. The other high death rate states are bunched closer to the 50-60% range, so Kentucky stands out and warrants further analysis. A quick google search shows that Kentucky particularly has high rates of obesity and smoking along with a lack of screening. Further research into this could provide additional insight, but is outside of the scope of the data given for this report.\n",
    "\n",
    "We now shift our focus to exploring if raw numbers of cancer incidents correspond to higher rates of cancer deaths. We use a state-wide aggregation approach to look at the ratio of cancer incidents to the total population, and see how these correspond to the death rate in the state."
   ]
  },
  {
   "cell_type": "code",
   "execution_count": 59,
   "metadata": {},
   "outputs": [
    {
     "data": {
      "text/html": [
       "<table>\n",
       "<thead><tr><th scope=col>rn</th><th scope=col>state</th><th scope=col>total_incident</th><th scope=col>popEst</th><th scope=col>incdtRatio</th><th scope=col>avgDeathRate</th></tr></thead>\n",
       "<tbody>\n",
       "\t<tr><td>17           </td><td>Kansas       </td><td>200192.10    </td><td> 2831088     </td><td>0.070712074  </td><td>167.8343     </td></tr>\n",
       "\t<tr><td>24           </td><td>Minnesota    </td><td>170752.09    </td><td> 5489594     </td><td>0.031104684  </td><td>161.4816     </td></tr>\n",
       "\t<tr><td>29           </td><td>Nevada       </td><td> 33365.35    </td><td> 2890845     </td><td>0.011541729  </td><td>177.4353     </td></tr>\n",
       "\t<tr><td>20           </td><td>Maine        </td><td>  8214.00    </td><td> 1329328     </td><td>0.006179062  </td><td>183.1500     </td></tr>\n",
       "\t<tr><td>49           </td><td>West Virginia</td><td> 11130.00    </td><td> 1844128     </td><td>0.006035373  </td><td>196.7109     </td></tr>\n",
       "\t<tr><td>39           </td><td>Pennsylvania </td><td> 75909.00    </td><td>12802503     </td><td>0.005929231  </td><td>175.4224     </td></tr>\n",
       "\t<tr><td>30           </td><td>New Hampshire</td><td>  7561.00    </td><td> 1330608     </td><td>0.005682365  </td><td>170.8800     </td></tr>\n",
       "\t<tr><td>46           </td><td>Vermont      </td><td>  3548.00    </td><td>  626042     </td><td>0.005667351  </td><td>176.2714     </td></tr>\n",
       "\t<tr><td>7            </td><td>Connecticut  </td><td> 20304.00    </td><td> 3590886     </td><td>0.005654315  </td><td>157.7125     </td></tr>\n",
       "\t<tr><td>18           </td><td>Kentucky     </td><td> 24765.00    </td><td> 4425092     </td><td>0.005596494  </td><td>215.3158     </td></tr>\n",
       "</tbody>\n",
       "</table>\n"
      ],
      "text/latex": [
       "\\begin{tabular}{r|llllll}\n",
       " rn & state & total\\_incident & popEst & incdtRatio & avgDeathRate\\\\\n",
       "\\hline\n",
       "\t 17            & Kansas        & 200192.10     &  2831088      & 0.070712074   & 167.8343     \\\\\n",
       "\t 24            & Minnesota     & 170752.09     &  5489594      & 0.031104684   & 161.4816     \\\\\n",
       "\t 29            & Nevada        &  33365.35     &  2890845      & 0.011541729   & 177.4353     \\\\\n",
       "\t 20            & Maine         &   8214.00     &  1329328      & 0.006179062   & 183.1500     \\\\\n",
       "\t 49            & West Virginia &  11130.00     &  1844128      & 0.006035373   & 196.7109     \\\\\n",
       "\t 39            & Pennsylvania  &  75909.00     & 12802503      & 0.005929231   & 175.4224     \\\\\n",
       "\t 30            & New Hampshire &   7561.00     &  1330608      & 0.005682365   & 170.8800     \\\\\n",
       "\t 46            & Vermont       &   3548.00     &   626042      & 0.005667351   & 176.2714     \\\\\n",
       "\t 7             & Connecticut   &  20304.00     &  3590886      & 0.005654315   & 157.7125     \\\\\n",
       "\t 18            & Kentucky      &  24765.00     &  4425092      & 0.005596494   & 215.3158     \\\\\n",
       "\\end{tabular}\n"
      ],
      "text/markdown": [
       "\n",
       "rn | state | total_incident | popEst | incdtRatio | avgDeathRate | \n",
       "|---|---|---|---|---|---|---|---|---|---|\n",
       "| 17            | Kansas        | 200192.10     |  2831088      | 0.070712074   | 167.8343      | \n",
       "| 24            | Minnesota     | 170752.09     |  5489594      | 0.031104684   | 161.4816      | \n",
       "| 29            | Nevada        |  33365.35     |  2890845      | 0.011541729   | 177.4353      | \n",
       "| 20            | Maine         |   8214.00     |  1329328      | 0.006179062   | 183.1500      | \n",
       "| 49            | West Virginia |  11130.00     |  1844128      | 0.006035373   | 196.7109      | \n",
       "| 39            | Pennsylvania  |  75909.00     | 12802503      | 0.005929231   | 175.4224      | \n",
       "| 30            | New Hampshire |   7561.00     |  1330608      | 0.005682365   | 170.8800      | \n",
       "| 46            | Vermont       |   3548.00     |   626042      | 0.005667351   | 176.2714      | \n",
       "| 7             | Connecticut   |  20304.00     |  3590886      | 0.005654315   | 157.7125      | \n",
       "| 18            | Kentucky      |  24765.00     |  4425092      | 0.005596494   | 215.3158      | \n",
       "\n",
       "\n"
      ],
      "text/plain": [
       "   rn state         total_incident popEst   incdtRatio  avgDeathRate\n",
       "1  17 Kansas        200192.10       2831088 0.070712074 167.8343    \n",
       "2  24 Minnesota     170752.09       5489594 0.031104684 161.4816    \n",
       "3  29 Nevada         33365.35       2890845 0.011541729 177.4353    \n",
       "4  20 Maine           8214.00       1329328 0.006179062 183.1500    \n",
       "5  49 West Virginia  11130.00       1844128 0.006035373 196.7109    \n",
       "6  39 Pennsylvania   75909.00      12802503 0.005929231 175.4224    \n",
       "7  30 New Hampshire   7561.00       1330608 0.005682365 170.8800    \n",
       "8  46 Vermont         3548.00        626042 0.005667351 176.2714    \n",
       "9  7  Connecticut    20304.00       3590886 0.005654315 157.7125    \n",
       "10 18 Kentucky       24765.00       4425092 0.005596494 215.3158    "
      ]
     },
     "metadata": {},
     "output_type": "display_data"
    }
   ],
   "source": [
    "sum_incdt <- data.frame(aggregate(data$avgAnnCount, by=list(Category=data$state),FUN=sum))\n",
    "names(sum_incdt) <- c(\"state\",\"total_incident\")\n",
    "sum_incdt <- setDT(sum_incdt, keep.rownames = TRUE)[]\n",
    "# tail(sum_incdt[order(sum_incdt$total_incident)],20)\n",
    "\n",
    "#add the total population of state and the incident ratio\n",
    "sum_pop <- data.frame(aggregate(data$popEst2015, by=list(Category=data$state),FUN=sum))\n",
    "sum_incdt$popEst <- sum_pop$x\n",
    "sum_incdt$incdtRatio <- sum_incdt$total_incident/sum_incdt$popEst\n",
    "\n",
    "# average state-wide death rate\n",
    "sum_deathRate <- data.frame(aggregate(data$deathRate, by=list(Category=data$state),mean))\n",
    "sum_incdt$avgDeathRate <- sum_deathRate$x\n",
    "\n",
    "head(sum_incdt[order(sum_incdt$incdtRatio, decreasing = TRUE),], 10)\n",
    "\n"
   ]
  },
  {
   "cell_type": "code",
   "execution_count": 60,
   "metadata": {},
   "outputs": [
    {
     "data": {
      "text/html": [
       "<table>\n",
       "<thead><tr><th></th><th scope=col>incdtRatio</th><th scope=col>avgDeathRate</th></tr></thead>\n",
       "<tbody>\n",
       "\t<tr><th scope=row>incdtRatio</th><td> 1.00000000</td><td>-0.06621098</td></tr>\n",
       "\t<tr><th scope=row>avgDeathRate</th><td>-0.06621098</td><td> 1.00000000</td></tr>\n",
       "</tbody>\n",
       "</table>\n"
      ],
      "text/latex": [
       "\\begin{tabular}{r|ll}\n",
       "  & incdtRatio & avgDeathRate\\\\\n",
       "\\hline\n",
       "\tincdtRatio &  1.00000000 & -0.06621098\\\\\n",
       "\tavgDeathRate & -0.06621098 &  1.00000000\\\\\n",
       "\\end{tabular}\n"
      ],
      "text/markdown": [
       "\n",
       "| <!--/--> | incdtRatio | avgDeathRate | \n",
       "|---|---|\n",
       "| incdtRatio |  1.00000000 | -0.06621098 | \n",
       "| avgDeathRate | -0.06621098 |  1.00000000 | \n",
       "\n",
       "\n"
      ],
      "text/plain": [
       "             incdtRatio  avgDeathRate\n",
       "incdtRatio    1.00000000 -0.06621098 \n",
       "avgDeathRate -0.06621098  1.00000000 "
      ]
     },
     "metadata": {},
     "output_type": "display_data"
    }
   ],
   "source": [
    "cor(sum_incdt[,c(5, 6)])"
   ]
  },
  {
   "cell_type": "markdown",
   "metadata": {},
   "source": [
    "Had cancer incidents been strongly related to cancer deaths, we would have expected to see Kentucky closer to the top of this list. We see that the correlation coefficient is close to zero, which shows that this relationship is not so strong. This was also seen in the corrplot earlier in the report. This suggests that the relationship between incidents and deaths is not the strongest factor at play and may not be the correct area to focus on for policy recommendation.\n",
    "\n",
    "We now shift our focus to measures of treatment. In our dataset, this is best seen through the insurance parameters. In general, we would expect to see that higher percentages of private insurance plans would correspond to better treatment and therefore fewer cancer deaths."
   ]
  },
  {
   "cell_type": "code",
   "execution_count": null,
   "metadata": {
    "collapsed": true
   },
   "outputs": [],
   "source": [
    "# add to the table above with insurance coverage\n",
    "# average private coverage by state\n",
    "sum_PriCov <- data.frame(aggregate(data$PctPrivateCoverage, by=list(Category=data$state),mean))\n",
    "\n",
    "# average private employed coverage by state\n",
    "sum_PriEmCov <- data.frame(aggregate(data$PctEmpPrivCoverage, by=list(Category=data$state),mean))\n",
    "# average public coverage by state\n",
    "sum_PubCov <- data.frame(aggregate(data$PctPublicCoverage, by=list(Category=data$state),mean))\n",
    "\n",
    "sum_incdt$Private_Co <- sum_PriCov$x\n",
    "sum_incdt$PriEm_Co <- sum_PriEmCov$x\n",
    "sum_incdt$Pub_Co <- sum_PubCov$x\n",
    "\n",
    "# head(sum_incdt[order(sum_incdt$Private_Co)],10)\n",
    "# head(sum_incdt[order(sum_incdt$PriEm_Co)],10)\n",
    "# tail(sum_incdt[order(sum_incdt$Pub_Co)],10)\n",
    "message(\"Private Converage\")\n",
    "summary(sum_incdt$Private_Co)\n",
    "message(\"Private Employer coverage\")\n",
    "summary(sum_incdt$PriEm_Co)\n",
    "message(\"Public Converage\")\n",
    "summary(sum_incdt$Pub_Co)\n",
    "tail(sum_incdt[order(sum_incdt$avgDeathRate)],10)\n",
    "head(sum_incdt[order(sum_incdt$avgDeathRate)],5)\n"
   ]
  }
 ],
 "metadata": {
  "kernelspec": {
   "display_name": "R",
   "language": "R",
   "name": "ir"
  },
  "language_info": {
   "codemirror_mode": "r",
   "file_extension": ".r",
   "mimetype": "text/x-r-source",
   "name": "R",
   "pygments_lexer": "r",
   "version": "3.4.3"
  }
 },
 "nbformat": 4,
 "nbformat_minor": 2
}
