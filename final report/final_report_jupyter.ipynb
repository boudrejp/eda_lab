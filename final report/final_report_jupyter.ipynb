{
 "cells": [
  {
   "cell_type": "markdown",
   "metadata": {},
   "source": [
    "# Cancer Mortality Exploration\n",
    "\n",
    "Zeliang (Doug) Xu, Arjun Chakraborty, John Boudreaux\n",
    "\n",
    "_An exploratory analysis of county characteristics as they relate to cancer death rates_\n",
    "\n",
    "## Introduction\n",
    "This exploratory analysis is meant to address the research question: \n",
    "\n",
    "__What factors are related to the cancer death rate in US counties?__\n",
    "\n",
    "By looking at the dataset and our general intuition about cancer, we believe that there are two major sources of contributing factors that lead to higher cancer death rate for each physical region:\n",
    "\n",
    "* Higher cancer occurance rates will lead to more cases of cancer deaths in a particular region\n",
    "* Worse cancer treatment facilities, policies, personnel, etc. will lead to more cancer deaths in a particular region\n",
    "\n",
    "To explore this research question and sub-topics, we will employ various statistical techniques including subsetting the data, descriptive statistics, outlier detection and treatment, multivariate correlations, and others. In particular, our analysis will focus heavily on using graphical methods to illustrate various aspects about our dataset. We find certain relationships, particularly in the area of insurance coverage, that prove interesting as levers for policy change.\n",
    "\n",
    "It is important to note that our analysis is not meant to prove any sort of causality. All of our methods and conclusions are purely meant as descriptive methods to explore the relationships within the data. Additionally, this dataset has some very particular issues that indicate further data collection or clarification may be necessary to fully validate the results. For instance, there is no documentation on the basis of the death rate- is this a death rate per 100,000 people, averaged over some period? Is it normalized in any way? Is it only deaths from cancer? Without further documentation, we can still perform some analysis but still need to clarify some assumptions before action can be responsibly taken.\n",
    "\n",
    "In this report, we will use R (>=3.4) to perform the analysis. We will provide code for all graphics and analysis performed so that the reader can reproduce this analysis with the given dataset."
   ]
  },
  {
   "cell_type": "markdown",
   "metadata": {},
   "source": [
    "## Data Preparation\n",
    "\n",
    "Below is a collection of libraries that we use for the study:"
   ]
  },
  {
   "cell_type": "code",
   "execution_count": 33,
   "metadata": {},
   "outputs": [],
   "source": [
    "library(car)   # to enable csv import, plots functions\n",
    "library(stringr)   # to enable string splitting\n",
    "library(corrplot)   # to enable corrplot\n",
    "library(data.table)   # to be able to change the indexing of data frame\n",
    "options(repr.plot.width=5, repr.plot.height=4)"
   ]
  },
  {
   "cell_type": "code",
   "execution_count": 34,
   "metadata": {
    "collapsed": true
   },
   "outputs": [],
   "source": [
    "#may need to change address depending on where you have it saved\n",
    "data <- read.csv(\"../project materials/cancer.csv\")"
   ]
  },
  {
   "cell_type": "code",
   "execution_count": 51,
   "metadata": {},
   "outputs": [
    {
     "data": {
      "text/html": [
       "<ol class=list-inline>\n",
       "\t<li>3047</li>\n",
       "\t<li>33</li>\n",
       "</ol>\n"
      ],
      "text/latex": [
       "\\begin{enumerate*}\n",
       "\\item 3047\n",
       "\\item 33\n",
       "\\end{enumerate*}\n"
      ],
      "text/markdown": [
       "1. 3047\n",
       "2. 33\n",
       "\n",
       "\n"
      ],
      "text/plain": [
       "[1] 3047   33"
      ]
     },
     "metadata": {},
     "output_type": "display_data"
    }
   ],
   "source": [
    "dim(data)"
   ]
  },
  {
   "cell_type": "markdown",
   "metadata": {},
   "source": [
    "Our data has 3047 observations of 30 variables. These dimensions ought to be sufficient for many subsetting operations we may want to do with the data. The variables all describe different properties of US counties, primarily focusing on demographic data."
   ]
  },
  {
   "cell_type": "code",
   "execution_count": 52,
   "metadata": {},
   "outputs": [
    {
     "data": {
      "text/plain": [
       "       X           avgAnnCount        medIncome        popEst2015      \n",
       " Min.   :   1.0   Min.   :    6.0   Min.   : 22640   Min.   :     827  \n",
       " 1st Qu.: 762.5   1st Qu.:   76.0   1st Qu.: 38883   1st Qu.:   11684  \n",
       " Median :1524.0   Median :  171.0   Median : 45207   Median :   26643  \n",
       " Mean   :1524.0   Mean   :  606.3   Mean   : 47063   Mean   :  102637  \n",
       " 3rd Qu.:2285.5   3rd Qu.:  518.0   3rd Qu.: 52492   3rd Qu.:   68671  \n",
       " Max.   :3047.0   Max.   :38150.0   Max.   :125635   Max.   :10170292  \n",
       "                                                                       \n",
       " povertyPercent               binnedInc      MedianAge     MedianAgeMale  \n",
       " Min.   : 3.20   (45201, 48021.6]  : 306   Min.   :22.30   Min.   :22.40  \n",
       " 1st Qu.:12.15   (54545.6, 61494.5]: 306   1st Qu.:37.70   1st Qu.:36.35  \n",
       " Median :15.90   [22640, 34218.1]  : 306   Median :40.90   Median :39.60  \n",
       " Mean   :16.88   (42724.4, 45201]  : 305   Mean   :40.82   Mean   :39.57  \n",
       " 3rd Qu.:20.40   (48021.6, 51046.4]: 305   3rd Qu.:43.80   3rd Qu.:42.50  \n",
       " Max.   :47.40   (51046.4, 54545.6]: 305   Max.   :59.00   Max.   :64.70  \n",
       "                 (Other)           :1214   NA's   :31                     \n",
       " MedianAgeFemale  Geography         AvgHouseholdSize PercentMarried \n",
       " Min.   :22.30   Length:3047        Min.   :1.86     Min.   :23.10  \n",
       " 1st Qu.:39.10   Class :character   1st Qu.:2.37     1st Qu.:47.75  \n",
       " Median :42.40   Mode  :character   Median :2.50     Median :52.40  \n",
       " Mean   :42.15                      Mean   :2.53     Mean   :51.77  \n",
       " 3rd Qu.:45.30                      3rd Qu.:2.64     3rd Qu.:56.40  \n",
       " Max.   :65.70                      Max.   :3.97     Max.   :72.50  \n",
       "                                    NA's   :61                      \n",
       "  PctNoHS18_24     PctHS18_24    PctSomeCol18_24 PctBachDeg18_24 \n",
       " Min.   : 0.00   Min.   : 7.10   Min.   : 7.10   Min.   : 0.000  \n",
       " 1st Qu.:12.80   1st Qu.:29.20   1st Qu.:34.00   1st Qu.: 3.100  \n",
       " Median :17.10   Median :34.70   Median :40.40   Median : 5.400  \n",
       " Mean   :18.22   Mean   :35.01   Mean   :40.98   Mean   : 6.158  \n",
       " 3rd Qu.:22.70   3rd Qu.:40.70   3rd Qu.:46.40   3rd Qu.: 8.200  \n",
       " Max.   :64.10   Max.   :72.50   Max.   :79.00   Max.   :51.800  \n",
       "                 NA's   :1       NA's   :2285                    \n",
       "  PctHS25_Over   PctBachDeg25_Over PctEmployed16_Over PctUnemployed16_Over\n",
       " Min.   : 7.50   Min.   : 2.50     Min.   :17.60      Min.   : 0.400      \n",
       " 1st Qu.:30.40   1st Qu.: 9.40     1st Qu.:48.60      1st Qu.: 5.500      \n",
       " Median :35.30   Median :12.30     Median :54.50      Median : 7.600      \n",
       " Mean   :34.80   Mean   :13.28     Mean   :54.15      Mean   : 7.852      \n",
       " 3rd Qu.:39.65   3rd Qu.:16.10     3rd Qu.:60.30      3rd Qu.: 9.700      \n",
       " Max.   :54.80   Max.   :42.20     Max.   :80.10      Max.   :29.400      \n",
       "                                   NA's   :152                            \n",
       " PctPrivateCoverage PctEmpPrivCoverage PctPublicCoverage    PctWhite     \n",
       " Min.   :22.30      Min.   :13.5       Min.   :11.20     Min.   : 10.20  \n",
       " 1st Qu.:57.20      1st Qu.:34.5       1st Qu.:30.90     1st Qu.: 77.30  \n",
       " Median :65.10      Median :41.1       Median :36.30     Median : 90.06  \n",
       " Mean   :64.35      Mean   :41.2       Mean   :36.25     Mean   : 83.65  \n",
       " 3rd Qu.:72.10      3rd Qu.:47.7       3rd Qu.:41.55     3rd Qu.: 95.45  \n",
       " Max.   :92.30      Max.   :70.7       Max.   :65.10     Max.   :100.00  \n",
       "                                                                         \n",
       "    PctBlack          PctAsian        PctOtherRace     PctMarriedHouseholds\n",
       " Min.   : 0.0000   Min.   : 0.0000   Min.   : 0.0000   Min.   :22.99       \n",
       " 1st Qu.: 0.6207   1st Qu.: 0.2542   1st Qu.: 0.2952   1st Qu.:47.76       \n",
       " Median : 2.2476   Median : 0.5498   Median : 0.8262   Median :51.67       \n",
       " Mean   : 9.1080   Mean   : 1.2540   Mean   : 1.9835   Mean   :51.24       \n",
       " 3rd Qu.:10.5097   3rd Qu.: 1.2210   3rd Qu.: 2.1780   3rd Qu.:55.40       \n",
       " Max.   :85.9478   Max.   :42.6194   Max.   :41.9303   Max.   :78.08       \n",
       "                                                                           \n",
       "   BirthRate        deathRate       total_race     logpopEst2015   \n",
       " Min.   : 0.000   Min.   : 59.7   Min.   : 11.23   Min.   : 6.718  \n",
       " 1st Qu.: 4.521   1st Qu.:161.2   1st Qu.: 96.41   1st Qu.: 9.366  \n",
       " Median : 5.381   Median :178.1   Median : 97.70   Median :10.190  \n",
       " Mean   : 5.640   Mean   :178.7   Mean   : 95.99   Mean   :10.334  \n",
       " 3rd Qu.: 6.494   3rd Qu.:195.2   3rd Qu.: 98.42   3rd Qu.:11.137  \n",
       " Max.   :21.326   Max.   :362.8   Max.   :100.00   Max.   :16.135  \n",
       "                                                                   \n",
       "      state     \n",
       " Texas   : 233  \n",
       " Georgia : 155  \n",
       " Virginia: 125  \n",
       " Kentucky: 120  \n",
       " Missouri: 115  \n",
       " Illinois: 102  \n",
       " (Other) :2197  "
      ]
     },
     "metadata": {},
     "output_type": "display_data"
    }
   ],
   "source": [
    "summary(data)"
   ]
  },
  {
   "cell_type": "markdown",
   "metadata": {},
   "source": [
    "There are a few peculiarities in the data that we must address before going further. First, over half of our observations for `PctSomeCol18_24` are missing values. We should be wary of any sort of statistically significant results we obtain with this variable, since sampling effects will likely alter some of the true dynamics in the data. There are also missing values in `PctEmployed16_Over`, but this is a much smaller number and does not necessarily warrant the same degree of caution for `PctSomeCol18_24`.\n",
    "\n",
    "In addition to missing values, there are some values that don't make a ton of sense with reality. Looking at the columns denoting race (`PctWhite`, `PctBlack`, `PctAsian`, `PctOtherRace`) it does not seem intuitive that any county in the US would truly be 100% or 0% any value. When we check to see if the total sum of all races adds up to 100, we see that there are many examples that do not come close to 100% accounted for, with over 10% of observations not adding up to 95%. Our analysis will not focus deeply on race relationships, due to the subadequate data."
   ]
  },
  {
   "cell_type": "code",
   "execution_count": 36,
   "metadata": {},
   "outputs": [
    {
     "name": "stderr",
     "output_type": "stream",
     "text": [
      "The details of data for total race percentage is: \n"
     ]
    },
    {
     "data": {
      "text/plain": [
       "   Min. 1st Qu.  Median    Mean 3rd Qu.    Max. \n",
       "  11.23   96.41   97.70   95.99   98.42  100.00 "
      ]
     },
     "metadata": {},
     "output_type": "display_data"
    },
    {
     "name": "stderr",
     "output_type": "stream",
     "text": [
      "There are 421 rows of data with total race percentage smaller than 95%\n",
      "There are 24 rows of data with total race percentage smaller than 50%\n",
      "There are 6 rows of data with total race percentage smaller than 20%\n"
     ]
    },
    {
     "data": {
      "image/png": "[encoded data removed]",
      "text/plain": [
       "Plot with title \"Race Total\""
      ]
     },
     "metadata": {},
     "output_type": "display_data"
    }
   ],
   "source": [
    "data$total_race <- data$PctAsian + data$PctBlack + data$PctWhite + data$PctOtherRace\n",
    "message(\"The details of data for total race percentage is: \")\n",
    "summary(data$total_race)\n",
    "message(\"There are \",nrow(subset(data,data$total_race < 95)), \" rows of data with total race percentage smaller than 95%\")\n",
    "message(\"There are \",nrow(subset(data,data$total_race < 50)), \" rows of data with total race percentage smaller than 50%\")\n",
    "message(\"There are \",nrow(subset(data,data$total_race < 20)), \" rows of data with total race percentage smaller than 20%\")\n",
    "\n",
    "boxplot(data$total_race, main = \"Race Total\")"
   ]
  },
  {
   "cell_type": "markdown",
   "metadata": {},
   "source": [
    "When we look at the `MedianAge` column, we see some unreasonable high outliers. By examining the boxplot below, we found that values above 65 were nonsensical. These were assigned the `NA` value to be exlcuded from further analysis. This should not effect the analysis much, as these are only 31 values being removed (~1% total observations)."
   ]
  },
  {
   "cell_type": "code",
   "execution_count": 37,
   "metadata": {},
   "outputs": [
    {
     "data": {
      "text/html": [
       "31"
      ],
      "text/latex": [
       "31"
      ],
      "text/markdown": [
       "31"
      ],
      "text/plain": [
       "[1] 31"
      ]
     },
     "metadata": {},
     "output_type": "display_data"
    },
    {
     "data": {
      "image/png": "[encoded data removed]",
      "text/plain": [
       "Plot with title \"Median Age\""
      ]
     },
     "metadata": {},
     "output_type": "display_data"
    }
   ],
   "source": [
    "boxplot(data$MedianAge, main = \"Median Age\")\n",
    "\n",
    "#filter out outliers\n",
    "data$MedianAge[data$MedianAge > 65] <- NA\n",
    "sum(is.na(data$MedianAge))"
   ]
  },
  {
   "cell_type": "markdown",
   "metadata": {},
   "source": [
    "We also found that there are 61 instances of an Average Household Size being less than 1. While this may have some reasoning in real life such as secondary properties, there was no such documentation to confirm this. As such, we removed all values less than 1 since this does not make sense with our default assumptions that one person must live in a place for it to be considered a household. Again, this is a small amount of observations and should not effect many results in a major way."
   ]
  },
  {
   "cell_type": "code",
   "execution_count": 40,
   "metadata": {},
   "outputs": [
    {
     "data": {
      "text/html": [
       "61"
      ],
      "text/latex": [
       "61"
      ],
      "text/markdown": [
       "61"
      ],
      "text/plain": [
       "[1] 61"
      ]
     },
     "metadata": {},
     "output_type": "display_data"
    },
    {
     "data": {
      "image/png": "[encoded data removed]",
      "text/plain": [
       "Plot with title \"Average Household Size\""
      ]
     },
     "metadata": {},
     "output_type": "display_data"
    }
   ],
   "source": [
    "boxplot(data$AvgHouseholdSize, \n",
    "        main = \"Average Household Size\")\n",
    "\n",
    "data$AvgHouseholdSize[data$AvgHouseholdSize < 1] <- NA\n",
    "sum(is.na(data$AvgHouseholdSize))"
   ]
  },
  {
   "cell_type": "markdown",
   "metadata": {},
   "source": [
    "We found one value where `PctHS18_24` was zero. In the US, it is difficult to believe that not one person in any given county has completed high school. We take away this value from further analysis. "
   ]
  },
  {
   "cell_type": "code",
   "execution_count": 42,
   "metadata": {},
   "outputs": [
    {
     "data": {
      "text/html": [
       "1"
      ],
      "text/latex": [
       "1"
      ],
      "text/markdown": [
       "1"
      ],
      "text/plain": [
       "[1] 1"
      ]
     },
     "metadata": {},
     "output_type": "display_data"
    }
   ],
   "source": [
    "data$PctHS18_24[data$PctHS18_24 == 0] <- NA\n",
    "sum(is.na(data$PctHS18_24))"
   ]
  },
  {
   "cell_type": "markdown",
   "metadata": {},
   "source": [
    "The population data in `popEst2015` shows very heavy skew towards lower values, but the higher values also make sense for the hyper-urbanized areas such as Los Angeles, Chicago, New York, and the others that they represent. In this case, a log transformation could prove useful for further analysis to have a more uniform distribution of values."
   ]
  },
  {
   "cell_type": "code",
   "execution_count": 53,
   "metadata": {},
   "outputs": [
    {
     "data": {
      "image/png": "[encoded data removed]",
      "text/plain": [
       "Plot with title \"Original population estimates\""
      ]
     },
     "metadata": {},
     "output_type": "display_data"
    }
   ],
   "source": [
    "hist(data$popEst2015, , breaks = 50, main = \"Original population estimates\")"
   ]
  },
  {
   "cell_type": "code",
   "execution_count": 54,
   "metadata": {},
   "outputs": [
    {
     "data": {
      "image/png": "[encoded data removed]",
      "text/plain": [
       "Plot with title \"Log transform population estimates\""
      ]
     },
     "metadata": {},
     "output_type": "display_data"
    }
   ],
   "source": [
    "data$logpopEst2015 <- log(data$popEst2015)\n",
    "hist(data$logpopEst2015, breaks = 50, main = \"Log transform population estimates\")"
   ]
  },
  {
   "cell_type": "markdown",
   "metadata": {},
   "source": [
    "The last major item we have to address is the variables that are factors. The `binnedInc` column contains a categorical value for the bracket of the median income. Since this value is inherently contained by the `MedIncome` variable, we largely ignored this category since we can just as easily subset it on our own. There is another value that contains structured data in a string format in the `Geography` field, which gives the unique county for each observation. Individual counties are probably not so useful, but having the states as a factor to subset the data could prove useful."
   ]
  },
  {
   "cell_type": "code",
   "execution_count": 55,
   "metadata": {},
   "outputs": [
    {
     "data": {
      "text/html": [
       "<ol class=list-inline>\n",
       "\t<li>Washington</li>\n",
       "\t<li>Virginia</li>\n",
       "\t<li>Minnesota</li>\n",
       "\t<li>Iowa</li>\n",
       "\t<li>Colorado</li>\n",
       "</ol>\n"
      ],
      "text/latex": [
       "\\begin{enumerate*}\n",
       "\\item Washington\n",
       "\\item Virginia\n",
       "\\item Minnesota\n",
       "\\item Iowa\n",
       "\\item Colorado\n",
       "\\end{enumerate*}\n"
      ],
      "text/markdown": [
       "1. Washington\n",
       "2. Virginia\n",
       "3. Minnesota\n",
       "4. Iowa\n",
       "5. Colorado\n",
       "\n",
       "\n"
      ],
      "text/plain": [
       "[1] Washington Virginia   Minnesota  Iowa       Colorado  \n",
       "51 Levels: Alabama Alaska Arizona Arkansas California Colorado ... Wyoming"
      ]
     },
     "metadata": {},
     "output_type": "display_data"
    }
   ],
   "source": [
    "#create the state column\n",
    "data$Geography <- as.character(data$Geography)\n",
    "split.geo <- strsplit(as.character(data$Geography), \", \")\n",
    "states <- sapply(split.geo, \n",
    "                 function(x){\n",
    "                   return(x[2])\n",
    "                   })\n",
    "data$state <- as.factor(states)\n",
    "sample(data$state, 5)"
   ]
  },
  {
   "cell_type": "markdown",
   "metadata": {},
   "source": [
    "## Exploratory Data Analysis\n",
    "\n",
    "Given that our overall target is to better understand the death rate due to cancer, it probably makes most sense to look at this variable first. We see that it appears to follow more or less of a Gaussian curve _(note: refraining from implenting tests for normality until they are covered in course material)._ "
   ]
  },
  {
   "cell_type": "code",
   "execution_count": 56,
   "metadata": {},
   "outputs": [
    {
     "data": {
      "image/png": "[encoded data removed]",
      "text/plain": [
       "Plot with title \"Death Rate\""
      ]
     },
     "metadata": {},
     "output_type": "display_data"
    }
   ],
   "source": [
    "hist(data$deathRate, breaks = 40, main = \"Death Rate\")"
   ]
  },
  {
   "cell_type": "markdown",
   "metadata": {},
   "source": [
    "To give guidance into what relationships in our data might be more interesting than others, we used the `corrplot` function from the `corrplot` package. This gives a visualization of the strength of the Pearson corrlation between various parameters. We note that we used a specific setting to only include values in which both observations were defined in calculating the Pearson coefficient (any `NA` values excluded). In this graphic, color <font color=blue>__blue__</font> represents positive correlation factor while color <font color=red>__red__</font> represents negative correlation. White indicates there is no clear correlation between the variables."
   ]
  },
  {
   "cell_type": "code",
   "execution_count": 64,
   "metadata": {},
   "outputs": [
    {
     "data": {
      "image/png": "[encoded data removed]",
      "text/plain": [
       "Plot with title \"\""
      ]
     },
     "metadata": {},
     "output_type": "display_data"
    }
   ],
   "source": [
    "# only include numerical columns in correlation matrix\n",
    "numeric.cols <- as.logical(unlist(lapply(data, is.numeric)))\n",
    "corr.matrix <- cor(data[,numeric.cols], use = \"pairwise.complete.obs\")\n",
    "\n",
    "corrplot(corr.matrix, is.corr=T , \n",
    "         method = \"color\", \n",
    "         type='lower',\n",
    "         tl.cex = 0.5)"
   ]
  },
  {
   "cell_type": "code",
   "execution_count": null,
   "metadata": {
    "collapsed": true
   },
   "outputs": [],
   "source": []
  }
 ],
 "metadata": {
  "kernelspec": {
   "display_name": "R",
   "language": "R",
   "name": "ir"
  },
  "language_info": {
   "codemirror_mode": "r",
   "file_extension": ".r",
   "mimetype": "text/x-r-source",
   "name": "R",
   "pygments_lexer": "r",
   "version": "3.4.3"
  }
 },
 "nbformat": 4,
 "nbformat_minor": 2
}
