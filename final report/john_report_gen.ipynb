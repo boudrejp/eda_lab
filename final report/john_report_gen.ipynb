{
 "cells": [
  {
   "cell_type": "markdown",
   "metadata": {},
   "source": [
    "# Exploratory Data Analysis - Cancer Data\n",
    "\n",
    "Analysis and report completed by:\n",
    "\n",
    "Arjun Chakraborty, Zeliang (Doug) Xu, John Boudreaux\n",
    "\n",
    "September 24, 2018\n"
   ]
  },
  {
   "cell_type": "markdown",
   "metadata": {},
   "source": [
    "## Introduction\n",
    "* Include Research question\n",
    "* Include details about data set\n",
    "* Include any restrictions put upon the data upfront\n",
    "* Note that this is not causal analysis\n",
    "\n",
    "This exploratory analysis is meant to address the research question:\n",
    "_What factors are related to the cancer death rate in US counties?_\n",
    "\n",
    "To explore this research question, we will employ various statistical techniques including subsetting the data, descriptive statistics, outlier detection and treatment, multivariate correlations, and others. In particular, our analysis will focus heavily on using graphical methods to illustrate various aspects about our dataset.\n",
    "\n",
    "It is important to note that our analysis is not meant to prove any sort of causality. All of our methods and conclusions are purely meant as descriptive methods to explore the relationships within the data. This dataset also has some very particular issues that indicate further data collection or clarification may be necessary to fully validate the results. For instance, there is no documentation on the basis of the death rate- is this a death rate per 100,000 people, averaged over some period? Is it normalized in any way? Is it only deaths from cancer? Without further documentation, we can still perform some analysis but the full translation into reality is still somewhat unknown.\n",
    "\n",
    "In this report, we will use R (>=3.4) to perform the analysis. We will provide code for all graphics and analysis performed so that the reader can reproduce this analysis with the given dataset."
   ]
  },
  {
   "cell_type": "markdown",
   "metadata": {},
   "source": [
    "## Setup"
   ]
  },
  {
   "cell_type": "code",
   "execution_count": 44,
   "metadata": {},
   "outputs": [],
   "source": [
    "require(car)\n",
    "require(dplyr)\n",
    "require(corrplot)"
   ]
  },
  {
   "cell_type": "markdown",
   "metadata": {},
   "source": [
    "We start by loading our packages for analysis. The `car` package gives the `scatterplotMatrix` function, which is very useful to see relationships between multiple parameters at the same time. `dplyr` gives some convenient tools for data subsetting and aggregation, but will only have limited use in this report. The `corrplot` package gives the `corrplot` function, which is a nice visual way to see the correlations between data in our dataset."
   ]
  },
  {
   "cell_type": "code",
   "execution_count": 45,
   "metadata": {},
   "outputs": [],
   "source": [
    "cancerdata <- read.csv(\"../project materials/cancer.csv\")"
   ]
  },
  {
   "cell_type": "markdown",
   "metadata": {},
   "source": [
    "We then load our data into R using the read.csv commands. Now that we have our packages and data in our R environment, we can begin our analysis."
   ]
  },
  {
   "cell_type": "markdown",
   "metadata": {},
   "source": [
    "## Data Selection\n",
    "* Include rows, columns\n",
    "* Include discussion about data types\n",
    "* Include summary data -> make sure this is not just a \"data dump\""
   ]
  },
  {
   "cell_type": "markdown",
   "metadata": {},
   "source": []
  },
  {
   "cell_type": "code",
   "execution_count": 46,
   "metadata": {},
   "outputs": [
    {
     "data": {
      "text/html": [
       "<ol class=list-inline>\n",
       "\t<li>3047</li>\n",
       "\t<li>30</li>\n",
       "</ol>\n"
      ],
      "text/latex": [
       "\\begin{enumerate*}\n",
       "\\item 3047\n",
       "\\item 30\n",
       "\\end{enumerate*}\n"
      ],
      "text/markdown": [
       "1. 3047\n",
       "2. 30\n",
       "\n",
       "\n"
      ],
      "text/plain": [
       "[1] 3047   30"
      ]
     },
     "metadata": {},
     "output_type": "display_data"
    }
   ],
   "source": [
    "dim(cancerdata)"
   ]
  },
  {
   "cell_type": "markdown",
   "metadata": {},
   "source": [
    "Our data has 3047 observations in rows, and 30 columns of parameters for each observation. "
   ]
  },
  {
   "cell_type": "code",
   "execution_count": 47,
   "metadata": {},
   "outputs": [
    {
     "name": "stdout",
     "output_type": "stream",
     "text": [
      "'data.frame':\t3047 obs. of  30 variables:\n",
      " $ X                   : int  1 2 3 4 5 6 7 8 9 10 ...\n",
      " $ avgAnnCount         : num  1397 173 102 427 57 ...\n",
      " $ medIncome           : int  61898 48127 49348 44243 49955 52313 37782 40189 42579 60397 ...\n",
      " $ popEst2015          : int  260131 43269 21026 75882 10321 61023 41516 20848 13088 843954 ...\n",
      " $ povertyPercent      : num  11.2 18.6 14.6 17.1 12.5 15.6 23.2 17.8 22.3 13.1 ...\n",
      " $ binnedInc           : Factor w/ 10 levels \"(34218.1, 37413.8]\",..: 9 6 6 4 6 7 2 2 3 8 ...\n",
      " $ MedianAge           : num  39.3 33 45 42.8 48.3 45.4 42.6 51.7 49.3 35.8 ...\n",
      " $ MedianAgeMale       : num  36.9 32.2 44 42.2 47.8 43.5 42.2 50.8 48.4 34.7 ...\n",
      " $ MedianAgeFemale     : num  41.7 33.7 45.8 43.4 48.9 48 43.5 52.5 49.8 37 ...\n",
      " $ Geography           : Factor w/ 3047 levels \"Abbeville County, South Carolina\",..: 1459 1460 1464 1589 1618 1766 2051 2112 2143 2185 ...\n",
      " $ AvgHouseholdSize    : num  2.54 2.34 2.62 2.52 2.34 2.58 2.42 2.24 2.38 2.65 ...\n",
      " $ PercentMarried      : num  52.5 44.5 54.2 52.7 57.8 50.4 54.1 52.7 55.9 50 ...\n",
      " $ PctNoHS18_24        : num  11.5 6.1 24 20.2 14.9 29.9 26.1 27.3 34.7 15.6 ...\n",
      " $ PctHS18_24          : num  39.5 22.4 36.6 41.2 43 35.1 41.4 33.9 39.4 36.3 ...\n",
      " $ PctSomeCol18_24     : num  42.1 64 NA 36.1 40 NA NA 36.5 NA NA ...\n",
      " $ PctBachDeg18_24     : num  6.9 7.5 9.5 2.5 2 4.5 5.8 2.2 1.4 7.1 ...\n",
      " $ PctHS25_Over        : num  23.2 26 29 31.6 33.4 30.4 29.8 31.6 32.2 28.8 ...\n",
      " $ PctBachDeg25_Over   : num  19.6 22.7 16 9.3 15 11.9 11.9 11.3 12 16.2 ...\n",
      " $ PctEmployed16_Over  : num  51.9 55.9 45.9 48.3 48.2 44.1 51.8 40.9 39.5 56.6 ...\n",
      " $ PctUnemployed16_Over: num  8 7.8 7 12.1 4.8 12.9 8.9 8.9 10.3 9.2 ...\n",
      " $ PctPrivateCoverage  : num  75.1 70.2 63.7 58.4 61.6 60 49.5 55.8 55.5 69.9 ...\n",
      " $ PctEmpPrivCoverage  : num  41.6 43.6 34.9 35 35.1 32.6 28.3 25.9 29.9 44.4 ...\n",
      " $ PctPublicCoverage   : num  32.9 31.1 42.1 45.3 44 43.2 46.4 50.9 48.1 31.4 ...\n",
      " $ PctWhite            : num  81.8 89.2 90.9 91.7 94.1 ...\n",
      " $ PctBlack            : num  2.595 0.969 0.74 0.783 0.27 ...\n",
      " $ PctAsian            : num  4.822 2.246 0.466 1.161 0.666 ...\n",
      " $ PctOtherRace        : num  1.843 3.741 2.747 1.363 0.492 ...\n",
      " $ PctMarriedHouseholds: num  52.9 45.4 54.4 51 54 ...\n",
      " $ BirthRate           : num  6.12 4.33 3.73 4.6 6.8 ...\n",
      " $ deathRate           : num  165 161 175 195 144 ...\n"
     ]
    }
   ],
   "source": [
    "str(cancerdata)"
   ]
  },
  {
   "cell_type": "markdown",
   "metadata": {},
   "source": [
    "Our 30 columns are to be primarily demographic data for various counties in the USA."
   ]
  },
  {
   "cell_type": "code",
   "execution_count": 48,
   "metadata": {},
   "outputs": [
    {
     "data": {
      "text/html": [
       "<ol class=list-inline>\n",
       "\t<li>Washington</li>\n",
       "\t<li>West Virginia</li>\n",
       "\t<li>Wisconsin</li>\n",
       "\t<li>Nebraska</li>\n",
       "\t<li>Nevada</li>\n",
       "\t<li>New Hampshire</li>\n",
       "\t<li>New Jersey</li>\n",
       "\t<li>New Mexico</li>\n",
       "\t<li>New York</li>\n",
       "\t<li>Virginia</li>\n",
       "\t<li>Michigan</li>\n",
       "\t<li>Minnesota</li>\n",
       "\t<li>North Carolina</li>\n",
       "\t<li>North Dakota</li>\n",
       "\t<li>Alabama</li>\n",
       "\t<li>Arkansas</li>\n",
       "\t<li>California</li>\n",
       "\t<li>Montana</li>\n",
       "\t<li>Tennessee</li>\n",
       "\t<li>Texas</li>\n",
       "\t<li>Louisiana</li>\n",
       "\t<li>Maine</li>\n",
       "\t<li>Maryland</li>\n",
       "\t<li>Massachusetts</li>\n",
       "\t<li>Utah</li>\n",
       "\t<li>Vermont</li>\n",
       "\t<li>Colorado</li>\n",
       "\t<li>Wyoming</li>\n",
       "\t<li>Mississippi</li>\n",
       "\t<li>Missouri</li>\n",
       "\t<li>Kansas</li>\n",
       "\t<li>Kentucky</li>\n",
       "\t<li>Connecticut</li>\n",
       "\t<li>Delaware</li>\n",
       "\t<li>District of Columbia</li>\n",
       "\t<li>Florida</li>\n",
       "\t<li>Oklahoma</li>\n",
       "\t<li>Oregon</li>\n",
       "\t<li>Ohio</li>\n",
       "\t<li>Pennsylvania</li>\n",
       "\t<li>Rhode Island</li>\n",
       "\t<li>South Carolina</li>\n",
       "\t<li>Indiana</li>\n",
       "\t<li>Iowa</li>\n",
       "\t<li>Georgia</li>\n",
       "\t<li>Hawaii</li>\n",
       "\t<li>Idaho</li>\n",
       "\t<li>Illinois</li>\n",
       "\t<li>Alaska</li>\n",
       "\t<li>Arizona</li>\n",
       "\t<li>South Dakota</li>\n",
       "</ol>\n"
      ],
      "text/latex": [
       "\\begin{enumerate*}\n",
       "\\item Washington\n",
       "\\item West Virginia\n",
       "\\item Wisconsin\n",
       "\\item Nebraska\n",
       "\\item Nevada\n",
       "\\item New Hampshire\n",
       "\\item New Jersey\n",
       "\\item New Mexico\n",
       "\\item New York\n",
       "\\item Virginia\n",
       "\\item Michigan\n",
       "\\item Minnesota\n",
       "\\item North Carolina\n",
       "\\item North Dakota\n",
       "\\item Alabama\n",
       "\\item Arkansas\n",
       "\\item California\n",
       "\\item Montana\n",
       "\\item Tennessee\n",
       "\\item Texas\n",
       "\\item Louisiana\n",
       "\\item Maine\n",
       "\\item Maryland\n",
       "\\item Massachusetts\n",
       "\\item Utah\n",
       "\\item Vermont\n",
       "\\item Colorado\n",
       "\\item Wyoming\n",
       "\\item Mississippi\n",
       "\\item Missouri\n",
       "\\item Kansas\n",
       "\\item Kentucky\n",
       "\\item Connecticut\n",
       "\\item Delaware\n",
       "\\item District of Columbia\n",
       "\\item Florida\n",
       "\\item Oklahoma\n",
       "\\item Oregon\n",
       "\\item Ohio\n",
       "\\item Pennsylvania\n",
       "\\item Rhode Island\n",
       "\\item South Carolina\n",
       "\\item Indiana\n",
       "\\item Iowa\n",
       "\\item Georgia\n",
       "\\item Hawaii\n",
       "\\item Idaho\n",
       "\\item Illinois\n",
       "\\item Alaska\n",
       "\\item Arizona\n",
       "\\item South Dakota\n",
       "\\end{enumerate*}\n"
      ],
      "text/markdown": [
       "1. Washington\n",
       "2. West Virginia\n",
       "3. Wisconsin\n",
       "4. Nebraska\n",
       "5. Nevada\n",
       "6. New Hampshire\n",
       "7. New Jersey\n",
       "8. New Mexico\n",
       "9. New York\n",
       "10. Virginia\n",
       "11. Michigan\n",
       "12. Minnesota\n",
       "13. North Carolina\n",
       "14. North Dakota\n",
       "15. Alabama\n",
       "16. Arkansas\n",
       "17. California\n",
       "18. Montana\n",
       "19. Tennessee\n",
       "20. Texas\n",
       "21. Louisiana\n",
       "22. Maine\n",
       "23. Maryland\n",
       "24. Massachusetts\n",
       "25. Utah\n",
       "26. Vermont\n",
       "27. Colorado\n",
       "28. Wyoming\n",
       "29. Mississippi\n",
       "30. Missouri\n",
       "31. Kansas\n",
       "32. Kentucky\n",
       "33. Connecticut\n",
       "34. Delaware\n",
       "35. District of Columbia\n",
       "36. Florida\n",
       "37. Oklahoma\n",
       "38. Oregon\n",
       "39. Ohio\n",
       "40. Pennsylvania\n",
       "41. Rhode Island\n",
       "42. South Carolina\n",
       "43. Indiana\n",
       "44. Iowa\n",
       "45. Georgia\n",
       "46. Hawaii\n",
       "47. Idaho\n",
       "48. Illinois\n",
       "49. Alaska\n",
       "50. Arizona\n",
       "51. South Dakota\n",
       "\n",
       "\n"
      ],
      "text/plain": [
       " [1] Washington           West Virginia        Wisconsin           \n",
       " [4] Nebraska             Nevada               New Hampshire       \n",
       " [7] New Jersey           New Mexico           New York            \n",
       "[10] Virginia             Michigan             Minnesota           \n",
       "[13] North Carolina       North Dakota         Alabama             \n",
       "[16] Arkansas             California           Montana             \n",
       "[19] Tennessee            Texas                Louisiana           \n",
       "[22] Maine                Maryland             Massachusetts       \n",
       "[25] Utah                 Vermont              Colorado            \n",
       "[28] Wyoming              Mississippi          Missouri            \n",
       "[31] Kansas               Kentucky             Connecticut         \n",
       "[34] Delaware             District of Columbia Florida             \n",
       "[37] Oklahoma             Oregon               Ohio                \n",
       "[40] Pennsylvania         Rhode Island         South Carolina      \n",
       "[43] Indiana              Iowa                 Georgia             \n",
       "[46] Hawaii               Idaho                Illinois            \n",
       "[49] Alaska               Arizona              South Dakota        \n",
       "51 Levels: Alabama Alaska Arizona Arkansas California Colorado ... Wyoming"
      ]
     },
     "metadata": {},
     "output_type": "display_data"
    }
   ],
   "source": [
    "# binning of the geography into states\n",
    "cancerdata$Geography <- as.character(cancerdata$Geography)\n",
    "split.geo <- strsplit(as.character(cancerdata$Geography), \", \")\n",
    "states <- sapply(split.geo, \n",
    "                 function(x){\n",
    "                   return(x[2])\n",
    "                   })\n",
    "cancerdata$state <- as.factor(states)\n",
    "\n",
    "unique(cancerdata$state)"
   ]
  },
  {
   "cell_type": "markdown",
   "metadata": {},
   "source": [
    "States will be more useful for subsetting"
   ]
  },
  {
   "cell_type": "code",
   "execution_count": 57,
   "metadata": {},
   "outputs": [
    {
     "data": {
      "image/png": "[encoded data removed]",
      "text/plain": [
       "Plot with title \"Sum of all race percentage\""
      ]
     },
     "metadata": {},
     "output_type": "display_data"
    }
   ],
   "source": [
    "#create logical field to make sure races add up to 100\n",
    "adds.to.100 <- cancerdata$PctWhite + cancerdata$PctBlack + cancerdata$PctAsian + cancerdata$PctOtherRace\n",
    "boxplot(adds.to.100, main = \"Sum of all race percentage\", height = 3, width = 5)"
   ]
  },
  {
   "cell_type": "markdown",
   "metadata": {},
   "source": [
    "...that's an issue"
   ]
  },
  {
   "cell_type": "code",
   "execution_count": 54,
   "metadata": {},
   "outputs": [
    {
     "data": {
      "text/html": [
       "421"
      ],
      "text/latex": [
       "421"
      ],
      "text/markdown": [
       "421"
      ],
      "text/plain": [
       "[1] 421"
      ]
     },
     "metadata": {},
     "output_type": "display_data"
    }
   ],
   "source": [
    "sum(adds.to.100 < 95)"
   ]
  },
  {
   "cell_type": "markdown",
   "metadata": {},
   "source": [
    "## Exploratory Analysis\n",
    "* Include univariate methods (histograms, boxplots, summary stats)\n",
    "* Include multivariate\n",
    "* Each code input/output should have discussion as to why it was performed, and what the takeaway is\n",
    "* Be careful about using the terms \"significant\" and \"probable\" as these have strict statistical definitions, and I have a feeling we might get points off if we use them outside of that strict definition.\n",
    "* State how any subsetting/filtering of the data might affect the overall analysis... i.e., if we get rid of these data points, how might that change our results"
   ]
  },
  {
   "cell_type": "code",
   "execution_count": null,
   "metadata": {
    "collapsed": true
   },
   "outputs": [],
   "source": []
  },
  {
   "cell_type": "markdown",
   "metadata": {},
   "source": [
    "## Discussion and Conclusions\n",
    "* Synthesize material from exploratory analysis into paragraphs\n",
    "* Discuss further steps that may be useful in the future\n"
   ]
  },
  {
   "cell_type": "code",
   "execution_count": null,
   "metadata": {
    "collapsed": true
   },
   "outputs": [],
   "source": []
  }
 ],
 "metadata": {
  "kernelspec": {
   "display_name": "R",
   "language": "R",
   "name": "ir"
  },
  "language_info": {
   "codemirror_mode": "r",
   "file_extension": ".r",
   "mimetype": "text/x-r-source",
   "name": "R",
   "pygments_lexer": "r",
   "version": "3.4.3"
  }
 },
 "nbformat": 4,
 "nbformat_minor": 2
}
