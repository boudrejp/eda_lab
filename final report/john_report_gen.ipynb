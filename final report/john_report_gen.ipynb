{
 "cells": [
  {
   "cell_type": "markdown",
   "metadata": {},
   "source": [
    "# Exploratory Data Analysis - Cancer Data\n",
    "\n",
    "Analysis and report completed by:\n",
    "\n",
    "Arjun Chakraborty, Zeliang (Doug) Xu, John Boudreaux\n",
    "\n",
    "September 24, 2018\n"
   ]
  },
  {
   "cell_type": "markdown",
   "metadata": {},
   "source": [
    "## Introduction\n",
    "* Include Research question\n",
    "* Include details about data set\n",
    "* Include any restrictions put upon the data upfront\n",
    "* Note that this is not causal analysis"
   ]
  },
  {
   "cell_type": "markdown",
   "metadata": {},
   "source": [
    "## Setup\n",
    "* Include libraries, and why we use them\n",
    "* Include data load "
   ]
  },
  {
   "cell_type": "code",
   "execution_count": null,
   "metadata": {
    "collapsed": true
   },
   "outputs": [],
   "source": []
  },
  {
   "cell_type": "markdown",
   "metadata": {},
   "source": [
    "## Data Selection\n",
    "* Include rows, columns\n",
    "* Include discussion about data types\n",
    "* Include summary data -> make sure this is not just a \"data dump\""
   ]
  },
  {
   "cell_type": "markdown",
   "metadata": {},
   "source": []
  },
  {
   "cell_type": "markdown",
   "metadata": {},
   "source": [
    "## Exploratory Analysis\n",
    "* Include univariate methods (histograms, boxplots, summary stats)\n",
    "* Include multivariate\n",
    "* Each code input/output should have discussion as to why it was performed, and what the takeaway is\n",
    "* Be careful about using the terms \"significant\" and \"probable\" as these have strict statistical definitions, and I have a feeling we might get points off if we use them outside of that strict definition.\n",
    "* State how any subsetting/filtering of the data might affect the overall analysis... i.e., if we get rid of these data points, how might that change our results"
   ]
  },
  {
   "cell_type": "code",
   "execution_count": null,
   "metadata": {
    "collapsed": true
   },
   "outputs": [],
   "source": []
  },
  {
   "cell_type": "markdown",
   "metadata": {},
   "source": [
    "## Discussion and Conclusions\n",
    "* Synthesize material from exploratory analysis into paragraphs\n",
    "* Discuss further steps that may be useful in the future\n"
   ]
  },
  {
   "cell_type": "code",
   "execution_count": null,
   "metadata": {
    "collapsed": true
   },
   "outputs": [],
   "source": []
  }
 ],
 "metadata": {
  "kernelspec": {
   "display_name": "R",
   "language": "R",
   "name": "ir"
  },
  "language_info": {
   "codemirror_mode": "r",
   "file_extension": ".r",
   "mimetype": "text/x-r-source",
   "name": "R",
   "pygments_lexer": "r",
   "version": "3.5.1"
  }
 },
 "nbformat": 4,
 "nbformat_minor": 2
}
