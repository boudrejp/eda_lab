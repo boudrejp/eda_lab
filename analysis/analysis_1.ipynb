{
 "cells": [
  {
   "cell_type": "markdown",
   "metadata": {},
   "source": [
    "# The initial exploratory of the data\n"
   ]
  },
  {
   "cell_type": "markdown",
   "metadata": {},
   "source": [
    "first we load the data and take a look at the data"
   ]
  },
  {
   "cell_type": "code",
   "execution_count": 63,
   "metadata": {},
   "outputs": [
    {
     "name": "stdout",
     "output_type": "stream",
     "text": [
      "                   X          avgAnnCount            medIncome \n",
      "           \"integer\"             \"double\"            \"integer\" \n",
      "          popEst2015       povertyPercent            binnedInc \n",
      "           \"integer\"             \"double\"            \"integer\" \n",
      "           MedianAge        MedianAgeMale      MedianAgeFemale \n",
      "            \"double\"             \"double\"             \"double\" \n",
      "           Geography     AvgHouseholdSize       PercentMarried \n",
      "           \"integer\"             \"double\"             \"double\" \n",
      "        PctNoHS18_24           PctHS18_24      PctSomeCol18_24 \n",
      "            \"double\"             \"double\"             \"double\" \n",
      "     PctBachDeg18_24         PctHS25_Over    PctBachDeg25_Over \n",
      "            \"double\"             \"double\"             \"double\" \n",
      "  PctEmployed16_Over PctUnemployed16_Over   PctPrivateCoverage \n",
      "            \"double\"             \"double\"             \"double\" \n",
      "  PctEmpPrivCoverage    PctPublicCoverage             PctWhite \n",
      "            \"double\"             \"double\"             \"double\" \n",
      "            PctBlack             PctAsian         PctOtherRace \n",
      "            \"double\"             \"double\"             \"double\" \n",
      "PctMarriedHouseholds            BirthRate            deathRate \n",
      "            \"double\"             \"double\"             \"double\" \n"
     ]
    },
    {
     "data": {
      "text/plain": [
       "       X           avgAnnCount        medIncome        popEst2015      \n",
       " Min.   :   1.0   Min.   :    6.0   Min.   : 22640   Min.   :     827  \n",
       " 1st Qu.: 762.5   1st Qu.:   76.0   1st Qu.: 38883   1st Qu.:   11684  \n",
       " Median :1524.0   Median :  171.0   Median : 45207   Median :   26643  \n",
       " Mean   :1524.0   Mean   :  606.3   Mean   : 47063   Mean   :  102637  \n",
       " 3rd Qu.:2285.5   3rd Qu.:  518.0   3rd Qu.: 52492   3rd Qu.:   68671  \n",
       " Max.   :3047.0   Max.   :38150.0   Max.   :125635   Max.   :10170292  \n",
       "                                                                       \n",
       " povertyPercent               binnedInc      MedianAge      MedianAgeMale  \n",
       " Min.   : 3.20   (45201, 48021.6]  : 306   Min.   : 22.30   Min.   :22.40  \n",
       " 1st Qu.:12.15   (54545.6, 61494.5]: 306   1st Qu.: 37.70   1st Qu.:36.35  \n",
       " Median :15.90   [22640, 34218.1]  : 306   Median : 41.00   Median :39.60  \n",
       " Mean   :16.88   (42724.4, 45201]  : 305   Mean   : 45.27   Mean   :39.57  \n",
       " 3rd Qu.:20.40   (48021.6, 51046.4]: 305   3rd Qu.: 44.00   3rd Qu.:42.50  \n",
       " Max.   :47.40   (51046.4, 54545.6]: 305   Max.   :624.00   Max.   :64.70  \n",
       "                 (Other)           :1214                                   \n",
       " MedianAgeFemale                            Geography    AvgHouseholdSize\n",
       " Min.   :22.30   Abbeville County, South Carolina:   1   Min.   :0.0221  \n",
       " 1st Qu.:39.10   Acadia Parish, Louisiana        :   1   1st Qu.:2.3700  \n",
       " Median :42.40   Accomack County, Virginia       :   1   Median :2.5000  \n",
       " Mean   :42.15   Ada County, Idaho               :   1   Mean   :2.4797  \n",
       " 3rd Qu.:45.30   Adair County, Iowa              :   1   3rd Qu.:2.6300  \n",
       " Max.   :65.70   Adair County, Kentucky          :   1   Max.   :3.9700  \n",
       "                 (Other)                         :3041                   \n",
       " PercentMarried   PctNoHS18_24     PctHS18_24   PctSomeCol18_24\n",
       " Min.   :23.10   Min.   : 0.00   Min.   : 0.0   Min.   : 7.10  \n",
       " 1st Qu.:47.75   1st Qu.:12.80   1st Qu.:29.2   1st Qu.:34.00  \n",
       " Median :52.40   Median :17.10   Median :34.7   Median :40.40  \n",
       " Mean   :51.77   Mean   :18.22   Mean   :35.0   Mean   :40.98  \n",
       " 3rd Qu.:56.40   3rd Qu.:22.70   3rd Qu.:40.7   3rd Qu.:46.40  \n",
       " Max.   :72.50   Max.   :64.10   Max.   :72.5   Max.   :79.00  \n",
       "                                                NA's   :2285   \n",
       " PctBachDeg18_24   PctHS25_Over   PctBachDeg25_Over PctEmployed16_Over\n",
       " Min.   : 0.000   Min.   : 7.50   Min.   : 2.50     Min.   :17.60     \n",
       " 1st Qu.: 3.100   1st Qu.:30.40   1st Qu.: 9.40     1st Qu.:48.60     \n",
       " Median : 5.400   Median :35.30   Median :12.30     Median :54.50     \n",
       " Mean   : 6.158   Mean   :34.80   Mean   :13.28     Mean   :54.15     \n",
       " 3rd Qu.: 8.200   3rd Qu.:39.65   3rd Qu.:16.10     3rd Qu.:60.30     \n",
       " Max.   :51.800   Max.   :54.80   Max.   :42.20     Max.   :80.10     \n",
       "                                                    NA's   :152       \n",
       " PctUnemployed16_Over PctPrivateCoverage PctEmpPrivCoverage PctPublicCoverage\n",
       " Min.   : 0.400       Min.   :22.30      Min.   :13.5       Min.   :11.20    \n",
       " 1st Qu.: 5.500       1st Qu.:57.20      1st Qu.:34.5       1st Qu.:30.90    \n",
       " Median : 7.600       Median :65.10      Median :41.1       Median :36.30    \n",
       " Mean   : 7.852       Mean   :64.35      Mean   :41.2       Mean   :36.25    \n",
       " 3rd Qu.: 9.700       3rd Qu.:72.10      3rd Qu.:47.7       3rd Qu.:41.55    \n",
       " Max.   :29.400       Max.   :92.30      Max.   :70.7       Max.   :65.10    \n",
       "                                                                             \n",
       "    PctWhite         PctBlack          PctAsian        PctOtherRace    \n",
       " Min.   : 10.20   Min.   : 0.0000   Min.   : 0.0000   Min.   : 0.0000  \n",
       " 1st Qu.: 77.30   1st Qu.: 0.6207   1st Qu.: 0.2542   1st Qu.: 0.2952  \n",
       " Median : 90.06   Median : 2.2476   Median : 0.5498   Median : 0.8262  \n",
       " Mean   : 83.65   Mean   : 9.1080   Mean   : 1.2540   Mean   : 1.9835  \n",
       " 3rd Qu.: 95.45   3rd Qu.:10.5097   3rd Qu.: 1.2210   3rd Qu.: 2.1780  \n",
       " Max.   :100.00   Max.   :85.9478   Max.   :42.6194   Max.   :41.9303  \n",
       "                                                                       \n",
       " PctMarriedHouseholds   BirthRate        deathRate    \n",
       " Min.   :22.99        Min.   : 0.000   Min.   : 59.7  \n",
       " 1st Qu.:47.76        1st Qu.: 4.521   1st Qu.:161.2  \n",
       " Median :51.67        Median : 5.381   Median :178.1  \n",
       " Mean   :51.24        Mean   : 5.640   Mean   :178.7  \n",
       " 3rd Qu.:55.40        3rd Qu.: 6.494   3rd Qu.:195.2  \n",
       " Max.   :78.08        Max.   :21.326   Max.   :362.8  \n",
       "                                                      "
      ]
     },
     "metadata": {},
     "output_type": "display_data"
    }
   ],
   "source": [
    "library(car)\n",
    "data = read.csv(\"../project materials/cancer.csv\", header = T)\n",
    "print(sapply(data,typeof))\n",
    "summary(data)"
   ]
  },
  {
   "cell_type": "markdown",
   "metadata": {},
   "source": [
    "### Data Exploration and cleaning:\n",
    "Based on the results of the data summary, we can tell that the data set has 30 different parameters. Among the 30, 29 of them have the data type of either \"double\" or \"integer\", and one series is of type \"string\". \n",
    "<br>There are several things that seem wrong at the very first glance:\n",
    "<br>1) The parameter \"MedianAge\" has maximum value of 624. To the best of our knowledge, the US county with the oldest age median has median age around 65, therefore, we are setting the clean-up criterion at 65 for this parameter\n",
    "<br>2) The parameter \"AvgHouseholdSize\" has values smaller than 1. Our assumption is that every household should have at least 1 person, therefore, we are using value 1 as our clean-up criterion\n",
    "<br>3) The paramter \"PctHS18_24\" has the min value at 0. In the US, it is usually expected that people finish high school with very few exceptions, there are cases that parents can sign a paper so that their kids can drop out from high school. However, 0% of population between 18 and 24 years old have high school diploma does not make a lot of sense. We did a box plot below on this parameter just to make sure that there are not too many counties like that, and it turns out there is only one data point that has the value 0, and with our assumption, we will remove this row of data. We assume that for the other rows with lower percentage of high school diploma between 18-24 years old, have their special reasons (high age average so that no people between 18-24, or due to people with certain ethnic background)"
   ]
  },
  {
   "cell_type": "code",
   "execution_count": 66,
   "metadata": {},
   "outputs": [],
   "source": [
    "# boxplot(data$BirthRate, main=\"BirthRate\")"
   ]
  },
  {
   "cell_type": "code",
   "execution_count": 67,
   "metadata": {},
   "outputs": [
    {
     "data": {
      "image/png": "[encoded data removed]",
      "text/plain": [
       "Plot with title \"PctHS18_24\""
      ]
     },
     "metadata": {},
     "output_type": "display_data"
    }
   ],
   "source": [
    "boxplot(data$PctHS18_24, main=\"PctHS18_24\", notch=T)"
   ]
  },
  {
   "cell_type": "code",
   "execution_count": null,
   "metadata": {},
   "outputs": [],
   "source": []
  },
  {
   "cell_type": "code",
   "execution_count": 15,
   "metadata": {},
   "outputs": [
    {
     "data": {
      "text/plain": [
       "       X           avgAnnCount        medIncome        popEst2015      \n",
       " Min.   :   1.0   Min.   :    6.0   Min.   : 22640   Min.   :     827  \n",
       " 1st Qu.: 762.5   1st Qu.:   76.0   1st Qu.: 38883   1st Qu.:   11684  \n",
       " Median :1524.0   Median :  171.0   Median : 45207   Median :   26643  \n",
       " Mean   :1524.0   Mean   :  606.3   Mean   : 47063   Mean   :  102637  \n",
       " 3rd Qu.:2285.5   3rd Qu.:  518.0   3rd Qu.: 52492   3rd Qu.:   68671  \n",
       " Max.   :3047.0   Max.   :38150.0   Max.   :125635   Max.   :10170292  \n",
       "                                                                       \n",
       " povertyPercent               binnedInc      MedianAge     MedianAgeMale  \n",
       " Min.   : 3.20   (45201, 48021.6]  : 306   Min.   :22.30   Min.   :22.40  \n",
       " 1st Qu.:12.15   (54545.6, 61494.5]: 306   1st Qu.:37.70   1st Qu.:36.35  \n",
       " Median :15.90   [22640, 34218.1]  : 306   Median :40.90   Median :39.60  \n",
       " Mean   :16.88   (42724.4, 45201]  : 305   Mean   :40.82   Mean   :39.57  \n",
       " 3rd Qu.:20.40   (48021.6, 51046.4]: 305   3rd Qu.:43.80   3rd Qu.:42.50  \n",
       " Max.   :47.40   (51046.4, 54545.6]: 305   Max.   :65.30   Max.   :64.70  \n",
       "                 (Other)           :1214   NA's   :30                     \n",
       " MedianAgeFemale                            Geography    AvgHouseholdSize\n",
       " Min.   :22.30   Abbeville County, South Carolina:   1   Min.   :1.86    \n",
       " 1st Qu.:39.10   Acadia Parish, Louisiana        :   1   1st Qu.:2.37    \n",
       " Median :42.40   Accomack County, Virginia       :   1   Median :2.50    \n",
       " Mean   :42.15   Ada County, Idaho               :   1   Mean   :2.53    \n",
       " 3rd Qu.:45.30   Adair County, Iowa              :   1   3rd Qu.:2.64    \n",
       " Max.   :65.70   Adair County, Kentucky          :   1   Max.   :3.97    \n",
       "                 (Other)                         :3041   NA's   :61      \n",
       " PercentMarried   PctNoHS18_24     PctHS18_24   PctSomeCol18_24\n",
       " Min.   :23.10   Min.   : 0.00   Min.   : 0.0   Min.   : 7.10  \n",
       " 1st Qu.:47.75   1st Qu.:12.80   1st Qu.:29.2   1st Qu.:34.00  \n",
       " Median :52.40   Median :17.10   Median :34.7   Median :40.40  \n",
       " Mean   :51.77   Mean   :18.22   Mean   :35.0   Mean   :40.98  \n",
       " 3rd Qu.:56.40   3rd Qu.:22.70   3rd Qu.:40.7   3rd Qu.:46.40  \n",
       " Max.   :72.50   Max.   :64.10   Max.   :72.5   Max.   :79.00  \n",
       "                                                NA's   :2285   \n",
       " PctBachDeg18_24   PctHS25_Over   PctBachDeg25_Over PctEmployed16_Over\n",
       " Min.   : 0.000   Min.   : 7.50   Min.   : 2.50     Min.   :17.60     \n",
       " 1st Qu.: 3.100   1st Qu.:30.40   1st Qu.: 9.40     1st Qu.:48.60     \n",
       " Median : 5.400   Median :35.30   Median :12.30     Median :54.50     \n",
       " Mean   : 6.158   Mean   :34.80   Mean   :13.28     Mean   :54.15     \n",
       " 3rd Qu.: 8.200   3rd Qu.:39.65   3rd Qu.:16.10     3rd Qu.:60.30     \n",
       " Max.   :51.800   Max.   :54.80   Max.   :42.20     Max.   :80.10     \n",
       "                                                    NA's   :152       \n",
       " PctUnemployed16_Over PctPrivateCoverage PctEmpPrivCoverage PctPublicCoverage\n",
       " Min.   : 0.400       Min.   :22.30      Min.   :13.5       Min.   :11.20    \n",
       " 1st Qu.: 5.500       1st Qu.:57.20      1st Qu.:34.5       1st Qu.:30.90    \n",
       " Median : 7.600       Median :65.10      Median :41.1       Median :36.30    \n",
       " Mean   : 7.852       Mean   :64.35      Mean   :41.2       Mean   :36.25    \n",
       " 3rd Qu.: 9.700       3rd Qu.:72.10      3rd Qu.:47.7       3rd Qu.:41.55    \n",
       " Max.   :29.400       Max.   :92.30      Max.   :70.7       Max.   :65.10    \n",
       "                                                                             \n",
       "    PctWhite         PctBlack          PctAsian        PctOtherRace    \n",
       " Min.   : 10.20   Min.   : 0.0000   Min.   : 0.0000   Min.   : 0.0000  \n",
       " 1st Qu.: 77.30   1st Qu.: 0.6207   1st Qu.: 0.2542   1st Qu.: 0.2952  \n",
       " Median : 90.06   Median : 2.2476   Median : 0.5498   Median : 0.8262  \n",
       " Mean   : 83.65   Mean   : 9.1080   Mean   : 1.2540   Mean   : 1.9835  \n",
       " 3rd Qu.: 95.45   3rd Qu.:10.5097   3rd Qu.: 1.2210   3rd Qu.: 2.1780  \n",
       " Max.   :100.00   Max.   :85.9478   Max.   :42.6194   Max.   :41.9303  \n",
       "                                                                       \n",
       " PctMarriedHouseholds   BirthRate        deathRate    \n",
       " Min.   :22.99        Min.   : 0.000   Min.   : 59.7  \n",
       " 1st Qu.:47.76        1st Qu.: 4.521   1st Qu.:161.2  \n",
       " Median :51.67        Median : 5.381   Median :178.1  \n",
       " Mean   :51.24        Mean   : 5.640   Mean   :178.7  \n",
       " 3rd Qu.:55.40        3rd Qu.: 6.494   3rd Qu.:195.2  \n",
       " Max.   :78.08        Max.   :21.326   Max.   :362.8  \n",
       "                                                      "
      ]
     },
     "metadata": {},
     "output_type": "display_data"
    },
    {
     "data": {
      "text/html": [
       "<ol class=list-inline>\n",
       "\t<li>'avgAnnCount'</li>\n",
       "\t<li>'AvgHouseholdSize'</li>\n",
       "\t<li>'binnedInc'</li>\n",
       "\t<li>'BirthRate'</li>\n",
       "\t<li>'deathRate'</li>\n",
       "\t<li>'Geography'</li>\n",
       "\t<li>'MedianAge'</li>\n",
       "\t<li>'MedianAgeFemale'</li>\n",
       "\t<li>'MedianAgeMale'</li>\n",
       "\t<li>'medIncome'</li>\n",
       "\t<li>'PctAsian'</li>\n",
       "\t<li>'PctBachDeg18_24'</li>\n",
       "\t<li>'PctBachDeg25_Over'</li>\n",
       "\t<li>'PctBlack'</li>\n",
       "\t<li>'PctEmployed16_Over'</li>\n",
       "\t<li>'PctEmpPrivCoverage'</li>\n",
       "\t<li>'PctHS18_24'</li>\n",
       "\t<li>'PctHS25_Over'</li>\n",
       "\t<li>'PctMarriedHouseholds'</li>\n",
       "\t<li>'PctNoHS18_24'</li>\n",
       "\t<li>'PctOtherRace'</li>\n",
       "\t<li>'PctPrivateCoverage'</li>\n",
       "\t<li>'PctPublicCoverage'</li>\n",
       "\t<li>'PctSomeCol18_24'</li>\n",
       "\t<li>'PctUnemployed16_Over'</li>\n",
       "\t<li>'PctWhite'</li>\n",
       "\t<li>'PercentMarried'</li>\n",
       "\t<li>'popEst2015'</li>\n",
       "\t<li>'povertyPercent'</li>\n",
       "\t<li>'X'</li>\n",
       "</ol>\n"
      ],
      "text/latex": [
       "\\begin{enumerate*}\n",
       "\\item 'avgAnnCount'\n",
       "\\item 'AvgHouseholdSize'\n",
       "\\item 'binnedInc'\n",
       "\\item 'BirthRate'\n",
       "\\item 'deathRate'\n",
       "\\item 'Geography'\n",
       "\\item 'MedianAge'\n",
       "\\item 'MedianAgeFemale'\n",
       "\\item 'MedianAgeMale'\n",
       "\\item 'medIncome'\n",
       "\\item 'PctAsian'\n",
       "\\item 'PctBachDeg18\\_24'\n",
       "\\item 'PctBachDeg25\\_Over'\n",
       "\\item 'PctBlack'\n",
       "\\item 'PctEmployed16\\_Over'\n",
       "\\item 'PctEmpPrivCoverage'\n",
       "\\item 'PctHS18\\_24'\n",
       "\\item 'PctHS25\\_Over'\n",
       "\\item 'PctMarriedHouseholds'\n",
       "\\item 'PctNoHS18\\_24'\n",
       "\\item 'PctOtherRace'\n",
       "\\item 'PctPrivateCoverage'\n",
       "\\item 'PctPublicCoverage'\n",
       "\\item 'PctSomeCol18\\_24'\n",
       "\\item 'PctUnemployed16\\_Over'\n",
       "\\item 'PctWhite'\n",
       "\\item 'PercentMarried'\n",
       "\\item 'popEst2015'\n",
       "\\item 'povertyPercent'\n",
       "\\item 'X'\n",
       "\\end{enumerate*}\n"
      ],
      "text/markdown": [
       "1. 'avgAnnCount'\n",
       "2. 'AvgHouseholdSize'\n",
       "3. 'binnedInc'\n",
       "4. 'BirthRate'\n",
       "5. 'deathRate'\n",
       "6. 'Geography'\n",
       "7. 'MedianAge'\n",
       "8. 'MedianAgeFemale'\n",
       "9. 'MedianAgeMale'\n",
       "10. 'medIncome'\n",
       "11. 'PctAsian'\n",
       "12. 'PctBachDeg18_24'\n",
       "13. 'PctBachDeg25_Over'\n",
       "14. 'PctBlack'\n",
       "15. 'PctEmployed16_Over'\n",
       "16. 'PctEmpPrivCoverage'\n",
       "17. 'PctHS18_24'\n",
       "18. 'PctHS25_Over'\n",
       "19. 'PctMarriedHouseholds'\n",
       "20. 'PctNoHS18_24'\n",
       "21. 'PctOtherRace'\n",
       "22. 'PctPrivateCoverage'\n",
       "23. 'PctPublicCoverage'\n",
       "24. 'PctSomeCol18_24'\n",
       "25. 'PctUnemployed16_Over'\n",
       "26. 'PctWhite'\n",
       "27. 'PercentMarried'\n",
       "28. 'popEst2015'\n",
       "29. 'povertyPercent'\n",
       "30. 'X'\n",
       "\n",
       "\n"
      ],
      "text/plain": [
       " [1] \"avgAnnCount\"          \"AvgHouseholdSize\"     \"binnedInc\"           \n",
       " [4] \"BirthRate\"            \"deathRate\"            \"Geography\"           \n",
       " [7] \"MedianAge\"            \"MedianAgeFemale\"      \"MedianAgeMale\"       \n",
       "[10] \"medIncome\"            \"PctAsian\"             \"PctBachDeg18_24\"     \n",
       "[13] \"PctBachDeg25_Over\"    \"PctBlack\"             \"PctEmployed16_Over\"  \n",
       "[16] \"PctEmpPrivCoverage\"   \"PctHS18_24\"           \"PctHS25_Over\"        \n",
       "[19] \"PctMarriedHouseholds\" \"PctNoHS18_24\"         \"PctOtherRace\"        \n",
       "[22] \"PctPrivateCoverage\"   \"PctPublicCoverage\"    \"PctSomeCol18_24\"     \n",
       "[25] \"PctUnemployed16_Over\" \"PctWhite\"             \"PercentMarried\"      \n",
       "[28] \"popEst2015\"           \"povertyPercent\"       \"X\"                   "
      ]
     },
     "metadata": {},
     "output_type": "display_data"
    }
   ],
   "source": [
    "data$MedianAge[data$MedianAge >= 120] <- NA\n",
    "data$AvgHouseholdSize[data$AvgHouseholdSize < 1] <- NA\n",
    "summary(data)\n",
    "objects(data)"
   ]
  },
  {
   "cell_type": "code",
   "execution_count": null,
   "metadata": {},
   "outputs": [],
   "source": []
  },
  {
   "cell_type": "code",
   "execution_count": null,
   "metadata": {},
   "outputs": [],
   "source": []
  },
  {
   "cell_type": "code",
   "execution_count": 3,
   "metadata": {},
   "outputs": [
    {
     "data": {
      "image/png": "[encoded data removed]",
      "text/plain": [
       "Plot with title \"Histogram of data$deathRate\""
      ]
     },
     "metadata": {},
     "output_type": "display_data"
    }
   ],
   "source": [
    "hist(data$deathRate)"
   ]
  },
  {
   "cell_type": "code",
   "execution_count": null,
   "metadata": {},
   "outputs": [],
   "source": []
  },
  {
   "cell_type": "code",
   "execution_count": 21,
   "metadata": {},
   "outputs": [
    {
     "data": {
      "text/html": [
       "<table>\n",
       "<thead><tr><th></th><th scope=col>X</th><th scope=col>avgAnnCount</th><th scope=col>medIncome</th><th scope=col>popEst2015</th><th scope=col>povertyPercent</th></tr></thead>\n",
       "<tbody>\n",
       "\t<tr><th scope=row>X</th><td> 1.00000000</td><td>-0.02163091</td><td>-0.04969572</td><td>-0.05595008</td><td> 0.03341044</td></tr>\n",
       "\t<tr><th scope=row>avgAnnCount</th><td>-0.02163091</td><td> 1.00000000</td><td> 0.26914468</td><td> 0.92689354</td><td>-0.13569391</td></tr>\n",
       "\t<tr><th scope=row>medIncome</th><td>-0.04969572</td><td> 0.26914468</td><td> 1.00000000</td><td> 0.23552286</td><td>-0.78896524</td></tr>\n",
       "\t<tr><th scope=row>popEst2015</th><td>-0.05595008</td><td> 0.92689354</td><td> 0.23552286</td><td> 1.00000000</td><td>-0.06529915</td></tr>\n",
       "\t<tr><th scope=row>povertyPercent</th><td> 0.03341044</td><td>-0.13569391</td><td>-0.78896524</td><td>-0.06529915</td><td> 1.00000000</td></tr>\n",
       "</tbody>\n",
       "</table>\n"
      ],
      "text/latex": [
       "\\begin{tabular}{r|lllll}\n",
       "  & X & avgAnnCount & medIncome & popEst2015 & povertyPercent\\\\\n",
       "\\hline\n",
       "\tX &  1.00000000 & -0.02163091 & -0.04969572 & -0.05595008 &  0.03341044\\\\\n",
       "\tavgAnnCount & -0.02163091 &  1.00000000 &  0.26914468 &  0.92689354 & -0.13569391\\\\\n",
       "\tmedIncome & -0.04969572 &  0.26914468 &  1.00000000 &  0.23552286 & -0.78896524\\\\\n",
       "\tpopEst2015 & -0.05595008 &  0.92689354 &  0.23552286 &  1.00000000 & -0.06529915\\\\\n",
       "\tpovertyPercent &  0.03341044 & -0.13569391 & -0.78896524 & -0.06529915 &  1.00000000\\\\\n",
       "\\end{tabular}\n"
      ],
      "text/markdown": [
       "\n",
       "| <!--/--> | X | avgAnnCount | medIncome | popEst2015 | povertyPercent | \n",
       "|---|---|---|---|---|\n",
       "| X |  1.00000000 | -0.02163091 | -0.04969572 | -0.05595008 |  0.03341044 | \n",
       "| avgAnnCount | -0.02163091 |  1.00000000 |  0.26914468 |  0.92689354 | -0.13569391 | \n",
       "| medIncome | -0.04969572 |  0.26914468 |  1.00000000 |  0.23552286 | -0.78896524 | \n",
       "| popEst2015 | -0.05595008 |  0.92689354 |  0.23552286 |  1.00000000 | -0.06529915 | \n",
       "| povertyPercent |  0.03341044 | -0.13569391 | -0.78896524 | -0.06529915 |  1.00000000 | \n",
       "\n",
       "\n"
      ],
      "text/plain": [
       "               X           avgAnnCount medIncome   popEst2015  povertyPercent\n",
       "X               1.00000000 -0.02163091 -0.04969572 -0.05595008  0.03341044   \n",
       "avgAnnCount    -0.02163091  1.00000000  0.26914468  0.92689354 -0.13569391   \n",
       "medIncome      -0.04969572  0.26914468  1.00000000  0.23552286 -0.78896524   \n",
       "popEst2015     -0.05595008  0.92689354  0.23552286  1.00000000 -0.06529915   \n",
       "povertyPercent  0.03341044 -0.13569391 -0.78896524 -0.06529915  1.00000000   "
      ]
     },
     "metadata": {},
     "output_type": "display_data"
    }
   ],
   "source": [
    "data_num <- data[,sapply(data,is.numeric)]\n",
    "cor(data_num[1:5])\n"
   ]
  },
  {
   "cell_type": "code",
   "execution_count": null,
   "metadata": {},
   "outputs": [],
   "source": []
  },
  {
   "cell_type": "code",
   "execution_count": 20,
   "metadata": {},
   "outputs": [
    {
     "data": {
      "text/plain": [
       "       X           avgAnnCount        medIncome        popEst2015      \n",
       " Min.   :   1.0   Min.   :    6.0   Min.   : 22640   Min.   :     827  \n",
       " 1st Qu.: 762.5   1st Qu.:   76.0   1st Qu.: 38883   1st Qu.:   11684  \n",
       " Median :1524.0   Median :  171.0   Median : 45207   Median :   26643  \n",
       " Mean   :1524.0   Mean   :  606.3   Mean   : 47063   Mean   :  102637  \n",
       " 3rd Qu.:2285.5   3rd Qu.:  518.0   3rd Qu.: 52492   3rd Qu.:   68671  \n",
       " Max.   :3047.0   Max.   :38150.0   Max.   :125635   Max.   :10170292  \n",
       "                                                                       \n",
       " povertyPercent    MedianAge     MedianAgeMale   MedianAgeFemale\n",
       " Min.   : 3.20   Min.   :22.30   Min.   :22.40   Min.   :22.30  \n",
       " 1st Qu.:12.15   1st Qu.:37.70   1st Qu.:36.35   1st Qu.:39.10  \n",
       " Median :15.90   Median :40.90   Median :39.60   Median :42.40  \n",
       " Mean   :16.88   Mean   :40.82   Mean   :39.57   Mean   :42.15  \n",
       " 3rd Qu.:20.40   3rd Qu.:43.80   3rd Qu.:42.50   3rd Qu.:45.30  \n",
       " Max.   :47.40   Max.   :65.30   Max.   :64.70   Max.   :65.70  \n",
       "                 NA's   :30                                     \n",
       " AvgHouseholdSize PercentMarried   PctNoHS18_24     PctHS18_24  \n",
       " Min.   :1.86     Min.   :23.10   Min.   : 0.00   Min.   : 0.0  \n",
       " 1st Qu.:2.37     1st Qu.:47.75   1st Qu.:12.80   1st Qu.:29.2  \n",
       " Median :2.50     Median :52.40   Median :17.10   Median :34.7  \n",
       " Mean   :2.53     Mean   :51.77   Mean   :18.22   Mean   :35.0  \n",
       " 3rd Qu.:2.64     3rd Qu.:56.40   3rd Qu.:22.70   3rd Qu.:40.7  \n",
       " Max.   :3.97     Max.   :72.50   Max.   :64.10   Max.   :72.5  \n",
       " NA's   :61                                                     \n",
       " PctSomeCol18_24 PctBachDeg18_24   PctHS25_Over   PctBachDeg25_Over\n",
       " Min.   : 7.10   Min.   : 0.000   Min.   : 7.50   Min.   : 2.50    \n",
       " 1st Qu.:34.00   1st Qu.: 3.100   1st Qu.:30.40   1st Qu.: 9.40    \n",
       " Median :40.40   Median : 5.400   Median :35.30   Median :12.30    \n",
       " Mean   :40.98   Mean   : 6.158   Mean   :34.80   Mean   :13.28    \n",
       " 3rd Qu.:46.40   3rd Qu.: 8.200   3rd Qu.:39.65   3rd Qu.:16.10    \n",
       " Max.   :79.00   Max.   :51.800   Max.   :54.80   Max.   :42.20    \n",
       " NA's   :2285                                                      \n",
       " PctEmployed16_Over PctUnemployed16_Over PctPrivateCoverage PctEmpPrivCoverage\n",
       " Min.   :17.60      Min.   : 0.400       Min.   :22.30      Min.   :13.5      \n",
       " 1st Qu.:48.60      1st Qu.: 5.500       1st Qu.:57.20      1st Qu.:34.5      \n",
       " Median :54.50      Median : 7.600       Median :65.10      Median :41.1      \n",
       " Mean   :54.15      Mean   : 7.852       Mean   :64.35      Mean   :41.2      \n",
       " 3rd Qu.:60.30      3rd Qu.: 9.700       3rd Qu.:72.10      3rd Qu.:47.7      \n",
       " Max.   :80.10      Max.   :29.400       Max.   :92.30      Max.   :70.7      \n",
       " NA's   :152                                                                  \n",
       " PctPublicCoverage    PctWhite         PctBlack          PctAsian      \n",
       " Min.   :11.20     Min.   : 10.20   Min.   : 0.0000   Min.   : 0.0000  \n",
       " 1st Qu.:30.90     1st Qu.: 77.30   1st Qu.: 0.6207   1st Qu.: 0.2542  \n",
       " Median :36.30     Median : 90.06   Median : 2.2476   Median : 0.5498  \n",
       " Mean   :36.25     Mean   : 83.65   Mean   : 9.1080   Mean   : 1.2540  \n",
       " 3rd Qu.:41.55     3rd Qu.: 95.45   3rd Qu.:10.5097   3rd Qu.: 1.2210  \n",
       " Max.   :65.10     Max.   :100.00   Max.   :85.9478   Max.   :42.6194  \n",
       "                                                                       \n",
       "  PctOtherRace     PctMarriedHouseholds   BirthRate        deathRate    \n",
       " Min.   : 0.0000   Min.   :22.99        Min.   : 0.000   Min.   : 59.7  \n",
       " 1st Qu.: 0.2952   1st Qu.:47.76        1st Qu.: 4.521   1st Qu.:161.2  \n",
       " Median : 0.8262   Median :51.67        Median : 5.381   Median :178.1  \n",
       " Mean   : 1.9835   Mean   :51.24        Mean   : 5.640   Mean   :178.7  \n",
       " 3rd Qu.: 2.1780   3rd Qu.:55.40        3rd Qu.: 6.494   3rd Qu.:195.2  \n",
       " Max.   :41.9303   Max.   :78.08        Max.   :21.326   Max.   :362.8  \n",
       "                                                                        \n",
       "    RaceAll      \n",
       " Min.   : 11.23  \n",
       " 1st Qu.: 96.41  \n",
       " Median : 97.70  \n",
       " Mean   : 95.99  \n",
       " 3rd Qu.: 98.42  \n",
       " Max.   :100.00  \n",
       "                 "
      ]
     },
     "metadata": {},
     "output_type": "display_data"
    }
   ],
   "source": [
    "data_num$RaceAll <- data_num$PctAsian + data_num$PctBlack + data_num$PctWhite + data_num$PctOtherRace\n",
    "summary(data_num$RaceAll)\n",
    "summary(data_num)"
   ]
  },
  {
   "cell_type": "code",
   "execution_count": null,
   "metadata": {},
   "outputs": [],
   "source": []
  },
  {
   "cell_type": "code",
   "execution_count": 7,
   "metadata": {},
   "outputs": [],
   "source": [
    "# should we consider this data issue?\n",
    "# data_num <- subset(data_num,data_num$RaceAll > 5)\n",
    "# summary(data_num$RaceAll)\n",
    "# nrow(data_num)"
   ]
  },
  {
   "cell_type": "markdown",
   "metadata": {},
   "source": [
    "## this section analyze the common features for counties with higher death rate"
   ]
  },
  {
   "cell_type": "code",
   "execution_count": 24,
   "metadata": {},
   "outputs": [
    {
     "name": "stderr",
     "output_type": "stream",
     "text": [
      "195.2\n"
     ]
    },
    {
     "data": {
      "text/html": [
       "761"
      ],
      "text/latex": [
       "761"
      ],
      "text/markdown": [
       "761"
      ],
      "text/plain": [
       "[1] 761"
      ]
     },
     "metadata": {},
     "output_type": "display_data"
    },
    {
     "data": {
      "text/plain": [
       "       X         avgAnnCount        medIncome       popEst2015     \n",
       " Min.   :  24   Min.   :    6.0   Min.   :22640   Min.   :    827  \n",
       " 1st Qu.: 765   1st Qu.:   71.0   1st Qu.:34419   1st Qu.:  11043  \n",
       " Median :1529   Median :  122.0   Median :38465   Median :  20566  \n",
       " Mean   :1549   Mean   :  257.3   Mean   :39570   Mean   :  38301  \n",
       " 3rd Qu.:2284   3rd Qu.:  221.0   3rd Qu.:43298   3rd Qu.:  37030  \n",
       " Max.   :3047   Max.   :10411.0   Max.   :79358   Max.   :1759335  \n",
       "                                                                   \n",
       " povertyPercent    MedianAge     MedianAgeMale  MedianAgeFemale\n",
       " Min.   : 6.20   Min.   :23.30   Min.   :22.8   Min.   :24.50  \n",
       " 1st Qu.:17.00   1st Qu.:38.60   1st Qu.:36.9   1st Qu.:40.20  \n",
       " Median :20.30   Median :40.90   Median :39.5   Median :42.40  \n",
       " Mean   :21.09   Mean   :40.84   Mean   :39.5   Mean   :42.24  \n",
       " 3rd Qu.:24.50   3rd Qu.:43.00   3rd Qu.:41.7   3rd Qu.:44.50  \n",
       " Max.   :47.40   Max.   :54.60   Max.   :54.3   Max.   :59.60  \n",
       "                 NA's   :7                                     \n",
       " AvgHouseholdSize PercentMarried   PctNoHS18_24     PctHS18_24  \n",
       " Min.   :1.860    Min.   :23.10   Min.   : 0.50   Min.   : 8.6  \n",
       " 1st Qu.:2.420    1st Qu.:46.00   1st Qu.:14.60   1st Qu.:33.1  \n",
       " Median :2.520    Median :51.10   Median :19.40   Median :38.7  \n",
       " Mean   :2.535    Mean   :49.61   Mean   :20.05   Mean   :38.7  \n",
       " 3rd Qu.:2.620    3rd Qu.:54.60   3rd Qu.:24.60   3rd Qu.:43.7  \n",
       " Max.   :3.970    Max.   :65.10   Max.   :59.10   Max.   :66.2  \n",
       " NA's   :19                                                     \n",
       " PctSomeCol18_24 PctBachDeg18_24   PctHS25_Over   PctBachDeg25_Over\n",
       " Min.   :11.20   Min.   : 0.000   Min.   :16.00   Min.   : 2.500   \n",
       " 1st Qu.:31.15   1st Qu.: 2.100   1st Qu.:35.50   1st Qu.: 7.400   \n",
       " Median :36.50   Median : 3.700   Median :39.10   Median : 9.100   \n",
       " Mean   :36.95   Mean   : 4.213   Mean   :38.66   Mean   : 9.604   \n",
       " 3rd Qu.:42.30   3rd Qu.: 5.800   3rd Qu.:42.50   3rd Qu.:11.100   \n",
       " Max.   :63.00   Max.   :43.400   Max.   :53.60   Max.   :26.700   \n",
       " NA's   :573                                                       \n",
       " PctEmployed16_Over PctUnemployed16_Over PctPrivateCoverage PctEmpPrivCoverage\n",
       " Min.   :17.60      Min.   : 0.700       Min.   :22.30      Min.   :13.50     \n",
       " 1st Qu.:44.92      1st Qu.: 7.400       1st Qu.:51.70      1st Qu.:31.20     \n",
       " Median :49.25      Median : 9.400       Median :58.00      Median :36.30     \n",
       " Mean   :49.13      Mean   : 9.651       Mean   :57.62      Mean   :36.43     \n",
       " 3rd Qu.:53.80      3rd Qu.:11.500       3rd Qu.:63.30      3rd Qu.:41.30     \n",
       " Max.   :80.10      Max.   :29.400       Max.   :86.20      Max.   :65.10     \n",
       " NA's   :39                                                                   \n",
       " PctPublicCoverage    PctWhite         PctBlack          PctAsian      \n",
       " Min.   :11.20     Min.   : 10.20   Min.   : 0.0000   Min.   : 0.0000  \n",
       " 1st Qu.:36.50     1st Qu.: 67.67   1st Qu.: 0.8197   1st Qu.: 0.1396  \n",
       " Median :40.80     Median : 88.52   Median : 3.9075   Median : 0.3750  \n",
       " Mean   :40.72     Mean   : 79.38   Mean   :13.9864   Mean   : 0.6030  \n",
       " 3rd Qu.:45.20     3rd Qu.: 95.77   3rd Qu.:22.7756   3rd Qu.: 0.6598  \n",
       " Max.   :59.30     Max.   :100.00   Max.   :85.9478   Max.   :37.1569  \n",
       "                                                                       \n",
       "  PctOtherRace     PctMarriedHouseholds   BirthRate        deathRate    \n",
       " Min.   : 0.0000   Min.   :22.99        Min.   : 0.000   Min.   :195.3  \n",
       " 1st Qu.: 0.1650   1st Qu.:45.65        1st Qu.: 4.405   1st Qu.:201.4  \n",
       " Median : 0.5249   Median :50.15        Median : 5.356   Median :209.6  \n",
       " Mean   : 1.1656   Mean   :48.95        Mean   : 5.552   Mean   :213.8  \n",
       " 3rd Qu.: 1.2552   3rd Qu.:53.33        3rd Qu.: 6.530   3rd Qu.:220.2  \n",
       " Max.   :23.6663   Max.   :67.93        Max.   :17.877   Max.   :362.8  \n",
       "                                                                        "
      ]
     },
     "metadata": {},
     "output_type": "display_data"
    }
   ],
   "source": [
    "deathRatequrt3 <- quantile(data_num$deathRate,0.75, na.rm=T)\n",
    "message(deathRatequrt3)\n",
    "data_sub1 <- subset(data_num,data_num$deathRate > deathRatequrt3)\n",
    "nrow(data_sub1)\n",
    "summary(data_sub1)"
   ]
  },
  {
   "cell_type": "code",
   "execution_count": 35,
   "metadata": {},
   "outputs": [
    {
     "ename": "ERROR",
     "evalue": "Error in dimnames(x) <- dnx: 'dimnames' applied to non-array\n",
     "output_type": "error",
     "traceback": [
      "Error in dimnames(x) <- dnx: 'dimnames' applied to non-array\nTraceback:\n",
      "1. compare_them(data_num, data_sub1) %>% View()",
      "2. eval(lhs, parent, parent)",
      "3. eval(lhs, parent, parent)",
      "4. compare_them(data_num, data_sub1)",
      "5. apply(data1, 2, summary) %>% data.frame()   # at line 4 of file <text>",
      "6. withVisible(eval(quote(`_fseq`(`_lhs`)), env, env))",
      "7. eval(quote(`_fseq`(`_lhs`)), env, env)",
      "8. eval(quote(`_fseq`(`_lhs`)), env, env)",
      "9. `_fseq`(`_lhs`)",
      "10. freduce(value, `_function_list`)",
      "11. withVisible(function_list[[k]](value))",
      "12. function_list[[k]](value)",
      "13. data.frame(.)",
      "14. as.data.frame(x[[i]], optional = TRUE, stringsAsFactors = stringsAsFactors)",
      "15. as.data.frame.list(x[[i]], optional = TRUE, stringsAsFactors = stringsAsFactors)",
      "16. do.call(data.frame, c(x, alis))",
      "17. (function (..., row.names = NULL, check.rows = FALSE, check.names = TRUE, \n  .     fix.empty.names = TRUE, stringsAsFactors = default.stringsAsFactors()) \n  . {\n  .     data.row.names <- if (check.rows && is.null(row.names)) \n  .         function(current, new, i) {\n  .             if (is.character(current)) \n  .                 new <- as.character(new)\n  .             if (is.character(new)) \n  .                 current <- as.character(current)\n  .             if (anyDuplicated(new)) \n  .                 return(current)\n  .             if (is.null(current)) \n  .                 return(new)\n  .             if (all(current == new) || all(current == \"\")) \n  .                 return(new)\n  .             stop(gettextf(\"mismatch of row names in arguments of 'data.frame', item %d\", \n  .                 i), domain = NA)\n  .         }\n  .     else function(current, new, i) {\n  .         if (is.null(current)) {\n  .             if (anyDuplicated(new)) {\n  .                 warning(gettextf(\"some row.names duplicated: %s --> row.names NOT used\", \n  .                   paste(which(duplicated(new)), collapse = \",\")), \n  .                   domain = NA)\n  .                 current\n  .             }\n  .             else new\n  .         }\n  .         else current\n  .     }\n  .     object <- as.list(substitute(list(...)))[-1L]\n  .     mirn <- missing(row.names)\n  .     mrn <- is.null(row.names)\n  .     x <- list(...)\n  .     n <- length(x)\n  .     if (n < 1L) {\n  .         if (!mrn) {\n  .             if (is.object(row.names) || !is.integer(row.names)) \n  .                 row.names <- as.character(row.names)\n  .             if (anyNA(row.names)) \n  .                 stop(\"row names contain missing values\")\n  .             if (anyDuplicated(row.names)) \n  .                 stop(gettextf(\"duplicate row.names: %s\", paste(unique(row.names[duplicated(row.names)]), \n  .                   collapse = \", \")), domain = NA)\n  .         }\n  .         else row.names <- integer()\n  .         return(structure(list(), names = character(), row.names = row.names, \n  .             class = \"data.frame\"))\n  .     }\n  .     vnames <- names(x)\n  .     if (length(vnames) != n) \n  .         vnames <- character(n)\n  .     no.vn <- !nzchar(vnames)\n  .     vlist <- vnames <- as.list(vnames)\n  .     nrows <- ncols <- integer(n)\n  .     for (i in seq_len(n)) {\n  .         xi <- if (is.character(x[[i]]) || is.list(x[[i]])) \n  .             as.data.frame(x[[i]], optional = TRUE, stringsAsFactors = stringsAsFactors)\n  .         else as.data.frame(x[[i]], optional = TRUE)\n  .         nrows[i] <- .row_names_info(xi)\n  .         ncols[i] <- length(xi)\n  .         namesi <- names(xi)\n  .         if (ncols[i] > 1L) {\n  .             if (length(namesi) == 0L) \n  .                 namesi <- seq_len(ncols[i])\n  .             vnames[[i]] <- if (no.vn[i]) \n  .                 namesi\n  .             else paste(vnames[[i]], namesi, sep = \".\")\n  .         }\n  .         else if (length(namesi)) {\n  .             vnames[[i]] <- namesi\n  .         }\n  .         else if (fix.empty.names && no.vn[[i]]) {\n  .             tmpname <- deparse(object[[i]], nlines = 1L)[1L]\n  .             if (substr(tmpname, 1L, 2L) == \"I(\") {\n  .                 ntmpn <- nchar(tmpname, \"c\")\n  .                 if (substr(tmpname, ntmpn, ntmpn) == \")\") \n  .                   tmpname <- substr(tmpname, 3L, ntmpn - 1L)\n  .             }\n  .             vnames[[i]] <- tmpname\n  .         }\n  .         if (mirn && nrows[i] > 0L) {\n  .             rowsi <- attr(xi, \"row.names\")\n  .             if (any(nzchar(rowsi))) \n  .                 row.names <- data.row.names(row.names, rowsi, \n  .                   i)\n  .         }\n  .         nrows[i] <- abs(nrows[i])\n  .         vlist[[i]] <- xi\n  .     }\n  .     nr <- max(nrows)\n  .     for (i in seq_len(n)[nrows < nr]) {\n  .         xi <- vlist[[i]]\n  .         if (nrows[i] > 0L && (nr%%nrows[i] == 0L)) {\n  .             xi <- unclass(xi)\n  .             fixed <- TRUE\n  .             for (j in seq_along(xi)) {\n  .                 xi1 <- xi[[j]]\n  .                 if (is.vector(xi1) || is.factor(xi1)) \n  .                   xi[[j]] <- rep(xi1, length.out = nr)\n  .                 else if (is.character(xi1) && inherits(xi1, \"AsIs\")) \n  .                   xi[[j]] <- structure(rep(xi1, length.out = nr), \n  .                     class = class(xi1))\n  .                 else if (inherits(xi1, \"Date\") || inherits(xi1, \n  .                   \"POSIXct\")) \n  .                   xi[[j]] <- rep(xi1, length.out = nr)\n  .                 else {\n  .                   fixed <- FALSE\n  .                   break\n  .                 }\n  .             }\n  .             if (fixed) {\n  .                 vlist[[i]] <- xi\n  .                 next\n  .             }\n  .         }\n  .         stop(gettextf(\"arguments imply differing number of rows: %s\", \n  .             paste(unique(nrows), collapse = \", \")), domain = NA)\n  .     }\n  .     value <- unlist(vlist, recursive = FALSE, use.names = FALSE)\n  .     vnames <- unlist(vnames[ncols > 0L])\n  .     if (fix.empty.names && any(noname <- !nzchar(vnames))) \n  .         vnames[noname] <- paste0(\"Var.\", seq_along(vnames))[noname]\n  .     if (check.names) {\n  .         if (fix.empty.names) \n  .             vnames <- make.names(vnames, unique = TRUE)\n  .         else {\n  .             nz <- nzchar(vnames)\n  .             vnames[nz] <- make.names(vnames[nz], unique = TRUE)\n  .         }\n  .     }\n  .     names(value) <- vnames\n  .     if (!mrn) {\n  .         if (length(row.names) == 1L && nr != 1L) {\n  .             if (is.character(row.names)) \n  .                 row.names <- match(row.names, vnames, 0L)\n  .             if (length(row.names) != 1L || row.names < 1L || \n  .                 row.names > length(vnames)) \n  .                 stop(\"'row.names' should specify one of the variables\")\n  .             i <- row.names\n  .             row.names <- value[[i]]\n  .             value <- value[-i]\n  .         }\n  .         else if (!is.null(row.names) && length(row.names) != \n  .             nr) \n  .             stop(\"row names supplied are of the wrong length\")\n  .     }\n  .     else if (!is.null(row.names) && length(row.names) != nr) {\n  .         warning(\"row names were found from a short variable and have been discarded\")\n  .         row.names <- NULL\n  .     }\n  .     class(value) <- \"data.frame\"\n  .     if (is.null(row.names)) \n  .         attr(value, \"row.names\") <- .set_row_names(nr)\n  .     else {\n  .         if (is.object(row.names) || !is.integer(row.names)) \n  .             row.names <- as.character(row.names)\n  .         if (anyNA(row.names)) \n  .             stop(\"row names contain missing values\")\n  .         if (anyDuplicated(row.names)) \n  .             stop(gettextf(\"duplicate row.names: %s\", paste(unique(row.names[duplicated(row.names)]), \n  .                 collapse = \", \")), domain = NA)\n  .         row.names(value) <- row.names\n  .     }\n  .     value\n  . })(X = structure(c(Min. = 1, `1st Qu.` = 762.5, Median = 1524, \n  . Mean = 1524, `3rd Qu.` = 2285.5, Max. = 3047), class = c(\"summaryDefault\", \n  . \"table\")), avgAnnCount = structure(c(Min. = 6, `1st Qu.` = 76, \n  . Median = 171, Mean = 606.338543782081, `3rd Qu.` = 518, Max. = 38150\n  . ), class = c(\"summaryDefault\", \"table\")), medIncome = structure(c(Min. = 22640, \n  . `1st Qu.` = 38882.5, Median = 45207, Mean = 47063.2819166393, \n  . `3rd Qu.` = 52492, Max. = 125635), class = c(\"summaryDefault\", \n  . \"table\")), popEst2015 = structure(c(Min. = 827, `1st Qu.` = 11684, \n  . Median = 26643, Mean = 102637.370528389, `3rd Qu.` = 68671, Max. = 10170292\n  . ), class = c(\"summaryDefault\", \"table\")), povertyPercent = structure(c(Min. = 3.2, \n  . `1st Qu.` = 12.15, Median = 15.9, Mean = 16.8781752543485, `3rd Qu.` = 20.4, \n  . Max. = 47.4), class = c(\"summaryDefault\", \"table\")), MedianAge = structure(c(Min. = 22.3, \n  . `1st Qu.` = 37.7, Median = 40.9, Mean = 40.8238647663242, `3rd Qu.` = 43.8, \n  . Max. = 65.3, `NA's` = 30), class = c(\"summaryDefault\", \"table\"\n  . )), MedianAgeMale = structure(c(Min. = 22.4, `1st Qu.` = 36.35, \n  . Median = 39.6, Mean = 39.5707253035773, `3rd Qu.` = 42.5, Max. = 64.7\n  . ), class = c(\"summaryDefault\", \"table\")), MedianAgeFemale = structure(c(Min. = 22.3, \n  . `1st Qu.` = 39.1, Median = 42.4, Mean = 42.145323268789, `3rd Qu.` = 45.3, \n  . Max. = 65.7), class = c(\"summaryDefault\", \"table\")), AvgHouseholdSize = structure(c(Min. = 1.86, \n  . `1st Qu.` = 2.37, Median = 2.5, Mean = 2.52980241125251, `3rd Qu.` = 2.64, \n  . Max. = 3.97, `NA's` = 61), class = c(\"summaryDefault\", \"table\"\n  . )), PercentMarried = structure(c(Min. = 23.1, `1st Qu.` = 47.75, \n  . Median = 52.4, Mean = 51.7736790285527, `3rd Qu.` = 56.4, Max. = 72.5\n  . ), class = c(\"summaryDefault\", \"table\")), PctNoHS18_24 = structure(c(Min. = 0, \n  . `1st Qu.` = 12.8, Median = 17.1, Mean = 18.2244502789629, `3rd Qu.` = 22.7, \n  . Max. = 64.1), class = c(\"summaryDefault\", \"table\")), PctHS18_24 = structure(c(Min. = 0, \n  . `1st Qu.` = 29.2, Median = 34.7, Mean = 35.0020676074828, `3rd Qu.` = 40.7, \n  . Max. = 72.5), class = c(\"summaryDefault\", \"table\")), PctSomeCol18_24 = structure(c(Min. = 7.1, \n  . `1st Qu.` = 34, Median = 40.4, Mean = 40.9770341207349, `3rd Qu.` = 46.4, \n  . Max. = 79, `NA's` = 2285), class = c(\"summaryDefault\", \"table\"\n  . )), PctBachDeg18_24 = structure(c(Min. = 0, `1st Qu.` = 3.1, \n  . Median = 5.4, Mean = 6.15828683951428, `3rd Qu.` = 8.2, Max. = 51.8\n  . ), class = c(\"summaryDefault\", \"table\")), PctHS25_Over = structure(c(Min. = 7.5, \n  . `1st Qu.` = 30.4, Median = 35.3, Mean = 34.8046603216278, `3rd Qu.` = 39.65, \n  . Max. = 54.8), class = c(\"summaryDefault\", \"table\")), PctBachDeg25_Over = structure(c(Min. = 2.5, \n  . `1st Qu.` = 9.4, Median = 12.3, Mean = 13.2820150968165, `3rd Qu.` = 16.1, \n  . Max. = 42.2), class = c(\"summaryDefault\", \"table\")), PctEmployed16_Over = structure(c(Min. = 17.6, \n  . `1st Qu.` = 48.6, Median = 54.5, Mean = 54.1526424870466, `3rd Qu.` = 60.3, \n  . Max. = 80.1, `NA's` = 152), class = c(\"summaryDefault\", \"table\"\n  . )), PctUnemployed16_Over = structure(c(Min. = 0.4, `1st Qu.` = 5.5, \n  . Median = 7.6, Mean = 7.8524122087299, `3rd Qu.` = 9.7, Max. = 29.4\n  . ), class = c(\"summaryDefault\", \"table\")), PctPrivateCoverage = structure(c(Min. = 22.3, \n  . `1st Qu.` = 57.2, Median = 65.1, Mean = 64.3549392845422, `3rd Qu.` = 72.1, \n  . Max. = 92.3), class = c(\"summaryDefault\", \"table\")), PctEmpPrivCoverage = structure(c(Min. = 13.5, \n  . `1st Qu.` = 34.5, Median = 41.1, Mean = 41.196324253364, `3rd Qu.` = 47.7, \n  . Max. = 70.7), class = c(\"summaryDefault\", \"table\")), PctPublicCoverage = structure(c(Min. = 11.2, \n  . `1st Qu.` = 30.9, Median = 36.3, Mean = 36.2526419428946, `3rd Qu.` = 41.55, \n  . Max. = 65.1), class = c(\"summaryDefault\", \"table\")), PctWhite = structure(c(Min. = 10.1991551, \n  . `1st Qu.` = 77.29617993, Median = 90.05977419, Mean = 83.6452862348999, \n  . `3rd Qu.` = 95.451693455, Max. = 100), class = c(\"summaryDefault\", \n  . \"table\")), PctBlack = structure(c(Min. = 0, `1st Qu.` = 0.6206746975, \n  . Median = 2.247576296, Mean = 9.10797761456941, `3rd Qu.` = 10.509732155, \n  . Max. = 85.94779858), class = c(\"summaryDefault\", \"table\")), PctAsian = structure(c(Min. = 0, \n  . `1st Qu.` = 0.254199086, Median = 0.549811749, Mean = 1.25396496418608, \n  . `3rd Qu.` = 1.2210372855, Max. = 42.61942454), class = c(\"summaryDefault\", \n  . \"table\")), PctOtherRace = structure(c(Min. = 0, `1st Qu.` = 0.295172042, \n  . Median = 0.826185211, Mean = 1.9835230038172, `3rd Qu.` = 2.1779602725, \n  . Max. = 41.93025142), class = c(\"summaryDefault\", \"table\")), PctMarriedHouseholds = structure(c(Min. = 22.99248989, \n  . `1st Qu.` = 47.76306267, Median = 51.66994106, Mean = 51.2438721414637, \n  . `3rd Qu.` = 55.39513218, Max. = 78.07539683), class = c(\"summaryDefault\", \n  . \"table\")), BirthRate = structure(c(Min. = 0, `1st Qu.` = 4.5214194615, \n  . Median = 5.381477705, Mean = 5.64030593118444, `3rd Qu.` = 6.493676711, \n  . Max. = 21.32616487), class = c(\"summaryDefault\", \"table\")), deathRate = structure(c(Min. = 59.7, \n  . `1st Qu.` = 161.2, Median = 178.1, Mean = 178.664063012799, `3rd Qu.` = 195.2, \n  . Max. = 362.8), class = c(\"summaryDefault\", \"table\")), check.names = FALSE, \n  .     fix.empty.names = TRUE, stringsAsFactors = TRUE)",
      "18. as.data.frame(x[[i]], optional = TRUE)",
      "19. as.data.frame.table(x[[i]], optional = TRUE)",
      "20. eval(ex)",
      "21. eval(ex)",
      "22. data.frame(do.call(\"expand.grid\", c(dimnames(provideDimnames(x, \n  .     sep = sep, base = base)), KEEP.OUT.ATTRS = FALSE, stringsAsFactors = stringsAsFactors)), \n  .     Freq = c(x), row.names = row.names)",
      "23. do.call(\"expand.grid\", c(dimnames(provideDimnames(x, sep = sep, \n  .     base = base)), KEEP.OUT.ATTRS = FALSE, stringsAsFactors = stringsAsFactors))",
      "24. provideDimnames(x, sep = sep, base = base)"
     ]
    }
   ],
   "source": [
    "# install.packages(\"dplyr\")\n",
    "library(dplyr)\n",
    "compare_them <- function(data1,data2) {\n",
    "  sum1 <- apply(data1,2,summary) %>% data.frame() \n",
    "  sum2 <- apply(data2,2,summary) %>% data.frame() \n",
    "\n",
    "  names(sum1) <- paste0(names(sum1),\"1\")\n",
    "  names(sum2) <- paste0(names(sum2),\"2\")\n",
    "\n",
    "  final <- cbind(sum1,sum2)\n",
    "\n",
    "  final1 <- t(final) \n",
    "\n",
    "  final2 <- final1[order(row.names(final1)), ]\n",
    "\n",
    "  final_1 <- t(final2) %>% data.frame()\n",
    "  final_1\n",
    "}\n",
    "\n",
    "compare_them(data_num,data_sub1) %>% View()\n",
    "install.packages(\"compare\")\n"
   ]
  },
  {
   "cell_type": "code",
   "execution_count": 36,
   "metadata": {},
   "outputs": [
    {
     "name": "stderr",
     "output_type": "stream",
     "text": [
      "Installing package into 'C:/Users/Zeliang/Documents/R/win-library/3.5'\n",
      "(as 'lib' is unspecified)\n"
     ]
    },
    {
     "name": "stdout",
     "output_type": "stream",
     "text": [
      "package 'corrplot' successfully unpacked and MD5 sums checked\n",
      "\n",
      "The downloaded binary packages are in\n",
      "\tC:\\Users\\Zeliang\\AppData\\Local\\Temp\\RtmpOayPyr\\downloaded_packages\n"
     ]
    }
   ],
   "source": [
    "install.packages(\"corrplot\")"
   ]
  },
  {
   "cell_type": "code",
   "execution_count": 56,
   "metadata": {},
   "outputs": [
    {
     "data": {
      "image/png": "[encoded data removed]",
      "text/plain": [
       "Plot with title \"\""
      ]
     },
     "metadata": {},
     "output_type": "display_data"
    }
   ],
   "source": [
    "library(corrplot)\n",
    "# cor(data_num)\n",
    "# test <- as.matrix(sapply(cor(data_num),as.numeric))\n",
    "corrplot(cor(data_num),is.corr=F, method = \"circle\", type='upper')"
   ]
  },
  {
   "cell_type": "code",
   "execution_count": null,
   "metadata": {},
   "outputs": [],
   "source": []
  },
  {
   "cell_type": "code",
   "execution_count": null,
   "metadata": {},
   "outputs": [],
   "source": []
  },
  {
   "cell_type": "code",
   "execution_count": null,
   "metadata": {},
   "outputs": [],
   "source": []
  },
  {
   "cell_type": "code",
   "execution_count": null,
   "metadata": {},
   "outputs": [],
   "source": []
  },
  {
   "cell_type": "code",
   "execution_count": null,
   "metadata": {},
   "outputs": [],
   "source": []
  },
  {
   "cell_type": "code",
   "execution_count": null,
   "metadata": {},
   "outputs": [],
   "source": []
  },
  {
   "cell_type": "code",
   "execution_count": null,
   "metadata": {},
   "outputs": [],
   "source": []
  },
  {
   "cell_type": "code",
   "execution_count": null,
   "metadata": {},
   "outputs": [],
   "source": []
  },
  {
   "cell_type": "code",
   "execution_count": null,
   "metadata": {},
   "outputs": [],
   "source": []
  },
  {
   "cell_type": "code",
   "execution_count": null,
   "metadata": {},
   "outputs": [],
   "source": []
  },
  {
   "cell_type": "code",
   "execution_count": null,
   "metadata": {},
   "outputs": [],
   "source": []
  },
  {
   "cell_type": "code",
   "execution_count": null,
   "metadata": {},
   "outputs": [],
   "source": []
  },
  {
   "cell_type": "code",
   "execution_count": null,
   "metadata": {},
   "outputs": [],
   "source": []
  },
  {
   "cell_type": "code",
   "execution_count": null,
   "metadata": {},
   "outputs": [],
   "source": []
  },
  {
   "cell_type": "code",
   "execution_count": null,
   "metadata": {},
   "outputs": [],
   "source": []
  },
  {
   "cell_type": "code",
   "execution_count": null,
   "metadata": {},
   "outputs": [],
   "source": []
  },
  {
   "cell_type": "code",
   "execution_count": null,
   "metadata": {},
   "outputs": [],
   "source": []
  },
  {
   "cell_type": "code",
   "execution_count": null,
   "metadata": {},
   "outputs": [],
   "source": []
  },
  {
   "cell_type": "code",
   "execution_count": null,
   "metadata": {},
   "outputs": [],
   "source": []
  },
  {
   "cell_type": "code",
   "execution_count": null,
   "metadata": {},
   "outputs": [],
   "source": []
  }
 ],
 "metadata": {
  "kernelspec": {
   "display_name": "R",
   "language": "R",
   "name": "ir"
  },
  "language_info": {
   "codemirror_mode": "r",
   "file_extension": ".r",
   "mimetype": "text/x-r-source",
   "name": "R",
   "pygments_lexer": "r",
   "version": "3.5.1"
  }
 },
 "nbformat": 4,
 "nbformat_minor": 2
}
