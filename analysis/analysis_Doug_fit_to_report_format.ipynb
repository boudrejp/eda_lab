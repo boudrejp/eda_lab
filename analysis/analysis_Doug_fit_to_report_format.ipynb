{
 "cells": [
  {
   "cell_type": "markdown",
   "metadata": {},
   "source": [
    "## Introduction\n",
    "\n",
    "By looking at the dataset, and based on our general knowledge about cancer, we believe that there are two major sources of contributing factors that lead to higher cancer death rate for each physical region:<br>\n",
    "- higher cancer occurance that lead to more cases of cancer in a particular region\n",
    "- worse cancer treatment facilities, policies, personnels, etc.\n",
    "\n",
    "__Sub-question 1:__ how is cancer death rate distributed across the country. Is high death rate concentrated in certain physical regions, or is it of the same pattern across the country. <br>\n",
    "__Sub-question 2:__ before we deepen our analysis on the correlations, we want to answer the first question of which of the two factors lead to the higher cancer death rate.<br>\n",
    "If the answer to the first question is that high cancer occurance play the most significant role in contributing to higher death rate, we will need more data than the current csv file to back our analysis; however, if the answer is that the treatment support is affecting death rate more, then we will dive into further analysis with our current dataset.<br>\n",
    "__Sub-question 3:__ health insurance is directly involved in the quality of cancer treatment, so we want to answer how different types of health insurances are affecting the effectiveness of cancer treatment. <br>\n",
    "__Sub-question 4:__ what is the level of significance in terms of state income level, employment rate and poverty level come into play in regards to death rate from cancer.<br>\n",
    "__Sub-question 5:__ the ultimate question is that what is one thing that can be changed to reduce the death rate, especially for regions with higher death rate\n"
   ]
  },
  {
   "cell_type": "markdown",
   "metadata": {},
   "source": [
    "## Setup"
   ]
  },
  {
   "cell_type": "markdown",
   "metadata": {},
   "source": [
    "Below is a collection of libraries that we use for the study:"
   ]
  },
  {
   "cell_type": "code",
   "execution_count": 1,
   "metadata": {},
   "outputs": [
    {
     "name": "stderr",
     "output_type": "stream",
     "text": [
      "Loading required package: carData\n",
      "corrplot 0.84 loaded\n"
     ]
    }
   ],
   "source": [
    "library(car)   # to enable csv import, plots functions\n",
    "library(stringr)   # to enable string splitting\n",
    "library(corrplot)   # to enable corrplot\n",
    "library(data.table)   # to be able to change the indexing of data frame"
   ]
  },
  {
   "cell_type": "code",
   "execution_count": 16,
   "metadata": {},
   "outputs": [],
   "source": [
    "# # library(car)\n",
    "# data = read.csv(\"../project materials/cancer.csv\", header = T)\n",
    "# print(sapply(data,typeof))\n",
    "# message(\"There are \",nrow(data), \" rows of data\")\n",
    "# summary(data)"
   ]
  },
  {
   "cell_type": "code",
   "execution_count": 19,
   "metadata": {},
   "outputs": [
    {
     "data": {
      "text/html": [
       "<table>\n",
       "<thead><tr><th scope=col>X</th><th scope=col>avgAnnCount</th><th scope=col>medIncome</th><th scope=col>popEst2015</th><th scope=col>povertyPercent</th><th scope=col>binnedInc</th><th scope=col>MedianAge</th><th scope=col>MedianAgeMale</th><th scope=col>MedianAgeFemale</th><th scope=col>Geography</th><th scope=col>...</th><th scope=col>PctPublicCoverage</th><th scope=col>PctWhite</th><th scope=col>PctBlack</th><th scope=col>PctAsian</th><th scope=col>PctOtherRace</th><th scope=col>PctMarriedHouseholds</th><th scope=col>BirthRate</th><th scope=col>deathRate</th><th scope=col>state</th><th scope=col>logpopEst2015</th></tr></thead>\n",
       "<tbody>\n",
       "\t<tr><td>1                           </td><td>1397                        </td><td>61898                       </td><td>260131                      </td><td>11.2                        </td><td>(61494.5, 125635]           </td><td>39.3                        </td><td>36.9                        </td><td>41.7                        </td><td>Kitsap County, Washington   </td><td>...                         </td><td>32.9                        </td><td>81.78053                    </td><td>2.5947283                   </td><td>4.8218571                   </td><td>1.8434785                   </td><td>52.85608                    </td><td>6.118831                    </td><td>164.9                       </td><td>Washington                  </td><td>12.468941                   </td></tr>\n",
       "\t<tr><td>2                           </td><td> 173                        </td><td>48127                       </td><td> 43269                      </td><td>18.6                        </td><td>(48021.6, 51046.4]          </td><td>33.0                        </td><td>32.2                        </td><td>33.7                        </td><td>Kittitas County, Washington </td><td>...                         </td><td>31.1                        </td><td>89.22851                    </td><td>0.9691025                   </td><td>2.2462326                   </td><td>3.7413515                   </td><td>45.37250                    </td><td>4.333096                    </td><td>161.3                       </td><td>Washington                  </td><td>10.675192                   </td></tr>\n",
       "\t<tr><td>3                           </td><td> 102                        </td><td>49348                       </td><td> 21026                      </td><td>14.6                        </td><td>(48021.6, 51046.4]          </td><td>45.0                        </td><td>44.0                        </td><td>45.8                        </td><td>Klickitat County, Washington</td><td>...                         </td><td>42.1                        </td><td>90.92219                    </td><td>0.7396734                   </td><td>0.4658982                   </td><td>2.7473583                   </td><td>54.44487                    </td><td>3.729488                    </td><td>174.7                       </td><td>Washington                  </td><td> 9.953515                   </td></tr>\n",
       "\t<tr><td>4                           </td><td> 427                        </td><td>44243                       </td><td> 75882                      </td><td>17.1                        </td><td>(42724.4, 45201]            </td><td>42.8                        </td><td>42.2                        </td><td>43.4                        </td><td>Lewis County, Washington    </td><td>...                         </td><td>45.3                        </td><td>91.74469                    </td><td>0.7826260                   </td><td>1.1613587                   </td><td>1.3626432                   </td><td>51.02151                    </td><td>4.603841                    </td><td>194.8                       </td><td>Washington                  </td><td>11.236935                   </td></tr>\n",
       "\t<tr><td>5                           </td><td>  57                        </td><td>49955                       </td><td> 10321                      </td><td>12.5                        </td><td>(48021.6, 51046.4]          </td><td>48.3                        </td><td>47.8                        </td><td>48.9                        </td><td>Lincoln County, Washington  </td><td>...                         </td><td>44.0                        </td><td>94.10402                    </td><td>0.2701920                   </td><td>0.6658304                   </td><td>0.4921355                   </td><td>54.02746                    </td><td>6.796657                    </td><td>144.4                       </td><td>Washington                  </td><td> 9.241936                   </td></tr>\n",
       "\t<tr><td>6                           </td><td> 428                        </td><td>52313                       </td><td> 61023                      </td><td>15.6                        </td><td>(51046.4, 54545.6]          </td><td>45.4                        </td><td>43.5                        </td><td>48.0                        </td><td>Mason County, Washington    </td><td>...                         </td><td>43.2                        </td><td>84.88263                    </td><td>1.6532052                   </td><td>1.5380566                   </td><td>3.3146354                   </td><td>51.22036                    </td><td>4.964476                    </td><td>176.0                       </td><td>Washington                  </td><td>11.019006                   </td></tr>\n",
       "</tbody>\n",
       "</table>\n"
      ],
      "text/latex": [
       "\\begin{tabular}{r|llllllllllllllllllllllllllllllll}\n",
       " X & avgAnnCount & medIncome & popEst2015 & povertyPercent & binnedInc & MedianAge & MedianAgeMale & MedianAgeFemale & Geography & ... & PctPublicCoverage & PctWhite & PctBlack & PctAsian & PctOtherRace & PctMarriedHouseholds & BirthRate & deathRate & state & logpopEst2015\\\\\n",
       "\\hline\n",
       "\t 1                            & 1397                         & 61898                        & 260131                       & 11.2                         & (61494.5, 125635{]}          & 39.3                         & 36.9                         & 41.7                         & Kitsap County, Washington    & ...                          & 32.9                         & 81.78053                     & 2.5947283                    & 4.8218571                    & 1.8434785                    & 52.85608                     & 6.118831                     & 164.9                        & Washington                   & 12.468941                   \\\\\n",
       "\t 2                            &  173                         & 48127                        &  43269                       & 18.6                         & (48021.6, 51046.4{]}         & 33.0                         & 32.2                         & 33.7                         & Kittitas County, Washington  & ...                          & 31.1                         & 89.22851                     & 0.9691025                    & 2.2462326                    & 3.7413515                    & 45.37250                     & 4.333096                     & 161.3                        & Washington                   & 10.675192                   \\\\\n",
       "\t 3                            &  102                         & 49348                        &  21026                       & 14.6                         & (48021.6, 51046.4{]}         & 45.0                         & 44.0                         & 45.8                         & Klickitat County, Washington & ...                          & 42.1                         & 90.92219                     & 0.7396734                    & 0.4658982                    & 2.7473583                    & 54.44487                     & 3.729488                     & 174.7                        & Washington                   &  9.953515                   \\\\\n",
       "\t 4                            &  427                         & 44243                        &  75882                       & 17.1                         & (42724.4, 45201{]}           & 42.8                         & 42.2                         & 43.4                         & Lewis County, Washington     & ...                          & 45.3                         & 91.74469                     & 0.7826260                    & 1.1613587                    & 1.3626432                    & 51.02151                     & 4.603841                     & 194.8                        & Washington                   & 11.236935                   \\\\\n",
       "\t 5                            &   57                         & 49955                        &  10321                       & 12.5                         & (48021.6, 51046.4{]}         & 48.3                         & 47.8                         & 48.9                         & Lincoln County, Washington   & ...                          & 44.0                         & 94.10402                     & 0.2701920                    & 0.6658304                    & 0.4921355                    & 54.02746                     & 6.796657                     & 144.4                        & Washington                   &  9.241936                   \\\\\n",
       "\t 6                            &  428                         & 52313                        &  61023                       & 15.6                         & (51046.4, 54545.6{]}         & 45.4                         & 43.5                         & 48.0                         & Mason County, Washington     & ...                          & 43.2                         & 84.88263                     & 1.6532052                    & 1.5380566                    & 3.3146354                    & 51.22036                     & 4.964476                     & 176.0                        & Washington                   & 11.019006                   \\\\\n",
       "\\end{tabular}\n"
      ],
      "text/markdown": [
       "\n",
       "X | avgAnnCount | medIncome | popEst2015 | povertyPercent | binnedInc | MedianAge | MedianAgeMale | MedianAgeFemale | Geography | ... | PctPublicCoverage | PctWhite | PctBlack | PctAsian | PctOtherRace | PctMarriedHouseholds | BirthRate | deathRate | state | logpopEst2015 | \n",
       "|---|---|---|---|---|---|\n",
       "| 1                            | 1397                         | 61898                        | 260131                       | 11.2                         | (61494.5, 125635]            | 39.3                         | 36.9                         | 41.7                         | Kitsap County, Washington    | ...                          | 32.9                         | 81.78053                     | 2.5947283                    | 4.8218571                    | 1.8434785                    | 52.85608                     | 6.118831                     | 164.9                        | Washington                   | 12.468941                    | \n",
       "| 2                            |  173                         | 48127                        |  43269                       | 18.6                         | (48021.6, 51046.4]           | 33.0                         | 32.2                         | 33.7                         | Kittitas County, Washington  | ...                          | 31.1                         | 89.22851                     | 0.9691025                    | 2.2462326                    | 3.7413515                    | 45.37250                     | 4.333096                     | 161.3                        | Washington                   | 10.675192                    | \n",
       "| 3                            |  102                         | 49348                        |  21026                       | 14.6                         | (48021.6, 51046.4]           | 45.0                         | 44.0                         | 45.8                         | Klickitat County, Washington | ...                          | 42.1                         | 90.92219                     | 0.7396734                    | 0.4658982                    | 2.7473583                    | 54.44487                     | 3.729488                     | 174.7                        | Washington                   |  9.953515                    | \n",
       "| 4                            |  427                         | 44243                        |  75882                       | 17.1                         | (42724.4, 45201]             | 42.8                         | 42.2                         | 43.4                         | Lewis County, Washington     | ...                          | 45.3                         | 91.74469                     | 0.7826260                    | 1.1613587                    | 1.3626432                    | 51.02151                     | 4.603841                     | 194.8                        | Washington                   | 11.236935                    | \n",
       "| 5                            |   57                         | 49955                        |  10321                       | 12.5                         | (48021.6, 51046.4]           | 48.3                         | 47.8                         | 48.9                         | Lincoln County, Washington   | ...                          | 44.0                         | 94.10402                     | 0.2701920                    | 0.6658304                    | 0.4921355                    | 54.02746                     | 6.796657                     | 144.4                        | Washington                   |  9.241936                    | \n",
       "| 6                            |  428                         | 52313                        |  61023                       | 15.6                         | (51046.4, 54545.6]           | 45.4                         | 43.5                         | 48.0                         | Mason County, Washington     | ...                          | 43.2                         | 84.88263                     | 1.6532052                    | 1.5380566                    | 3.3146354                    | 51.22036                     | 4.964476                     | 176.0                        | Washington                   | 11.019006                    | \n",
       "\n",
       "\n"
      ],
      "text/plain": [
       "  X avgAnnCount medIncome popEst2015 povertyPercent binnedInc         \n",
       "1 1 1397        61898     260131     11.2           (61494.5, 125635] \n",
       "2 2  173        48127      43269     18.6           (48021.6, 51046.4]\n",
       "3 3  102        49348      21026     14.6           (48021.6, 51046.4]\n",
       "4 4  427        44243      75882     17.1           (42724.4, 45201]  \n",
       "5 5   57        49955      10321     12.5           (48021.6, 51046.4]\n",
       "6 6  428        52313      61023     15.6           (51046.4, 54545.6]\n",
       "  MedianAge MedianAgeMale MedianAgeFemale Geography                    ...\n",
       "1 39.3      36.9          41.7            Kitsap County, Washington    ...\n",
       "2 33.0      32.2          33.7            Kittitas County, Washington  ...\n",
       "3 45.0      44.0          45.8            Klickitat County, Washington ...\n",
       "4 42.8      42.2          43.4            Lewis County, Washington     ...\n",
       "5 48.3      47.8          48.9            Lincoln County, Washington   ...\n",
       "6 45.4      43.5          48.0            Mason County, Washington     ...\n",
       "  PctPublicCoverage PctWhite PctBlack  PctAsian  PctOtherRace\n",
       "1 32.9              81.78053 2.5947283 4.8218571 1.8434785   \n",
       "2 31.1              89.22851 0.9691025 2.2462326 3.7413515   \n",
       "3 42.1              90.92219 0.7396734 0.4658982 2.7473583   \n",
       "4 45.3              91.74469 0.7826260 1.1613587 1.3626432   \n",
       "5 44.0              94.10402 0.2701920 0.6658304 0.4921355   \n",
       "6 43.2              84.88263 1.6532052 1.5380566 3.3146354   \n",
       "  PctMarriedHouseholds BirthRate deathRate state      logpopEst2015\n",
       "1 52.85608             6.118831  164.9     Washington 12.468941    \n",
       "2 45.37250             4.333096  161.3     Washington 10.675192    \n",
       "3 54.44487             3.729488  174.7     Washington  9.953515    \n",
       "4 51.02151             4.603841  194.8     Washington 11.236935    \n",
       "5 54.02746             6.796657  144.4     Washington  9.241936    \n",
       "6 51.22036             4.964476  176.0     Washington 11.019006    "
      ]
     },
     "metadata": {},
     "output_type": "display_data"
    }
   ],
   "source": [
    "#may need to change address depending on where you have it saved\n",
    "data <- read.csv(\"../project materials/cancer.csv\")\n",
    "\n",
    "# split into states\n",
    "data$Geography <- as.character(data$Geography)\n",
    "split.geo <- strsplit(as.character(data$Geography), \", \")\n",
    "states <- sapply(split.geo, \n",
    "                 function(x){\n",
    "                   return(x[2])\n",
    "                   })\n",
    "data$state <- as.factor(states)\n",
    "\n",
    "#median age -> NA over 65\n",
    "data$MedianAge[data$MedianAge > 65] <- NA\n",
    "\n",
    "#average household -> NA for over 1\n",
    "data$AvgHouseholdSize[data$AvgHouseholdSize < 1] <- NA\n",
    "\n",
    "#one zero val for % high school 18-24 -> set to NA\n",
    "data$PctHS18_24[data$PctHS18_24 == 0] <- NA\n",
    "\n",
    "#popest2015 -> keep both a log transform + original data in separate columns\n",
    "data$logpopEst2015 <- log(data$popEst2015)\n",
    "\n",
    "head(data)"
   ]
  },
  {
   "cell_type": "code",
   "execution_count": null,
   "metadata": {},
   "outputs": [],
   "source": []
  },
  {
   "cell_type": "markdown",
   "metadata": {},
   "source": [
    "## Data Selection and Sanitizing"
   ]
  },
  {
   "cell_type": "markdown",
   "metadata": {},
   "source": [
    "Based on the results of the data summary, we can tell that the data set has 30 different parameters. Among the 30, 29 of them have the data type of either \"double\" or \"integer\", and one series is of type \"string\". \n",
    "<br>There are several things that seem wrong at the very first glance:\n",
    "<br>1) The parameter \"MedianAge\" has maximum value of 624. To the best of our knowledge, the US county with the oldest age median has median age around 65, therefore, we are setting the clean-up criterion at 65 for this parameter\n",
    "<br>2) The parameter \"AvgHouseholdSize\" has values smaller than 1. Our assumption is that every household should have at least 1 person, therefore, we are using value 1 as our clean-up criterion\n",
    "<br>3) The paramter \"PctHS18_24\" has the min value at 0. In the US, it is usually expected that people finish high school with very few exceptions, there are cases that parents can sign a paper so that their kids can drop out from high school. However, 0% of population between 18 and 24 years old have high school diploma does not make a lot of sense. We did a box plot below on this parameter just to make sure that there are not too many counties like that, and it turns out there is only one data point that has the value 0, and with our assumption, we will remove this row of data. We assume that for the other rows with lower percentage of high school diploma between 18-24 years old, have their special reasons (high age average so that no people between 18-24, or due to people with certain ethnic background)"
   ]
  },
  {
   "cell_type": "code",
   "execution_count": 3,
   "metadata": {},
   "outputs": [
    {
     "data": {
      "image/png": "[encoded data removed]",
      "text/plain": [
       "Plot with title \"PctHS18_24\""
      ]
     },
     "metadata": {},
     "output_type": "display_data"
    }
   ],
   "source": [
    "boxplot(data$PctHS18_24, main=\"PctHS18_24\")"
   ]
  },
  {
   "cell_type": "markdown",
   "metadata": {},
   "source": [
    "4) The parameter \"BirthRate\" has the minimum value of straight 0, which is suspicious to our experience. We did a box plot just like the one for the parameter \"PctHS18_24\" to make sure whether this is a singulated extreme value or there are other data points in similar positions. <br>\n",
    ">As shown in the printed out messages and boxplot below, there is no single cut-off value for 'BirthRate\", and therefore we are assuming that the parameter is fine and the data point with straight 0 value might come from a round-off or are some extreme cases in the country"
   ]
  },
  {
   "cell_type": "code",
   "execution_count": 21,
   "metadata": {},
   "outputs": [
    {
     "name": "stderr",
     "output_type": "stream",
     "text": [
      "There are 57 points smaller than 2.0\n",
      "There are 13 points smaller than 1.0\n",
      "The country with zero birth rate are: \n"
     ]
    },
    {
     "data": {
      "text/html": [
       "<ol class=list-inline>\n",
       "\t<li>'De Baca County, New Mexico'</li>\n",
       "\t<li>'Coke County, Texas'</li>\n",
       "\t<li>'Jeff Davis County, Texas'</li>\n",
       "\t<li>'Kinney County, Texas'</li>\n",
       "</ol>\n"
      ],
      "text/latex": [
       "\\begin{enumerate*}\n",
       "\\item 'De Baca County, New Mexico'\n",
       "\\item 'Coke County, Texas'\n",
       "\\item 'Jeff Davis County, Texas'\n",
       "\\item 'Kinney County, Texas'\n",
       "\\end{enumerate*}\n"
      ],
      "text/markdown": [
       "1. 'De Baca County, New Mexico'\n",
       "2. 'Coke County, Texas'\n",
       "3. 'Jeff Davis County, Texas'\n",
       "4. 'Kinney County, Texas'\n",
       "\n",
       "\n"
      ],
      "text/plain": [
       "[1] \"De Baca County, New Mexico\" \"Coke County, Texas\"        \n",
       "[3] \"Jeff Davis County, Texas\"   \"Kinney County, Texas\"      "
      ]
     },
     "metadata": {},
     "output_type": "display_data"
    },
    {
     "data": {
      "image/png": "[encoded data removed]",
      "text/plain": [
       "Plot with title \"BirthRate\""
      ]
     },
     "metadata": {},
     "output_type": "display_data"
    }
   ],
   "source": [
    "message(\"There are \",nrow(subset(data,data$BirthRate < 2.0)),\" points smaller than 2.0\")\n",
    "message(\"There are \",nrow(subset(data,data$BirthRate < 1.0)),\" points smaller than 1.0\")\n",
    "message(\"The country with zero birth rate are: \")\n",
    "subset(data,data$BirthRate == 0)$Geography\n",
    "boxplot(data$BirthRate, main=\"BirthRate\")"
   ]
  },
  {
   "cell_type": "code",
   "execution_count": null,
   "metadata": {},
   "outputs": [],
   "source": []
  },
  {
   "cell_type": "markdown",
   "metadata": {},
   "source": [
    "5) To further check the validity of the dataset, we added up the values from four columns with information on percentage of race distribution across the counties. Our expectation was that the total value should be very close to 100%, if not exactly at 100%. With the printed-out messages and boxplot, we have the following findings and conclusions for the data related to race:<br>\n",
    "- With the fourth data series being \"PctOtherRace\", the assumption is that every county should have 100% for \"race_total\". Considering some small errors in counting and collecting data, 95% should really be the tolerence level for the level of accuracy of these four data columns. \n",
    "- However, there are 421 rows of data violating the 95% limit out of the 3047 rows of total data, which accounts of 14% of the total data\n",
    "- On top of it, there are 24 rows with \"race_total\" being smaller than 50% and 6 rows smaller than 20%.\n",
    "- We have serious doubts about the quality of the race statistics, therefore, we are going to try to avoid using the data as we go on with the analysis\n"
   ]
  },
  {
   "cell_type": "code",
   "execution_count": 22,
   "metadata": {},
   "outputs": [
    {
     "name": "stderr",
     "output_type": "stream",
     "text": [
      "The details of data for total race percentage is: \n"
     ]
    },
    {
     "data": {
      "text/plain": [
       "   Min. 1st Qu.  Median    Mean 3rd Qu.    Max. \n",
       "  11.23   96.41   97.70   95.99   98.42  100.00 "
      ]
     },
     "metadata": {},
     "output_type": "display_data"
    },
    {
     "name": "stderr",
     "output_type": "stream",
     "text": [
      "There are 421 rows of data with total race percentage smaller than 95%\n",
      "There are 24 rows of data with total race percentage smaller than 50%\n",
      "There are 6 rows of data with total race percentage smaller than 20%\n"
     ]
    },
    {
     "data": {
      "image/png": "[encoded data removed]",
      "text/plain": [
       "Plot with title \"Race Total\""
      ]
     },
     "metadata": {},
     "output_type": "display_data"
    }
   ],
   "source": [
    "data$total_race <- data$PctAsian + data$PctBlack + data$PctWhite + data$PctOtherRace\n",
    "message(\"The details of data for total race percentage is: \")\n",
    "summary(data$total_race)\n",
    "message(\"There are \",nrow(subset(data,data$total_race < 95)), \" rows of data with total race percentage smaller than 95%\")\n",
    "message(\"There are \",nrow(subset(data,data$total_race < 50)), \" rows of data with total race percentage smaller than 50%\")\n",
    "message(\"There are \",nrow(subset(data,data$total_race < 20)), \" rows of data with total race percentage smaller than 20%\")\n",
    "\n",
    "boxplot(data$total_race, main = \"Race Total\")"
   ]
  },
  {
   "cell_type": "code",
   "execution_count": null,
   "metadata": {},
   "outputs": [],
   "source": []
  },
  {
   "cell_type": "markdown",
   "metadata": {},
   "source": [
    "### Look at the distrubtion of dependent variable \"deathRate\""
   ]
  },
  {
   "cell_type": "code",
   "execution_count": 23,
   "metadata": {},
   "outputs": [
    {
     "data": {
      "image/png": "[encoded data removed]",
      "text/plain": [
       "Plot with title \"Histogram of data$deathRate\""
      ]
     },
     "metadata": {},
     "output_type": "display_data"
    }
   ],
   "source": [
    "# Look at the distribution of the dependent variable deathRate\n",
    "hist(data$deathRate)"
   ]
  },
  {
   "cell_type": "markdown",
   "metadata": {},
   "source": [
    "## this section analyze the common features for counties with higher death rate"
   ]
  },
  {
   "cell_type": "code",
   "execution_count": 8,
   "metadata": {},
   "outputs": [],
   "source": [
    "# # Split geography information into two different columns, for ease of analysis of location distribution\n",
    "# # library(stringr)\n",
    "# data_sub2 <- data.frame(str_split_fixed(data$Geography, \",\",2))\n",
    "# data$County <- data_sub2$X1\n",
    "# data$State <- data_sub2$X2\n",
    "# # head(data)\n"
   ]
  },
  {
   "cell_type": "markdown",
   "metadata": {},
   "source": [
    "### This is to create another dataframe with deathRate parameter above the third quartile\n",
    "The objective is to better study the difference between average locations and the counties with much higher deathRate of cancer\n"
   ]
  },
  {
   "cell_type": "code",
   "execution_count": 24,
   "metadata": {},
   "outputs": [
    {
     "data": {
      "text/html": [
       "761"
      ],
      "text/latex": [
       "761"
      ],
      "text/markdown": [
       "761"
      ],
      "text/plain": [
       "[1] 761"
      ]
     },
     "metadata": {},
     "output_type": "display_data"
    }
   ],
   "source": [
    "deathRatequrt3 <- quantile(data$deathRate,0.75, na.rm=T)\n",
    "# message(deathRatequrt3)\n",
    "data_sub1 <- subset(data,data$deathRate > deathRatequrt3)\n",
    "nrow(data_sub1)"
   ]
  },
  {
   "cell_type": "markdown",
   "metadata": {},
   "source": [
    "### Sub-question 1: \n",
    "how is cancer death rate distributed across the country. Is high death rate concentrated in certain physical regions, or is it of the same pattern across the country"
   ]
  },
  {
   "cell_type": "markdown",
   "metadata": {},
   "source": [
    "In this comparison, we use the corrplot function (many thanks to John) inside R to have better display of correlation factors between the dataset and the subset. In both charts, color <font color=blue>__blue__</font> represents positive correlation factor while color <font color=red>__red__</font> represents negative correlation. Also, the darker the color and bigger the size of dot represent larger magnitude of the correlation factor"
   ]
  },
  {
   "cell_type": "code",
   "execution_count": 10,
   "metadata": {},
   "outputs": [],
   "source": [
    "# install.packages(\"corrplot\")"
   ]
  },
  {
   "cell_type": "code",
   "execution_count": 25,
   "metadata": {},
   "outputs": [
    {
     "data": {
      "image/png": "[encoded data removed]",
      "text/plain": [
       "Plot with title \"national average\""
      ]
     },
     "metadata": {},
     "output_type": "display_data"
    },
    {
     "data": {
      "image/png": "[encoded data removed]",
      "text/plain": [
       "Plot with title \"counties with higher death rate\""
      ]
     },
     "metadata": {},
     "output_type": "display_data"
    }
   ],
   "source": [
    "# library(corrplot)\n",
    "corrplot(cor(data[,sapply(data,is.numeric)]),is.corr=F, method = \"circle\", type='upper', main = \"national average\")\n",
    "corrplot(cor(data_sub1[,sapply(data_sub1,is.numeric)]),is.corr=F, method = \"circle\", type='upper',main = \"counties with higher death rate\")"
   ]
  },
  {
   "cell_type": "markdown",
   "metadata": {},
   "source": [
    "The comparison above shows that the correlations between parameters are not significantly different between the whole data set and the set with higher death rate"
   ]
  },
  {
   "cell_type": "markdown",
   "metadata": {},
   "source": [
    "__Distribution of higher death rate across the contry__"
   ]
  },
  {
   "cell_type": "code",
   "execution_count": 26,
   "metadata": {},
   "outputs": [
    {
     "data": {
      "text/plain": [
       "      rn            Counties_total   Counties_highDeathRate Counties_HDR_Perc\n",
       " Length:51          Min.   :  1.00   Min.   : 0.00          Min.   :0.00000  \n",
       " Class :character   1st Qu.: 22.00   1st Qu.: 1.00          1st Qu.:0.02369  \n",
       " Mode  :character   Median : 59.00   Median : 5.00          Median :0.12500  \n",
       "                    Mean   : 59.75   Mean   :14.92          Mean   :0.19028  \n",
       "                    3rd Qu.: 85.00   3rd Qu.:26.00          3rd Qu.:0.30749  \n",
       "                    Max.   :233.00   Max.   :91.00          Max.   :0.75833  "
      ]
     },
     "metadata": {},
     "output_type": "display_data"
    },
    {
     "data": {
      "text/html": [
       "<table>\n",
       "<thead><tr><th scope=col>rn</th><th scope=col>Counties_total</th><th scope=col>Counties_highDeathRate</th><th scope=col>Counties_HDR_Perc</th></tr></thead>\n",
       "<tbody>\n",
       "\t<tr><td>West Virginia</td><td> 55          </td><td>28           </td><td>0.5090909    </td></tr>\n",
       "\t<tr><td>Mississippi  </td><td> 82          </td><td>47           </td><td>0.5731707    </td></tr>\n",
       "\t<tr><td>Arkansas     </td><td> 75          </td><td>44           </td><td>0.5866667    </td></tr>\n",
       "\t<tr><td>Louisiana    </td><td> 64          </td><td>38           </td><td>0.5937500    </td></tr>\n",
       "\t<tr><td>Tennessee    </td><td> 95          </td><td>57           </td><td>0.6000000    </td></tr>\n",
       "\t<tr><td>Kentucky     </td><td>120          </td><td>91           </td><td>0.7583333    </td></tr>\n",
       "</tbody>\n",
       "</table>\n"
      ],
      "text/latex": [
       "\\begin{tabular}{r|llll}\n",
       " rn & Counties\\_total & Counties\\_highDeathRate & Counties\\_HDR\\_Perc\\\\\n",
       "\\hline\n",
       "\t West Virginia &  55           & 28            & 0.5090909    \\\\\n",
       "\t Mississippi   &  82           & 47            & 0.5731707    \\\\\n",
       "\t Arkansas      &  75           & 44            & 0.5866667    \\\\\n",
       "\t Louisiana     &  64           & 38            & 0.5937500    \\\\\n",
       "\t Tennessee     &  95           & 57            & 0.6000000    \\\\\n",
       "\t Kentucky      & 120           & 91            & 0.7583333    \\\\\n",
       "\\end{tabular}\n"
      ],
      "text/markdown": [
       "\n",
       "rn | Counties_total | Counties_highDeathRate | Counties_HDR_Perc | \n",
       "|---|---|---|---|---|---|\n",
       "| West Virginia |  55           | 28            | 0.5090909     | \n",
       "| Mississippi   |  82           | 47            | 0.5731707     | \n",
       "| Arkansas      |  75           | 44            | 0.5866667     | \n",
       "| Louisiana     |  64           | 38            | 0.5937500     | \n",
       "| Tennessee     |  95           | 57            | 0.6000000     | \n",
       "| Kentucky      | 120           | 91            | 0.7583333     | \n",
       "\n",
       "\n"
      ],
      "text/plain": [
       "  rn            Counties_total Counties_highDeathRate Counties_HDR_Perc\n",
       "1 West Virginia  55            28                     0.5090909        \n",
       "2 Mississippi    82            47                     0.5731707        \n",
       "3 Arkansas       75            44                     0.5866667        \n",
       "4 Louisiana      64            38                     0.5937500        \n",
       "5 Tennessee      95            57                     0.6000000        \n",
       "6 Kentucky      120            91                     0.7583333        "
      ]
     },
     "metadata": {},
     "output_type": "display_data"
    }
   ],
   "source": [
    "# library(data.table)\n",
    "#national average\n",
    "state_summ <- data.frame(summary(data$state))\n",
    "names(state_summ) <- c(\"Counties_total\")\n",
    "# state_summ\n",
    "state_summ <- setDT(state_summ, keep.rownames = TRUE)[]\n",
    "# #group with higher death rate\n",
    "state_summ1 <- data.frame(summary(data_sub1$state))\n",
    "names(state_summ1) <- c(\"Counties_total\")\n",
    "\n",
    "state_summ$Counties_highDeathRate <- state_summ1$Counties_total\n",
    "#Percentage of counties with higher death reate for each state\n",
    "state_summ$Counties_HDR_Perc <- state_summ$Counties_highDeathRate/state_summ$Counties_total\n",
    "summary(state_summ[order(state_summ$Counties_HDR_Perc)])\n",
    "tail(state_summ[order(state_summ$Counties_HDR_Perc)])\n"
   ]
  },
  {
   "cell_type": "markdown",
   "metadata": {},
   "source": [
    "The analysis above shows that region with higher death rate are not evenly distributed across the country. With huge difference between different states. Kentucky seems to be the one state that really stand out in terms of higher death rate, with 76% of its counties in the high death rate group.To further study the contributing factors to the high cancer death rate in the state of Kentucky, we are looking at a variety of things related to Kentucky. \n",
    "<br> Just a quick Google search on the high cancer death rate, there have already been lots of news on high cancer death rate for the state. Also, according to one report, the leading factors are: obesity, smoking and lack of screening. Before we make any further reasoning, we decided to separate the factors that contirbute to causing cancer and those leading to higher death rate. To make that happen, we decided to take a look at how many incidents of cancer occur for those states."
   ]
  },
  {
   "cell_type": "markdown",
   "metadata": {},
   "source": [
    "### Sub-question 2: \n",
    "before we deepen our analysis on the correlations, we want to answer the first question of which of the two factors lead to the higher cancer death rate.<br>\n",
    "If the answer to the first question is that high cancer occurance play the most significant role in contributing to higher death rate, we will need more data than the current csv file to back our analysis; however, if the answer is that the treatment support is affecting death rate more, then we will dive into further analysis with our current dataset.<br>"
   ]
  },
  {
   "cell_type": "code",
   "execution_count": 27,
   "metadata": {},
   "outputs": [
    {
     "data": {
      "text/html": [
       "<table>\n",
       "<thead><tr><th scope=col>rn</th><th scope=col>state</th><th scope=col>total_incident</th><th scope=col>popEst</th><th scope=col>incdtRatio</th><th scope=col>avgDeathRate</th></tr></thead>\n",
       "<tbody>\n",
       "\t<tr><td>27           </td><td>Montana      </td><td>  5194.00    </td><td> 1002788     </td><td>0.005179559  </td><td>163.1854     </td></tr>\n",
       "\t<tr><td>10           </td><td>Florida      </td><td>105735.00    </td><td>20222673     </td><td>0.005228537  </td><td>179.4303     </td></tr>\n",
       "\t<tr><td>22           </td><td>Massachusetts</td><td> 36128.00    </td><td> 6794422     </td><td>0.005317303  </td><td>164.8000     </td></tr>\n",
       "\t<tr><td>33           </td><td>New York     </td><td>105493.00    </td><td>19795791     </td><td>0.005329062  </td><td>171.6403     </td></tr>\n",
       "\t<tr><td>31           </td><td>New Jersey   </td><td> 48056.00    </td><td> 8958013     </td><td>0.005364583  </td><td>168.6333     </td></tr>\n",
       "\t<tr><td>36           </td><td>Ohio         </td><td> 55739.00    </td><td>10361701     </td><td>0.005379329  </td><td>186.8828     </td></tr>\n",
       "\t<tr><td>23           </td><td>Michigan     </td><td> 53498.00    </td><td> 9922576     </td><td>0.005391543  </td><td>177.8217     </td></tr>\n",
       "\t<tr><td>16           </td><td>Iowa         </td><td> 16936.00    </td><td> 3123899     </td><td>0.005421430  </td><td>166.4889     </td></tr>\n",
       "\t<tr><td>8            </td><td>Delaware     </td><td>  5167.00    </td><td>  945934     </td><td>0.005462326  </td><td>178.8667     </td></tr>\n",
       "\t<tr><td>40           </td><td>Rhode Island </td><td>  5880.00    </td><td> 1056298     </td><td>0.005566611  </td><td>165.2200     </td></tr>\n",
       "\t<tr><td>18           </td><td>Kentucky     </td><td> 24765.00    </td><td> 4425092     </td><td>0.005596494  </td><td>215.3158     </td></tr>\n",
       "\t<tr><td>7            </td><td>Connecticut  </td><td> 20304.00    </td><td> 3590886     </td><td>0.005654315  </td><td>157.7125     </td></tr>\n",
       "\t<tr><td>46           </td><td>Vermont      </td><td>  3548.00    </td><td>  626042     </td><td>0.005667351  </td><td>176.2714     </td></tr>\n",
       "\t<tr><td>30           </td><td>New Hampshire</td><td>  7561.00    </td><td> 1330608     </td><td>0.005682365  </td><td>170.8800     </td></tr>\n",
       "\t<tr><td>39           </td><td>Pennsylvania </td><td> 75909.00    </td><td>12802503     </td><td>0.005929231  </td><td>175.4224     </td></tr>\n",
       "\t<tr><td>49           </td><td>West Virginia</td><td> 11130.00    </td><td> 1844128     </td><td>0.006035373  </td><td>196.7109     </td></tr>\n",
       "\t<tr><td>20           </td><td>Maine        </td><td>  8214.00    </td><td> 1329328     </td><td>0.006179062  </td><td>183.1500     </td></tr>\n",
       "\t<tr><td>29           </td><td>Nevada       </td><td> 33365.35    </td><td> 2890845     </td><td>0.011541729  </td><td>177.4353     </td></tr>\n",
       "\t<tr><td>24           </td><td>Minnesota    </td><td>170752.09    </td><td> 5489594     </td><td>0.031104684  </td><td>161.4816     </td></tr>\n",
       "\t<tr><td>17           </td><td>Kansas       </td><td>200192.10    </td><td> 2831088     </td><td>0.070712074  </td><td>167.8343     </td></tr>\n",
       "</tbody>\n",
       "</table>\n"
      ],
      "text/latex": [
       "\\begin{tabular}{r|llllll}\n",
       " rn & state & total\\_incident & popEst & incdtRatio & avgDeathRate\\\\\n",
       "\\hline\n",
       "\t 27            & Montana       &   5194.00     &  1002788      & 0.005179559   & 163.1854     \\\\\n",
       "\t 10            & Florida       & 105735.00     & 20222673      & 0.005228537   & 179.4303     \\\\\n",
       "\t 22            & Massachusetts &  36128.00     &  6794422      & 0.005317303   & 164.8000     \\\\\n",
       "\t 33            & New York      & 105493.00     & 19795791      & 0.005329062   & 171.6403     \\\\\n",
       "\t 31            & New Jersey    &  48056.00     &  8958013      & 0.005364583   & 168.6333     \\\\\n",
       "\t 36            & Ohio          &  55739.00     & 10361701      & 0.005379329   & 186.8828     \\\\\n",
       "\t 23            & Michigan      &  53498.00     &  9922576      & 0.005391543   & 177.8217     \\\\\n",
       "\t 16            & Iowa          &  16936.00     &  3123899      & 0.005421430   & 166.4889     \\\\\n",
       "\t 8             & Delaware      &   5167.00     &   945934      & 0.005462326   & 178.8667     \\\\\n",
       "\t 40            & Rhode Island  &   5880.00     &  1056298      & 0.005566611   & 165.2200     \\\\\n",
       "\t 18            & Kentucky      &  24765.00     &  4425092      & 0.005596494   & 215.3158     \\\\\n",
       "\t 7             & Connecticut   &  20304.00     &  3590886      & 0.005654315   & 157.7125     \\\\\n",
       "\t 46            & Vermont       &   3548.00     &   626042      & 0.005667351   & 176.2714     \\\\\n",
       "\t 30            & New Hampshire &   7561.00     &  1330608      & 0.005682365   & 170.8800     \\\\\n",
       "\t 39            & Pennsylvania  &  75909.00     & 12802503      & 0.005929231   & 175.4224     \\\\\n",
       "\t 49            & West Virginia &  11130.00     &  1844128      & 0.006035373   & 196.7109     \\\\\n",
       "\t 20            & Maine         &   8214.00     &  1329328      & 0.006179062   & 183.1500     \\\\\n",
       "\t 29            & Nevada        &  33365.35     &  2890845      & 0.011541729   & 177.4353     \\\\\n",
       "\t 24            & Minnesota     & 170752.09     &  5489594      & 0.031104684   & 161.4816     \\\\\n",
       "\t 17            & Kansas        & 200192.10     &  2831088      & 0.070712074   & 167.8343     \\\\\n",
       "\\end{tabular}\n"
      ],
      "text/markdown": [
       "\n",
       "rn | state | total_incident | popEst | incdtRatio | avgDeathRate | \n",
       "|---|---|---|---|---|---|---|---|---|---|---|---|---|---|---|---|---|---|---|---|\n",
       "| 27            | Montana       |   5194.00     |  1002788      | 0.005179559   | 163.1854      | \n",
       "| 10            | Florida       | 105735.00     | 20222673      | 0.005228537   | 179.4303      | \n",
       "| 22            | Massachusetts |  36128.00     |  6794422      | 0.005317303   | 164.8000      | \n",
       "| 33            | New York      | 105493.00     | 19795791      | 0.005329062   | 171.6403      | \n",
       "| 31            | New Jersey    |  48056.00     |  8958013      | 0.005364583   | 168.6333      | \n",
       "| 36            | Ohio          |  55739.00     | 10361701      | 0.005379329   | 186.8828      | \n",
       "| 23            | Michigan      |  53498.00     |  9922576      | 0.005391543   | 177.8217      | \n",
       "| 16            | Iowa          |  16936.00     |  3123899      | 0.005421430   | 166.4889      | \n",
       "| 8             | Delaware      |   5167.00     |   945934      | 0.005462326   | 178.8667      | \n",
       "| 40            | Rhode Island  |   5880.00     |  1056298      | 0.005566611   | 165.2200      | \n",
       "| 18            | Kentucky      |  24765.00     |  4425092      | 0.005596494   | 215.3158      | \n",
       "| 7             | Connecticut   |  20304.00     |  3590886      | 0.005654315   | 157.7125      | \n",
       "| 46            | Vermont       |   3548.00     |   626042      | 0.005667351   | 176.2714      | \n",
       "| 30            | New Hampshire |   7561.00     |  1330608      | 0.005682365   | 170.8800      | \n",
       "| 39            | Pennsylvania  |  75909.00     | 12802503      | 0.005929231   | 175.4224      | \n",
       "| 49            | West Virginia |  11130.00     |  1844128      | 0.006035373   | 196.7109      | \n",
       "| 20            | Maine         |   8214.00     |  1329328      | 0.006179062   | 183.1500      | \n",
       "| 29            | Nevada        |  33365.35     |  2890845      | 0.011541729   | 177.4353      | \n",
       "| 24            | Minnesota     | 170752.09     |  5489594      | 0.031104684   | 161.4816      | \n",
       "| 17            | Kansas        | 200192.10     |  2831088      | 0.070712074   | 167.8343      | \n",
       "\n",
       "\n"
      ],
      "text/plain": [
       "   rn state         total_incident popEst   incdtRatio  avgDeathRate\n",
       "1  27 Montana         5194.00       1002788 0.005179559 163.1854    \n",
       "2  10 Florida       105735.00      20222673 0.005228537 179.4303    \n",
       "3  22 Massachusetts  36128.00       6794422 0.005317303 164.8000    \n",
       "4  33 New York      105493.00      19795791 0.005329062 171.6403    \n",
       "5  31 New Jersey     48056.00       8958013 0.005364583 168.6333    \n",
       "6  36 Ohio           55739.00      10361701 0.005379329 186.8828    \n",
       "7  23 Michigan       53498.00       9922576 0.005391543 177.8217    \n",
       "8  16 Iowa           16936.00       3123899 0.005421430 166.4889    \n",
       "9  8  Delaware        5167.00        945934 0.005462326 178.8667    \n",
       "10 40 Rhode Island    5880.00       1056298 0.005566611 165.2200    \n",
       "11 18 Kentucky       24765.00       4425092 0.005596494 215.3158    \n",
       "12 7  Connecticut    20304.00       3590886 0.005654315 157.7125    \n",
       "13 46 Vermont         3548.00        626042 0.005667351 176.2714    \n",
       "14 30 New Hampshire   7561.00       1330608 0.005682365 170.8800    \n",
       "15 39 Pennsylvania   75909.00      12802503 0.005929231 175.4224    \n",
       "16 49 West Virginia  11130.00       1844128 0.006035373 196.7109    \n",
       "17 20 Maine           8214.00       1329328 0.006179062 183.1500    \n",
       "18 29 Nevada         33365.35       2890845 0.011541729 177.4353    \n",
       "19 24 Minnesota     170752.09       5489594 0.031104684 161.4816    \n",
       "20 17 Kansas        200192.10       2831088 0.070712074 167.8343    "
      ]
     },
     "metadata": {},
     "output_type": "display_data"
    }
   ],
   "source": [
    "sum_incdt <- data.frame(aggregate(data$avgAnnCount, by=list(Category=data$state),FUN=sum))\n",
    "names(sum_incdt) <- c(\"state\",\"total_incident\")\n",
    "sum_incdt <- setDT(sum_incdt, keep.rownames = TRUE)[]\n",
    "# tail(sum_incdt[order(sum_incdt$total_incident)],20)\n",
    "\n",
    "#add the total population of state and the incident ratio\n",
    "sum_pop <- data.frame(aggregate(data$popEst2015, by=list(Category=data$state),FUN=sum))\n",
    "sum_incdt$popEst <- sum_pop$x\n",
    "sum_incdt$incdtRatio <- sum_incdt$total_incident/sum_incdt$popEst\n",
    "\n",
    "# average state-wide death rate\n",
    "sum_deathRate <- data.frame(aggregate(data$deathRate, by=list(Category=data$state),mean))\n",
    "sum_incdt$avgDeathRate <- sum_deathRate$x\n",
    "tail(sum_incdt[order(sum_incdt$incdtRatio)],20)\n"
   ]
  },
  {
   "cell_type": "markdown",
   "metadata": {},
   "source": [
    "__First__, we try to understand what is the contributing factor to the high death rate due to cancer, whether is the high cancer occurance, or is it the bad cancer treatment. Based on the table above, Kentucky is definitely not the state with the most annual occurance of cancer, at least between 2009 and 2013. In fact, it is not even in the top 20 states with the highest cancer incidents. \n",
    "<br>On top of the dataset, we introduced the total population of each state, and calculate the cancer occurance rate based on the population of each state. We re-did the top 20 states with the highest cancer occurance ratio. Kentucky appears in the list as the state with the 10th highest cancer occurance ratio. However, this is still not an alarming status that can make it have the highest cancer death rate without a close second contestant. \n",
    "<br>__Secondly__, with the cancer occurance ruled out as the leading factor to high cancer death rate, we went to look at the other factors that contribute to the extreme scenario in Kentucky. The successful treament of cancer is based on a vareity of factors: stage of cancer when screened, health insurance, employment and poverty level, etcs.<br>\n",
    "### Sub-question 3:\n",
    "health insurance is directly involved in the quality of cancer treatment, so we want to answer how different types of health insurances are affecting the effectiveness of cancer treatment. <br>"
   ]
  },
  {
   "cell_type": "code",
   "execution_count": 28,
   "metadata": {},
   "outputs": [
    {
     "name": "stderr",
     "output_type": "stream",
     "text": [
      "Private Converage\n"
     ]
    },
    {
     "data": {
      "text/plain": [
       "   Min. 1st Qu.  Median    Mean 3rd Qu.    Max. \n",
       "  52.00   60.40   65.20   65.63   71.78   77.63 "
      ]
     },
     "metadata": {},
     "output_type": "display_data"
    },
    {
     "name": "stderr",
     "output_type": "stream",
     "text": [
      "Private Employer coverage\n"
     ]
    },
    {
     "data": {
      "text/plain": [
       "   Min. 1st Qu.  Median    Mean 3rd Qu.    Max. \n",
       "  30.83   37.40   41.91   42.57   48.09   54.29 "
      ]
     },
     "metadata": {},
     "output_type": "display_data"
    },
    {
     "name": "stderr",
     "output_type": "stream",
     "text": [
      "Public Converage\n"
     ]
    },
    {
     "data": {
      "text/plain": [
       "   Min. 1st Qu.  Median    Mean 3rd Qu.    Max. \n",
       "  25.00   32.53   35.42   35.91   39.54   45.51 "
      ]
     },
     "metadata": {},
     "output_type": "display_data"
    },
    {
     "data": {
      "text/html": [
       "<table>\n",
       "<thead><tr><th scope=col>rn</th><th scope=col>state</th><th scope=col>total_incident</th><th scope=col>popEst</th><th scope=col>incdtRatio</th><th scope=col>avgDeathRate</th><th scope=col>Private_Co</th><th scope=col>PriEm_Co</th><th scope=col>Pub_Co</th></tr></thead>\n",
       "<tbody>\n",
       "\t<tr><td>26           </td><td>Missouri     </td><td>30939        </td><td>6083672      </td><td>0.005085580  </td><td>189.6948     </td><td>63.16348     </td><td>40.07913     </td><td>36.47478     </td></tr>\n",
       "\t<tr><td>1            </td><td>Alabama      </td><td>24182        </td><td>4750529      </td><td>0.005090380  </td><td>192.7286     </td><td>61.48571     </td><td>38.48730     </td><td>39.32063     </td></tr>\n",
       "\t<tr><td>2            </td><td>Alaska       </td><td> 2512        </td><td> 706895      </td><td>0.003553569  </td><td>193.4167     </td><td>56.79444     </td><td>39.77222     </td><td>28.75000     </td></tr>\n",
       "\t<tr><td>37           </td><td>Oklahoma     </td><td>18555        </td><td>3911338      </td><td>0.004743901  </td><td>193.9494     </td><td>59.65325     </td><td>37.29481     </td><td>36.38052     </td></tr>\n",
       "\t<tr><td>49           </td><td>West Virginia</td><td>11130        </td><td>1844128      </td><td>0.006035373  </td><td>196.7109     </td><td>60.77636     </td><td>40.61273     </td><td>42.84364     </td></tr>\n",
       "\t<tr><td>19           </td><td>Louisiana    </td><td>23242        </td><td>4670724      </td><td>0.004976102  </td><td>197.6734     </td><td>57.03906     </td><td>37.90000     </td><td>37.36250     </td></tr>\n",
       "\t<tr><td>4            </td><td>Arkansas     </td><td>14762        </td><td>2978204      </td><td>0.004956679  </td><td>200.0907     </td><td>54.35333     </td><td>33.29867     </td><td>44.21467     </td></tr>\n",
       "\t<tr><td>43           </td><td>Tennessee    </td><td>33284        </td><td>6600299      </td><td>0.005042802  </td><td>200.8758     </td><td>60.56737     </td><td>38.53684     </td><td>39.93895     </td></tr>\n",
       "\t<tr><td>25           </td><td>Mississippi  </td><td>15007        </td><td>2992333      </td><td>0.005015150  </td><td>202.8378     </td><td>52.56707     </td><td>34.20122     </td><td>41.98049     </td></tr>\n",
       "\t<tr><td>18           </td><td>Kentucky     </td><td>24765        </td><td>4425092      </td><td>0.005596494  </td><td>215.3158     </td><td>59.02000     </td><td>39.64833     </td><td>41.30083     </td></tr>\n",
       "</tbody>\n",
       "</table>\n"
      ],
      "text/latex": [
       "\\begin{tabular}{r|lllllllll}\n",
       " rn & state & total\\_incident & popEst & incdtRatio & avgDeathRate & Private\\_Co & PriEm\\_Co & Pub\\_Co\\\\\n",
       "\\hline\n",
       "\t 26            & Missouri      & 30939         & 6083672       & 0.005085580   & 189.6948      & 63.16348      & 40.07913      & 36.47478     \\\\\n",
       "\t 1             & Alabama       & 24182         & 4750529       & 0.005090380   & 192.7286      & 61.48571      & 38.48730      & 39.32063     \\\\\n",
       "\t 2             & Alaska        &  2512         &  706895       & 0.003553569   & 193.4167      & 56.79444      & 39.77222      & 28.75000     \\\\\n",
       "\t 37            & Oklahoma      & 18555         & 3911338       & 0.004743901   & 193.9494      & 59.65325      & 37.29481      & 36.38052     \\\\\n",
       "\t 49            & West Virginia & 11130         & 1844128       & 0.006035373   & 196.7109      & 60.77636      & 40.61273      & 42.84364     \\\\\n",
       "\t 19            & Louisiana     & 23242         & 4670724       & 0.004976102   & 197.6734      & 57.03906      & 37.90000      & 37.36250     \\\\\n",
       "\t 4             & Arkansas      & 14762         & 2978204       & 0.004956679   & 200.0907      & 54.35333      & 33.29867      & 44.21467     \\\\\n",
       "\t 43            & Tennessee     & 33284         & 6600299       & 0.005042802   & 200.8758      & 60.56737      & 38.53684      & 39.93895     \\\\\n",
       "\t 25            & Mississippi   & 15007         & 2992333       & 0.005015150   & 202.8378      & 52.56707      & 34.20122      & 41.98049     \\\\\n",
       "\t 18            & Kentucky      & 24765         & 4425092       & 0.005596494   & 215.3158      & 59.02000      & 39.64833      & 41.30083     \\\\\n",
       "\\end{tabular}\n"
      ],
      "text/markdown": [
       "\n",
       "rn | state | total_incident | popEst | incdtRatio | avgDeathRate | Private_Co | PriEm_Co | Pub_Co | \n",
       "|---|---|---|---|---|---|---|---|---|---|\n",
       "| 26            | Missouri      | 30939         | 6083672       | 0.005085580   | 189.6948      | 63.16348      | 40.07913      | 36.47478      | \n",
       "| 1             | Alabama       | 24182         | 4750529       | 0.005090380   | 192.7286      | 61.48571      | 38.48730      | 39.32063      | \n",
       "| 2             | Alaska        |  2512         |  706895       | 0.003553569   | 193.4167      | 56.79444      | 39.77222      | 28.75000      | \n",
       "| 37            | Oklahoma      | 18555         | 3911338       | 0.004743901   | 193.9494      | 59.65325      | 37.29481      | 36.38052      | \n",
       "| 49            | West Virginia | 11130         | 1844128       | 0.006035373   | 196.7109      | 60.77636      | 40.61273      | 42.84364      | \n",
       "| 19            | Louisiana     | 23242         | 4670724       | 0.004976102   | 197.6734      | 57.03906      | 37.90000      | 37.36250      | \n",
       "| 4             | Arkansas      | 14762         | 2978204       | 0.004956679   | 200.0907      | 54.35333      | 33.29867      | 44.21467      | \n",
       "| 43            | Tennessee     | 33284         | 6600299       | 0.005042802   | 200.8758      | 60.56737      | 38.53684      | 39.93895      | \n",
       "| 25            | Mississippi   | 15007         | 2992333       | 0.005015150   | 202.8378      | 52.56707      | 34.20122      | 41.98049      | \n",
       "| 18            | Kentucky      | 24765         | 4425092       | 0.005596494   | 215.3158      | 59.02000      | 39.64833      | 41.30083      | \n",
       "\n",
       "\n"
      ],
      "text/plain": [
       "   rn state         total_incident popEst  incdtRatio  avgDeathRate Private_Co\n",
       "1  26 Missouri      30939          6083672 0.005085580 189.6948     63.16348  \n",
       "2  1  Alabama       24182          4750529 0.005090380 192.7286     61.48571  \n",
       "3  2  Alaska         2512           706895 0.003553569 193.4167     56.79444  \n",
       "4  37 Oklahoma      18555          3911338 0.004743901 193.9494     59.65325  \n",
       "5  49 West Virginia 11130          1844128 0.006035373 196.7109     60.77636  \n",
       "6  19 Louisiana     23242          4670724 0.004976102 197.6734     57.03906  \n",
       "7  4  Arkansas      14762          2978204 0.004956679 200.0907     54.35333  \n",
       "8  43 Tennessee     33284          6600299 0.005042802 200.8758     60.56737  \n",
       "9  25 Mississippi   15007          2992333 0.005015150 202.8378     52.56707  \n",
       "10 18 Kentucky      24765          4425092 0.005596494 215.3158     59.02000  \n",
       "   PriEm_Co Pub_Co  \n",
       "1  40.07913 36.47478\n",
       "2  38.48730 39.32063\n",
       "3  39.77222 28.75000\n",
       "4  37.29481 36.38052\n",
       "5  40.61273 42.84364\n",
       "6  37.90000 37.36250\n",
       "7  33.29867 44.21467\n",
       "8  38.53684 39.93895\n",
       "9  34.20122 41.98049\n",
       "10 39.64833 41.30083"
      ]
     },
     "metadata": {},
     "output_type": "display_data"
    },
    {
     "data": {
      "text/html": [
       "<table>\n",
       "<thead><tr><th scope=col>rn</th><th scope=col>state</th><th scope=col>total_incident</th><th scope=col>popEst</th><th scope=col>incdtRatio</th><th scope=col>avgDeathRate</th><th scope=col>Private_Co</th><th scope=col>PriEm_Co</th><th scope=col>Pub_Co</th></tr></thead>\n",
       "<tbody>\n",
       "\t<tr><td>45         </td><td>Utah       </td><td> 9190      </td><td>2993293    </td><td>0.003070197</td><td>135.7519   </td><td>70.95926   </td><td>50.29259   </td><td>25.00370   </td></tr>\n",
       "\t<tr><td>6          </td><td>Colorado   </td><td>21001      </td><td>5453017    </td><td>0.003851263</td><td>141.5617   </td><td>62.87000   </td><td>38.96833   </td><td>34.56000   </td></tr>\n",
       "\t<tr><td>12         </td><td>Hawaii     </td><td> 6617      </td><td>1431514    </td><td>0.004622379</td><td>142.9750   </td><td>72.05000   </td><td>48.87500   </td><td>33.60000   </td></tr>\n",
       "\t<tr><td>3          </td><td>Arizona    </td><td>27051      </td><td>6828065    </td><td>0.003961737</td><td>149.0867   </td><td>54.80000   </td><td>32.51333   </td><td>43.96667   </td></tr>\n",
       "\t<tr><td>13         </td><td>Idaho      </td><td> 7221      </td><td>1652984    </td><td>0.004368463</td><td>154.2024   </td><td>63.70238   </td><td>37.23333   </td><td>33.71190   </td></tr>\n",
       "</tbody>\n",
       "</table>\n"
      ],
      "text/latex": [
       "\\begin{tabular}{r|lllllllll}\n",
       " rn & state & total\\_incident & popEst & incdtRatio & avgDeathRate & Private\\_Co & PriEm\\_Co & Pub\\_Co\\\\\n",
       "\\hline\n",
       "\t 45          & Utah        &  9190       & 2993293     & 0.003070197 & 135.7519    & 70.95926    & 50.29259    & 25.00370   \\\\\n",
       "\t 6           & Colorado    & 21001       & 5453017     & 0.003851263 & 141.5617    & 62.87000    & 38.96833    & 34.56000   \\\\\n",
       "\t 12          & Hawaii      &  6617       & 1431514     & 0.004622379 & 142.9750    & 72.05000    & 48.87500    & 33.60000   \\\\\n",
       "\t 3           & Arizona     & 27051       & 6828065     & 0.003961737 & 149.0867    & 54.80000    & 32.51333    & 43.96667   \\\\\n",
       "\t 13          & Idaho       &  7221       & 1652984     & 0.004368463 & 154.2024    & 63.70238    & 37.23333    & 33.71190   \\\\\n",
       "\\end{tabular}\n"
      ],
      "text/markdown": [
       "\n",
       "rn | state | total_incident | popEst | incdtRatio | avgDeathRate | Private_Co | PriEm_Co | Pub_Co | \n",
       "|---|---|---|---|---|\n",
       "| 45          | Utah        |  9190       | 2993293     | 0.003070197 | 135.7519    | 70.95926    | 50.29259    | 25.00370    | \n",
       "| 6           | Colorado    | 21001       | 5453017     | 0.003851263 | 141.5617    | 62.87000    | 38.96833    | 34.56000    | \n",
       "| 12          | Hawaii      |  6617       | 1431514     | 0.004622379 | 142.9750    | 72.05000    | 48.87500    | 33.60000    | \n",
       "| 3           | Arizona     | 27051       | 6828065     | 0.003961737 | 149.0867    | 54.80000    | 32.51333    | 43.96667    | \n",
       "| 13          | Idaho       |  7221       | 1652984     | 0.004368463 | 154.2024    | 63.70238    | 37.23333    | 33.71190    | \n",
       "\n",
       "\n"
      ],
      "text/plain": [
       "  rn state    total_incident popEst  incdtRatio  avgDeathRate Private_Co\n",
       "1 45 Utah      9190          2993293 0.003070197 135.7519     70.95926  \n",
       "2 6  Colorado 21001          5453017 0.003851263 141.5617     62.87000  \n",
       "3 12 Hawaii    6617          1431514 0.004622379 142.9750     72.05000  \n",
       "4 3  Arizona  27051          6828065 0.003961737 149.0867     54.80000  \n",
       "5 13 Idaho     7221          1652984 0.004368463 154.2024     63.70238  \n",
       "  PriEm_Co Pub_Co  \n",
       "1 50.29259 25.00370\n",
       "2 38.96833 34.56000\n",
       "3 48.87500 33.60000\n",
       "4 32.51333 43.96667\n",
       "5 37.23333 33.71190"
      ]
     },
     "metadata": {},
     "output_type": "display_data"
    }
   ],
   "source": [
    "# add to the table above with insurance coverage\n",
    "# average private coverage by state\n",
    "sum_PriCov <- data.frame(aggregate(data$PctPrivateCoverage, by=list(Category=data$state),mean))\n",
    "\n",
    "# average private employed coverage by state\n",
    "sum_PriEmCov <- data.frame(aggregate(data$PctEmpPrivCoverage, by=list(Category=data$state),mean))\n",
    "# average public coverage by state\n",
    "sum_PubCov <- data.frame(aggregate(data$PctPublicCoverage, by=list(Category=data$state),mean))\n",
    "\n",
    "sum_incdt$Private_Co <- sum_PriCov$x\n",
    "sum_incdt$PriEm_Co <- sum_PriEmCov$x\n",
    "sum_incdt$Pub_Co <- sum_PubCov$x\n",
    "\n",
    "# head(sum_incdt[order(sum_incdt$Private_Co)],10)\n",
    "# head(sum_incdt[order(sum_incdt$PriEm_Co)],10)\n",
    "# tail(sum_incdt[order(sum_incdt$Pub_Co)],10)\n",
    "message(\"Private Converage\")\n",
    "summary(sum_incdt$Private_Co)\n",
    "message(\"Private Employer coverage\")\n",
    "summary(sum_incdt$PriEm_Co)\n",
    "message(\"Public Converage\")\n",
    "summary(sum_incdt$Pub_Co)\n",
    "tail(sum_incdt[order(sum_incdt$avgDeathRate)],10)\n",
    "head(sum_incdt[order(sum_incdt$avgDeathRate)],5)\n",
    "\n",
    "\n"
   ]
  },
  {
   "cell_type": "markdown",
   "metadata": {},
   "source": [
    "The summary and table above show the state wide percentage of health insurance coverage of different types. the table above is ranked by total death rate from cancer. We can draw the following conclusions from the table above:<br>\n",
    "- all states have private insurance coverage percentage lower than the national median, and with most lower than the first quartile\n",
    "- the situation is similar with private employer provided coverage\n",
    "- all the states in the top ten list have public health insurance coverage percentage higher than the national median, and with most higher than the third quartile. However, besides state Arkansas, they are not as high as the national maximum<br>\n",
    "\n",
    "<br>From the above analysis, we see that states with higher cancer death rate tend to have very low percentage of private insurance coverage. From the opposite end, we see that states with lowest cancer death rate have:<br>\n",
    "- very high private insurance coverage, relatively high private employer coverage and relatively low public coverage\n",
    "\n",
    "<br> Based on the analysis above, we have the reason to believe that having higher coverage from private insurance providers seem to have better cancer treatment rate. Therefore, in the following analysis, we are looking at the employment rate and income for the states with higher cancer death rate"
   ]
  },
  {
   "cell_type": "code",
   "execution_count": 29,
   "metadata": {},
   "outputs": [
    {
     "name": "stderr",
     "output_type": "stream",
     "text": [
      "Poverty Percentage\n"
     ]
    },
    {
     "data": {
      "text/plain": [
       "   Min. 1st Qu.  Median    Mean 3rd Qu.    Max. \n",
       "  9.838  12.685  15.081  15.875  18.625  25.399 "
      ]
     },
     "metadata": {},
     "output_type": "display_data"
    },
    {
     "name": "stderr",
     "output_type": "stream",
     "text": [
      "median income\n"
     ]
    },
    {
     "data": {
      "text/plain": [
       "   Min. 1st Qu.  Median    Mean 3rd Qu.    Max. \n",
       "  35659   43438   50044   50575   55450   72135 "
      ]
     },
     "metadata": {},
     "output_type": "display_data"
    },
    {
     "name": "stderr",
     "output_type": "stream",
     "text": [
      "Percentage Employed\n"
     ]
    },
    {
     "data": {
      "text/plain": [
       "   Min. 1st Qu.  Median    Mean 3rd Qu.    Max. \n",
       "  45.37   50.50   55.72   55.38   60.64   63.81 "
      ]
     },
     "metadata": {},
     "output_type": "display_data"
    },
    {
     "data": {
      "text/html": [
       "<table>\n",
       "<thead><tr><th scope=col>rn</th><th scope=col>state</th><th scope=col>total_incident</th><th scope=col>popEst</th><th scope=col>incdtRatio</th><th scope=col>avgDeathRate</th><th scope=col>Private_Co</th><th scope=col>PriEm_Co</th><th scope=col>Pub_Co</th><th scope=col>PovPerc</th><th scope=col>income</th><th scope=col>Employed</th></tr></thead>\n",
       "<tbody>\n",
       "\t<tr><td>26           </td><td>Missouri     </td><td>30939        </td><td>6083672      </td><td>0.005085580  </td><td>189.6948     </td><td>63.16348     </td><td>40.07913     </td><td>36.47478     </td><td>17.97652     </td><td>41522.63     </td><td>53.35000     </td></tr>\n",
       "\t<tr><td>1            </td><td>Alabama      </td><td>24182        </td><td>4750529      </td><td>0.005090380  </td><td>192.7286     </td><td>61.48571     </td><td>38.48730     </td><td>39.32063     </td><td>21.94286     </td><td>38871.13     </td><td>47.92167     </td></tr>\n",
       "\t<tr><td>2            </td><td>Alaska       </td><td> 2512        </td><td> 706895      </td><td>0.003553569  </td><td>193.4167     </td><td>56.79444     </td><td>39.77222     </td><td>28.75000     </td><td>13.89444     </td><td>63487.78     </td><td>60.68125     </td></tr>\n",
       "\t<tr><td>37           </td><td>Oklahoma     </td><td>18555        </td><td>3911338      </td><td>0.004743901  </td><td>193.9494     </td><td>59.65325     </td><td>37.29481     </td><td>36.38052     </td><td>17.68961     </td><td>43818.78     </td><td>53.37867     </td></tr>\n",
       "\t<tr><td>49           </td><td>West Virginia</td><td>11130        </td><td>1844128      </td><td>0.006035373  </td><td>196.7109     </td><td>60.77636     </td><td>40.61273     </td><td>42.84364     </td><td>19.34909     </td><td>39391.80     </td><td>46.63333     </td></tr>\n",
       "\t<tr><td>19           </td><td>Louisiana    </td><td>23242        </td><td>4670724      </td><td>0.004976102  </td><td>197.6734     </td><td>57.03906     </td><td>37.90000     </td><td>37.36250     </td><td>22.24063     </td><td>41705.95     </td><td>49.84407     </td></tr>\n",
       "\t<tr><td>4            </td><td>Arkansas     </td><td>14762        </td><td>2978204      </td><td>0.004956679  </td><td>200.0907     </td><td>54.35333     </td><td>33.29867     </td><td>44.21467     </td><td>21.34133     </td><td>37577.95     </td><td>49.24648     </td></tr>\n",
       "\t<tr><td>43           </td><td>Tennessee    </td><td>33284        </td><td>6600299      </td><td>0.005042802  </td><td>200.8758     </td><td>60.56737     </td><td>38.53684     </td><td>39.93895     </td><td>19.73053     </td><td>40645.47     </td><td>49.71000     </td></tr>\n",
       "\t<tr><td>25           </td><td>Mississippi  </td><td>15007        </td><td>2992333      </td><td>0.005015150  </td><td>202.8378     </td><td>52.56707     </td><td>34.20122     </td><td>41.98049     </td><td>25.39878     </td><td>35659.48     </td><td>47.12785     </td></tr>\n",
       "\t<tr><td>18           </td><td>Kentucky     </td><td>24765        </td><td>4425092      </td><td>0.005596494  </td><td>215.3158     </td><td>59.02000     </td><td>39.64833     </td><td>41.30083     </td><td>21.85333     </td><td>39687.22     </td><td>48.62768     </td></tr>\n",
       "</tbody>\n",
       "</table>\n"
      ],
      "text/latex": [
       "\\begin{tabular}{r|llllllllllll}\n",
       " rn & state & total\\_incident & popEst & incdtRatio & avgDeathRate & Private\\_Co & PriEm\\_Co & Pub\\_Co & PovPerc & income & Employed\\\\\n",
       "\\hline\n",
       "\t 26            & Missouri      & 30939         & 6083672       & 0.005085580   & 189.6948      & 63.16348      & 40.07913      & 36.47478      & 17.97652      & 41522.63      & 53.35000     \\\\\n",
       "\t 1             & Alabama       & 24182         & 4750529       & 0.005090380   & 192.7286      & 61.48571      & 38.48730      & 39.32063      & 21.94286      & 38871.13      & 47.92167     \\\\\n",
       "\t 2             & Alaska        &  2512         &  706895       & 0.003553569   & 193.4167      & 56.79444      & 39.77222      & 28.75000      & 13.89444      & 63487.78      & 60.68125     \\\\\n",
       "\t 37            & Oklahoma      & 18555         & 3911338       & 0.004743901   & 193.9494      & 59.65325      & 37.29481      & 36.38052      & 17.68961      & 43818.78      & 53.37867     \\\\\n",
       "\t 49            & West Virginia & 11130         & 1844128       & 0.006035373   & 196.7109      & 60.77636      & 40.61273      & 42.84364      & 19.34909      & 39391.80      & 46.63333     \\\\\n",
       "\t 19            & Louisiana     & 23242         & 4670724       & 0.004976102   & 197.6734      & 57.03906      & 37.90000      & 37.36250      & 22.24063      & 41705.95      & 49.84407     \\\\\n",
       "\t 4             & Arkansas      & 14762         & 2978204       & 0.004956679   & 200.0907      & 54.35333      & 33.29867      & 44.21467      & 21.34133      & 37577.95      & 49.24648     \\\\\n",
       "\t 43            & Tennessee     & 33284         & 6600299       & 0.005042802   & 200.8758      & 60.56737      & 38.53684      & 39.93895      & 19.73053      & 40645.47      & 49.71000     \\\\\n",
       "\t 25            & Mississippi   & 15007         & 2992333       & 0.005015150   & 202.8378      & 52.56707      & 34.20122      & 41.98049      & 25.39878      & 35659.48      & 47.12785     \\\\\n",
       "\t 18            & Kentucky      & 24765         & 4425092       & 0.005596494   & 215.3158      & 59.02000      & 39.64833      & 41.30083      & 21.85333      & 39687.22      & 48.62768     \\\\\n",
       "\\end{tabular}\n"
      ],
      "text/markdown": [
       "\n",
       "rn | state | total_incident | popEst | incdtRatio | avgDeathRate | Private_Co | PriEm_Co | Pub_Co | PovPerc | income | Employed | \n",
       "|---|---|---|---|---|---|---|---|---|---|\n",
       "| 26            | Missouri      | 30939         | 6083672       | 0.005085580   | 189.6948      | 63.16348      | 40.07913      | 36.47478      | 17.97652      | 41522.63      | 53.35000      | \n",
       "| 1             | Alabama       | 24182         | 4750529       | 0.005090380   | 192.7286      | 61.48571      | 38.48730      | 39.32063      | 21.94286      | 38871.13      | 47.92167      | \n",
       "| 2             | Alaska        |  2512         |  706895       | 0.003553569   | 193.4167      | 56.79444      | 39.77222      | 28.75000      | 13.89444      | 63487.78      | 60.68125      | \n",
       "| 37            | Oklahoma      | 18555         | 3911338       | 0.004743901   | 193.9494      | 59.65325      | 37.29481      | 36.38052      | 17.68961      | 43818.78      | 53.37867      | \n",
       "| 49            | West Virginia | 11130         | 1844128       | 0.006035373   | 196.7109      | 60.77636      | 40.61273      | 42.84364      | 19.34909      | 39391.80      | 46.63333      | \n",
       "| 19            | Louisiana     | 23242         | 4670724       | 0.004976102   | 197.6734      | 57.03906      | 37.90000      | 37.36250      | 22.24063      | 41705.95      | 49.84407      | \n",
       "| 4             | Arkansas      | 14762         | 2978204       | 0.004956679   | 200.0907      | 54.35333      | 33.29867      | 44.21467      | 21.34133      | 37577.95      | 49.24648      | \n",
       "| 43            | Tennessee     | 33284         | 6600299       | 0.005042802   | 200.8758      | 60.56737      | 38.53684      | 39.93895      | 19.73053      | 40645.47      | 49.71000      | \n",
       "| 25            | Mississippi   | 15007         | 2992333       | 0.005015150   | 202.8378      | 52.56707      | 34.20122      | 41.98049      | 25.39878      | 35659.48      | 47.12785      | \n",
       "| 18            | Kentucky      | 24765         | 4425092       | 0.005596494   | 215.3158      | 59.02000      | 39.64833      | 41.30083      | 21.85333      | 39687.22      | 48.62768      | \n",
       "\n",
       "\n"
      ],
      "text/plain": [
       "   rn state         total_incident popEst  incdtRatio  avgDeathRate Private_Co\n",
       "1  26 Missouri      30939          6083672 0.005085580 189.6948     63.16348  \n",
       "2  1  Alabama       24182          4750529 0.005090380 192.7286     61.48571  \n",
       "3  2  Alaska         2512           706895 0.003553569 193.4167     56.79444  \n",
       "4  37 Oklahoma      18555          3911338 0.004743901 193.9494     59.65325  \n",
       "5  49 West Virginia 11130          1844128 0.006035373 196.7109     60.77636  \n",
       "6  19 Louisiana     23242          4670724 0.004976102 197.6734     57.03906  \n",
       "7  4  Arkansas      14762          2978204 0.004956679 200.0907     54.35333  \n",
       "8  43 Tennessee     33284          6600299 0.005042802 200.8758     60.56737  \n",
       "9  25 Mississippi   15007          2992333 0.005015150 202.8378     52.56707  \n",
       "10 18 Kentucky      24765          4425092 0.005596494 215.3158     59.02000  \n",
       "   PriEm_Co Pub_Co   PovPerc  income   Employed\n",
       "1  40.07913 36.47478 17.97652 41522.63 53.35000\n",
       "2  38.48730 39.32063 21.94286 38871.13 47.92167\n",
       "3  39.77222 28.75000 13.89444 63487.78 60.68125\n",
       "4  37.29481 36.38052 17.68961 43818.78 53.37867\n",
       "5  40.61273 42.84364 19.34909 39391.80 46.63333\n",
       "6  37.90000 37.36250 22.24063 41705.95 49.84407\n",
       "7  33.29867 44.21467 21.34133 37577.95 49.24648\n",
       "8  38.53684 39.93895 19.73053 40645.47 49.71000\n",
       "9  34.20122 41.98049 25.39878 35659.48 47.12785\n",
       "10 39.64833 41.30083 21.85333 39687.22 48.62768"
      ]
     },
     "metadata": {},
     "output_type": "display_data"
    }
   ],
   "source": [
    "sum_PovPerc <- data.frame(aggregate(data$povertyPercent, by=list(Category=data$state),mean))\n",
    "\n",
    "# average private employed coverage by state\n",
    "sum_income <- data.frame(aggregate(data$medIncome, by=list(Category=data$state),mean))\n",
    "# average public coverage by state\n",
    "sum_Employed <- data.frame(aggregate(data$PctEmployed16_Over, by=list(Category=data$state),mean, na.rm = T))\n",
    "\n",
    "sum_incdt$PovPerc <- sum_PovPerc$x\n",
    "sum_incdt$income <- sum_income$x\n",
    "sum_incdt$Employed <- sum_Employed$x\n",
    "\n",
    "message(\"Poverty Percentage\")\n",
    "summary(sum_incdt$PovPerc)\n",
    "message(\"median income\")\n",
    "summary(sum_incdt$income)\n",
    "message(\"Percentage Employed\")\n",
    "summary(sum_incdt$Employed)\n",
    "\n",
    "tail(sum_incdt[order(sum_incdt$avgDeathRate)],10)\n"
   ]
  },
  {
   "cell_type": "markdown",
   "metadata": {},
   "source": [
    "Based on the summaries and table above, we can draw the following conclusions:<br>\n",
    "- states with higher cancer death rate tend to have higher poverty level, with the exception of state Alaska. Almost all of them above the national median, with the exception of state virginia, and most close to or above the third quartile\n",
    "- besides the exception of Alaska, the median incomes across the state are all lower than national median and most between national minimum and first quartile\n",
    "- the story is pretty much the same for percentage of people employed\n"
   ]
  },
  {
   "cell_type": "markdown",
   "metadata": {},
   "source": [
    "## Conclusion"
   ]
  },
  {
   "cell_type": "markdown",
   "metadata": {},
   "source": [
    "We have seen some pattern that lower income and lower employment rate are contributing to smaller percentage of private insurance coverage, which seem to have led to worse cancer treatment and higher death rate from cancer.<br>\n",
    "\n",
    "The study shows strong correlation between cancer death rate and the percentage of private insurance coverage. The fact that almost all the states within top ten list of high cancer death rate fall into the lowest quartile of private insurance coverage is strong evidence that the private insurance coverage can contribute to better cancer treatment. to dig out the factor why private coverage is better, we would need to find data of other sources, which could be the next step for this study.\n",
    "\n",
    "Also, it does not mean that public coverage does not fulfill the job. There are exceptions that states with higher public coverage also have lower cancer death rate. The reason could be the better facilities or cancer research centers specific to those states. the next step could be to find the differences in public coverage between different states, and how effective they are in minimizing cancer death rate."
   ]
  }
 ],
 "metadata": {
  "kernelspec": {
   "display_name": "R",
   "language": "R",
   "name": "ir"
  },
  "language_info": {
   "codemirror_mode": "r",
   "file_extension": ".r",
   "mimetype": "text/x-r-source",
   "name": "R",
   "pygments_lexer": "r",
   "version": "3.5.1"
  }
 },
 "nbformat": 4,
 "nbformat_minor": 2
}
