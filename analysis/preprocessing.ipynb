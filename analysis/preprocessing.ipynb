{
 "cells": [
  {
   "cell_type": "code",
   "execution_count": 2,
   "metadata": {},
   "outputs": [],
   "source": [
    "#may need to change address depending on where you have it saved\n",
    "data <- read.csv(\"../project materials/cancer.csv\")\n",
    "\n",
    "# split into states\n",
    "data$Geography <- as.character(data$Geography)\n",
    "split.geo <- strsplit(as.character(data$Geography), \", \")\n",
    "states <- sapply(split.geo, \n",
    "                 function(x){\n",
    "                   return(x[2])\n",
    "                   })\n",
    "data$state <- as.factor(states)\n",
    "\n",
    "#median age -> NA over 65\n",
    "data$MedianAge[data$MedianAge > 65] <- NA\n",
    "\n",
    "#average household -> NA for over 1\n",
    "data$AvgHouseholdSize[data$AvgHouseholdSize < 1] <- NA\n",
    "\n",
    "#one zero val for % high school 18-24 -> set to NA\n",
    "data$PctHS18_24[data$PctHS18_24 == 0] <- NA\n",
    "\n",
    "#popest2015 -> keep both a log transform + original data in separate columns\n",
    "data$logpopEst2015 <- log(data$popEst2015)\n"
   ]
  },
  {
   "cell_type": "code",
   "execution_count": null,
   "metadata": {},
   "outputs": [],
   "source": []
  },
  {
   "cell_type": "code",
   "execution_count": null,
   "metadata": {
    "collapsed": true
   },
   "outputs": [],
   "source": []
  }
 ],
 "metadata": {
  "kernelspec": {
   "display_name": "R",
   "language": "R",
   "name": "ir"
  },
  "language_info": {
   "codemirror_mode": "r",
   "file_extension": ".r",
   "mimetype": "text/x-r-source",
   "name": "R",
   "pygments_lexer": "r",
   "version": "3.4.3"
  }
 },
 "nbformat": 4,
 "nbformat_minor": 2
}
